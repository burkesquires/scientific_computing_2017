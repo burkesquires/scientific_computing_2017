{
 "cells": [
  {
   "cell_type": "markdown",
   "metadata": {},
   "source": [
    "# Unit 1: Programming Basics\n",
    "## Lesson 1: Introduction to Python"
   ]
  },
  {
   "cell_type": "markdown",
   "metadata": {},
   "source": [
    "# ?? ROLES??"
   ]
  },
  {
   "cell_type": "markdown",
   "metadata": {},
   "source": [
    "## Computational Focus: Introduction to Python"
   ]
  },
  {
   "cell_type": "markdown",
   "metadata": {},
   "source": [
    "### Model 1: Expressions"
   ]
  },
  {
   "cell_type": "markdown",
   "metadata": {},
   "source": [
    "Make sure you know how to use the Jupyter Notebook to execute Python code. <p>\n",
    "If we type a Python ***expression*** (code that has a value) at the prompt, Python will show us the value of that expression, similar to a calculator.<p>\n",
    "**Do not type any code yet! Predict the output of each of the following expressions first!**"
   ]
  },
  {
   "cell_type": "markdown",
   "metadata": {},
   "source": [
    "Expression: 2+3 <br>\n",
    "Predicted Output: _(your prediction)_"
   ]
  },
  {
   "cell_type": "markdown",
   "metadata": {},
   "source": [
    "Expression: \"2+3\" <br>\n",
    "Predicted Output: _(your prediction)_"
   ]
  },
  {
   "cell_type": "markdown",
   "metadata": {},
   "source": [
    "Expression: 3*4+2Predicted  <br>\n",
    "Predicted Output: _(your prediction)_"
   ]
  },
  {
   "cell_type": "markdown",
   "metadata": {},
   "source": [
    "Expression: 3*4+2.0 <br>\n",
    "Predicted Output: _(your prediction)_"
   ]
  },
  {
   "cell_type": "markdown",
   "metadata": {},
   "source": [
    "Expression: 3(4+2) <br>\n",
    "Predicted Output: _(your prediction)_"
   ]
  },
  {
   "cell_type": "markdown",
   "metadata": {},
   "source": [
    "Expression: 3*(4+2) <br>\n",
    "Predicted Output: _(your prediction)_"
   ]
  },
  {
   "cell_type": "markdown",
   "metadata": {},
   "source": [
    "Expression: 3-10/2 <br>\n",
    "Predicted Output: _(your prediction)_"
   ]
  },
  {
   "cell_type": "markdown",
   "metadata": {},
   "source": [
    "Expression: 5/9 <br>\n",
    "Predicted Output: _(your prediction)_"
   ]
  },
  {
   "cell_type": "markdown",
   "metadata": {},
   "source": [
    "Expression: 5.00/9.00 <br>\n",
    "Predicted Output: _(your prediction)_"
   ]
  },
  {
   "cell_type": "markdown",
   "metadata": {},
   "source": [
    "Expression: 5//9 <br>\n",
    "Predicted Output: _(your prediction)_"
   ]
  },
  {
   "cell_type": "markdown",
   "metadata": {},
   "source": [
    "Expression: 8/4 <br>\n",
    "Predicted Output: _(your prediction)_"
   ]
  },
  {
   "cell_type": "markdown",
   "metadata": {},
   "source": [
    "Expression: 8//4 <br>\n",
    "Predicted Output: _(your prediction)_"
   ]
  },
  {
   "cell_type": "markdown",
   "metadata": {},
   "source": [
    "Expression: 14/4 <br>\n",
    "Predicted Output: _(your prediction)_"
   ]
  },
  {
   "cell_type": "markdown",
   "metadata": {},
   "source": [
    "Expression: 14//4 <br>\n",
    "Predicted Output: _(your prediction)_"
   ]
  },
  {
   "cell_type": "markdown",
   "metadata": {},
   "source": [
    "Expression: 14%4 <br>\n",
    "Predicted Output: _(your prediction)_"
   ]
  },
  {
   "cell_type": "markdown",
   "metadata": {},
   "source": [
    "Expression: 2\\**4 <br>\n",
    "Predicted Output: _(your prediction)_"
   ]
  },
  {
   "cell_type": "markdown",
   "metadata": {},
   "source": [
    "#### Now go back through above adding 2 cells for each expression/prediction markdown cell:\n",
    "<ul><li>a `code` cell where execute the expression, and...\n",
    "<li>a markdown cell where you interpret the results (include whether your prediction was correct or not and comparisons to similar expressions)\n",
    "<li>for example when you're done, each expression should look like the 3 cells below (with less sarcasm in the interpretation): \n",
    "</ul>"
   ]
  },
  {
   "cell_type": "markdown",
   "metadata": {},
   "source": [
    "`Expression: 1+1 <br>\n",
    "Predicted Output: since Python does addition as normal, 1+1=3`"
   ]
  },
  {
   "cell_type": "code",
   "execution_count": 4,
   "metadata": {
    "collapsed": false
   },
   "outputs": [
    {
     "data": {
      "text/plain": [
       "2"
      ]
     },
     "execution_count": 4,
     "metadata": {},
     "output_type": "execute_result"
    }
   ],
   "source": [
    "1+1"
   ]
  },
  {
   "cell_type": "markdown",
   "metadata": {},
   "source": [
    "`Oh, snap! 1+1 actually equals 2! I should really figure out how to do _math_!!!`"
   ]
  },
  {
   "cell_type": "markdown",
   "metadata": {},
   "source": [
    "### Critical Thinking Questions"
   ]
  },
  {
   "cell_type": "markdown",
   "metadata": {},
   "source": [
    "**1\\. Describe the difference between executing the sum of two numbers inside quotation marks and without quotations (the first two lines of the above table).**"
   ]
  },
  {
   "cell_type": "markdown",
   "metadata": {},
   "source": [
    "_(your answer here, delete this)_"
   ]
  },
  {
   "cell_type": "markdown",
   "metadata": {},
   "source": [
    "**2\\. Describe the reason for the Python error that occurred.**"
   ]
  },
  {
   "cell_type": "markdown",
   "metadata": {},
   "source": [
    "_(your answer here, delete this)_"
   ]
  },
  {
   "cell_type": "markdown",
   "metadata": {},
   "source": [
    "**3\\. Explain the function of each of the divison operators:  `/`,  `//`, and  `%`.**"
   ]
  },
  {
   "cell_type": "markdown",
   "metadata": {},
   "source": [
    "_(your answer here, delete this)_"
   ]
  },
  {
   "cell_type": "markdown",
   "metadata": {},
   "source": [
    "**4\\. What does the \\*\\* operator do?**"
   ]
  },
  {
   "cell_type": "markdown",
   "metadata": {},
   "source": [
    "_(your answer here, delete this)_"
   ]
  },
  {
   "cell_type": "markdown",
   "metadata": {},
   "source": [
    "**5\\. Which lines in the Model 1 produce output with decimal values? Explain how you know Python ignores significant figures.**"
   ]
  },
  {
   "cell_type": "markdown",
   "metadata": {},
   "source": [
    "_(your answer here, delete this)_"
   ]
  },
  {
   "cell_type": "markdown",
   "metadata": {},
   "source": [
    "**6\\. Which lines in the Model 1 produce output with decimal values? Explain how you know Python ignores significant figures. **"
   ]
  },
  {
   "cell_type": "code",
   "execution_count": null,
   "metadata": {
    "collapsed": true
   },
   "outputs": [],
   "source": []
  }
 ],
 "metadata": {
  "kernelspec": {
   "display_name": "Python [default]",
   "language": "python",
   "name": "python3"
  },
  "language_info": {
   "codemirror_mode": {
    "name": "ipython",
    "version": 3
   },
   "file_extension": ".py",
   "mimetype": "text/x-python",
   "name": "python",
   "nbconvert_exporter": "python",
   "pygments_lexer": "ipython3",
   "version": "3.5.2"
  }
 },
 "nbformat": 4,
 "nbformat_minor": 1
}
