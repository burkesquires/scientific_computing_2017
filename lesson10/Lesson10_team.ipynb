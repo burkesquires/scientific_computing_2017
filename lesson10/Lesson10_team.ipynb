{
 "cells": [
  {
   "cell_type": "markdown",
   "metadata": {},
   "source": [
    "# Unit 2: Programming Design"
   ]
  },
  {
   "cell_type": "markdown",
   "metadata": {},
   "source": [
    "## Lesson 10: Strings and Biomolecules "
   ]
  },
  {
   "cell_type": "markdown",
   "metadata": {},
   "source": [
    "## Notebook Authors "
   ]
  },
  {
   "cell_type": "markdown",
   "metadata": {},
   "source": [
    "_(fill in your two names here)_"
   ]
  },
  {
   "cell_type": "markdown",
   "metadata": {},
   "source": [
    "Facilitator: _(fill in name)_  \n",
    "Spokesperson: _(fill in name)_  \n",
    "Process Analyst: _(fill in name)_  \n",
    "Quality Control: _(fill in name)_  \n",
    "\n",
    "If there are only three people in your group, have one person serve as both spokesperson and process analyst for the rest of this activity.  \n",
    "\n",
    "At the end of this Lesson, you will be asked to record how long each Model required for your team. The Facilitator should keep track of time for your team."
   ]
  },
  {
   "cell_type": "markdown",
   "metadata": {},
   "source": [
    "## Computational Focus: Strings"
   ]
  },
  {
   "cell_type": "markdown",
   "metadata": {},
   "source": [
    "### Model 1: General Sequence Operations"
   ]
  },
  {
   "cell_type": "markdown",
   "metadata": {},
   "source": [
    "Recall that a string is defined by enclosing characters (letters or numbers) in single (') or double (\") quotes, but not mixed quotes.  Depending on the application, we can treat the character string as a single entity, or access individual components just like a list using square brackets [ ]. The operator [n:m] returns a segment of a sequence called a ***slice***. *Table 1* at the end of this lesson describes several other operations that can be used with any of the Python sequence types including strings and lists."
   ]
  },
  {
   "cell_type": "markdown",
   "metadata": {},
   "source": [
    "Let's get started.  \n",
    "Type the following in separate Jupyter code cells:\n",
    "\n",
    "```python\n",
    "dna = 'CTGACCACTT'\n",
    "dna[3]\n",
    "dna[10]\n",
    "len(dna)\n",
    "dna[5:10]\n",
    "triplet = dna[2:5]\n",
    "print(triplet)\n",
    "dna[:6]\n",
    "dna[6:]\n",
    "dna2 = dna + triplet\n",
    "print(dna2)\n",
    "for base in triplet:\n",
    "    print(base)\n",
    "```"
   ]
  },
  {
   "cell_type": "markdown",
   "metadata": {},
   "source": [
    "### Critical Thinking Questions"
   ]
  },
  {
   "cell_type": "markdown",
   "metadata": {},
   "source": [
    "1\\. Consider the notation for creating a slice segment.   \n",
    "1a. Explain what `m` and `n` mean when the operator `[m:n]` is used."
   ]
  },
  {
   "cell_type": "markdown",
   "metadata": {},
   "source": [
    "1b. Explain what does it means when m or n are not used in creating a slice, as in `[m:]` or `[:n]`. "
   ]
  },
  {
   "cell_type": "markdown",
   "metadata": {},
   "source": [
    "2\\. Why does the statement `dna[5:10]` execute successfully, but `dna[10]` doesn’t?"
   ]
  },
  {
   "cell_type": "markdown",
   "metadata": {},
   "source": [
    "3\\. Give two different Python statements to access the first three elements of the string. Explain how/why each works."
   ]
  },
  {
   "cell_type": "markdown",
   "metadata": {},
   "source": [
    "4\\. Write a Python statement to create a new string `dna3 = ‘GACT’` using only variables and operations introduced in Model 1.  "
   ]
  },
  {
   "cell_type": "markdown",
   "metadata": {},
   "source": [
    "### Model 2: String Methods"
   ]
  },
  {
   "cell_type": "markdown",
   "metadata": {},
   "source": [
    "Like a list, a Python string has several built-in capabilities (methods) that can be called using the dot notation.  A list of string methods is provided in *Table 2* at the end of this handout. You can always view the methods available to an object by using the `dir` (directory) command."
   ]
  },
  {
   "cell_type": "markdown",
   "metadata": {},
   "source": [
    "Let's explore some string methods.  \n",
    "Type the following in separate Jupyter code cells:\n",
    "\n",
    "```python\n",
    "dna = 'CTGACCACTT'\n",
    "dna.lower()\n",
    "print(dna)\n",
    "lowercase = dna.lower()\n",
    "print(lowercase)\n",
    "dna = dna.split('A')\n",
    "print(dna)\n",
    "print(dna[0])\n",
    "dna[0].replace('C','g')\n",
    "lowercase.replace('c','G')\n",
    "print(lowercase)\n",
    "dir(lowercase)\n",
    "```"
   ]
  },
  {
   "cell_type": "markdown",
   "metadata": {},
   "source": [
    "### Critical Thinking Questions"
   ]
  },
  {
   "cell_type": "markdown",
   "metadata": {},
   "source": [
    "5\\. What is the result of applying the `replace` method on a string?"
   ]
  },
  {
   "cell_type": "markdown",
   "metadata": {},
   "source": [
    "6\\. Does the original string variable change after applying a string method?"
   ]
  },
  {
   "cell_type": "markdown",
   "metadata": {},
   "source": [
    "7\\. Describe the similarities and differences between using a Python string method compared to using a list method."
   ]
  },
  {
   "cell_type": "markdown",
   "metadata": {},
   "source": [
    "### Model 3: Editing a String"
   ]
  },
  {
   "cell_type": "markdown",
   "metadata": {},
   "source": [
    "Unlike lists, a single element of a string cannot be changed arbitrarily, nor can the number of elements in the string change once it has been created: strings are ***immutable***. (_whereas lists are mutable_)"
   ]
  },
  {
   "cell_type": "markdown",
   "metadata": {},
   "source": [
    "Let's explore the immutability of strings.  \n",
    "Type the following in separate Jupyter code cells:\n",
    "\n",
    "```python\n",
    "dna1 = 'AAAA'\n",
    "dna1[0] = 'G'\n",
    "dna2 = 'GAAAA'\n",
    "ldna = list(dna1)  # first letter in ldna is lowercase 'L', not number 1\n",
    "print(ldna)\n",
    "ldna[0] = 'G'\n",
    "print(ldna)\n",
    "dna2 = \"\"\n",
    "print(dna2)\n",
    "dna2 = dna2.join(ldna)\n",
    "print(dna2)\n",
    "```"
   ]
  },
  {
   "cell_type": "markdown",
   "metadata": {},
   "source": [
    "### Critical Thinking Questions"
   ]
  },
  {
   "cell_type": "markdown",
   "metadata": {},
   "source": [
    "8\\. How does changing a list to a string differ from changing a string to a list?"
   ]
  },
  {
   "cell_type": "markdown",
   "metadata": {},
   "source": [
    "9\\. What might be an advantage of turning a string into a list?"
   ]
  },
  {
   "cell_type": "markdown",
   "metadata": {},
   "source": [
    "10\\. Given a DNA sequence as a string, what programming construct (sequential code, branching or looping) would you use to print out the full sequence as individual DNA codons? (_hint: review the DNA info from the Pre-Activity_)"
   ]
  },
  {
   "cell_type": "markdown",
   "metadata": {},
   "source": [
    "11\\. Write pseudocode for a function that takes a DNA sequence string as its parameter and prints the DNA codons, ending at either a stop codon or the end of the DNA sequence string. In this first version, assume it just starts at the 1st base in the sequence. (_this is not terribly bioloically accurate, but we're getting going_)"
   ]
  },
  {
   "cell_type": "markdown",
   "metadata": {},
   "source": []
  },
  {
   "cell_type": "markdown",
   "metadata": {},
   "source": [
    "12\\. Copy, paste, and modify the pseudocode from above to only start making codons with the first ATG found in the sequence.  The pseudocode should not print anything if no ATG is found, and it does not need to worry about multiple ATG codons since any internal ATG codons just make a Met amino acid.  \n",
    "*Show your pseudocode to your instructor before declaring victory.*"
   ]
  },
  {
   "cell_type": "markdown",
   "metadata": {},
   "source": []
  },
  {
   "cell_type": "markdown",
   "metadata": {},
   "source": [
    "### Temporal Analysis Report"
   ]
  },
  {
   "cell_type": "markdown",
   "metadata": {},
   "source": [
    "How much time did it require for your team to complete each Model?"
   ]
  },
  {
   "cell_type": "markdown",
   "metadata": {},
   "source": [
    "Model 1: "
   ]
  },
  {
   "cell_type": "markdown",
   "metadata": {},
   "source": [
    "Model 2:  "
   ]
  },
  {
   "cell_type": "markdown",
   "metadata": {},
   "source": [
    "Model 3:  "
   ]
  },
  {
   "cell_type": "markdown",
   "metadata": {},
   "source": [
    "***Table 1:* Common operations with sequences** (strings, lists, dictionaries and tuples).  \n",
    "More info can be found at https://docs.python.org/3.6/library/stdtypes.html#typesseq-common   \n",
    "b and c are sequence variables, i, j, k are integers, and x is an element of b\n",
    "\n",
    "Operation | Result\n",
    ":---|:---\n",
    "`b[i]` | Indexing\n",
    "`b[i:j]` | slice of b from i to j\n",
    "`b[i:j:k]` | slice of b from i to j with step k\n",
    "`b + c` | concatenation – combines sequences together\n",
    "`b * i` | repetition – concatenate “b” a repeated number of times\n",
    "`len(b)` | Length\n",
    "`min(b)` | return smallest element\n",
    "`max(b)` | return greatest element\n",
    "`x in b` | True if an item of b is equal to x, else False\n",
    "`x not in b` | False if an item of b is equal to x, else True\n",
    "`for x in b:` | Iteration – repeats following statements once for each item in sequence"
   ]
  },
  {
   "cell_type": "markdown",
   "metadata": {},
   "source": [
    "***Table 2:* Common string methods**.  \n",
    "More string methods can be found at https://docs.python.org/3.6/library/stdtypes.html#string-methods  \n",
    "The []’s in this table indicate optional parameters.  \n",
    "\n",
    "String Method | Description\n",
    ":---|:---\n",
    "`s.count(sub [,start [, end]])` | Counts occurrences of sub between start and end\n",
    "`s.find(sub [, start [, end]])` | Finds the first occurrence of sub between start and end.  If no occurrence. find returns -1. \n",
    "`s.join(words)` | Joins the list of words with s as delimiter\n",
    "`s.lower()` | Returns a lowercase version of s\n",
    "`s.rfind(sub [, start [, end]])` | Finds the last occurrence of substring sub between start and end\n",
    "`s.split([sep [, maxsplit]]))` | Split s into maximal maxsplit words using sep as separator (default whitespace)\n",
    "`s.replace(old, new[, count])` | Return a copy of the string with all occurrences of substring old replaced by new.\n",
    "`s.splitlines([keepends])` | Return a list of the lines in the string, breaking at line boundaries.\n"
   ]
  },
  {
   "cell_type": "code",
   "execution_count": null,
   "metadata": {
    "collapsed": true
   },
   "outputs": [],
   "source": []
  }
 ],
 "metadata": {
  "anaconda-cloud": {},
  "kernelspec": {
   "display_name": "Python [default]",
   "language": "python",
   "name": "python3"
  },
  "language_info": {
   "codemirror_mode": {
    "name": "ipython",
    "version": 3
   },
   "file_extension": ".py",
   "mimetype": "text/x-python",
   "name": "python",
   "nbconvert_exporter": "python",
   "pygments_lexer": "ipython3",
   "version": "3.5.2"
  }
 },
 "nbformat": 4,
 "nbformat_minor": 2
}
