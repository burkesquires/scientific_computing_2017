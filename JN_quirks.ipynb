{
 "cells": [
  {
   "cell_type": "markdown",
   "metadata": {},
   "source": [
    "## Working in Jupyter Notebooks has some quirks"
   ]
  },
  {
   "cell_type": "markdown",
   "metadata": {},
   "source": [
    "### how to clear output\n",
    "<p>Sometimes things get really messy and you want to clear the output from a cell or a bunch of cells.\n",
    "<p>\n",
    "select the cells you want to clear the outpu from and go to this menu:  \n",
    "```\n",
    "Cell --> Current Outputs --> Clear\n",
    "```\n",
    "<p>\n",
    "or you can clear **all** of the output cells:  \n",
    "```\n",
    "Cell --> All Output --> Clear\n",
    "```\n",
    "<p>\n",
    "or you can restart the **kernel** and clear **all** of the output cells:  \n",
    "```\n",
    "Kernel --> Restart & Clear Output\n",
    "```"
   ]
  },
  {
   "cell_type": "markdown",
   "metadata": {},
   "source": [
    "### running cells in order"
   ]
  },
  {
   "cell_type": "markdown",
   "metadata": {},
   "source": [
    "The notebook runs cells in the order that you run them. I can hear you saying _Duh!_ but they are necessarily in linear order, but we can edit them and run them in any order we please. This is both a cool feature and a curse."
   ]
  },
  {
   "cell_type": "markdown",
   "metadata": {},
   "source": [
    "run the next few cells of code in order:"
   ]
  },
  {
   "cell_type": "code",
   "execution_count": null,
   "metadata": {
    "collapsed": true
   },
   "outputs": [],
   "source": [
    "trouble = 0"
   ]
  },
  {
   "cell_type": "code",
   "execution_count": null,
   "metadata": {
    "collapsed": true
   },
   "outputs": [],
   "source": [
    "trouble = trouble * 10"
   ]
  },
  {
   "cell_type": "code",
   "execution_count": null,
   "metadata": {
    "collapsed": false
   },
   "outputs": [],
   "source": [
    "trouble"
   ]
  },
  {
   "cell_type": "markdown",
   "metadata": {},
   "source": [
    "***my output the first time is:***"
   ]
  },
  {
   "cell_type": "markdown",
   "metadata": {},
   "source": [
    "now run the cell below:"
   ]
  },
  {
   "cell_type": "code",
   "execution_count": null,
   "metadata": {
    "collapsed": true
   },
   "outputs": [],
   "source": [
    "trouble = 42"
   ]
  },
  {
   "cell_type": "markdown",
   "metadata": {},
   "source": [
    "now go back up and run the **two cells** right before you recorded your output for the first time:"
   ]
  },
  {
   "cell_type": "markdown",
   "metadata": {},
   "source": [
    "notice the numbers in the `Out [ ]:` after the the code you just reran -- the number is different!<br>\n",
    "And so is your output!"
   ]
  },
  {
   "cell_type": "markdown",
   "metadata": {},
   "source": [
    "***my output the second time is:***"
   ]
  },
  {
   "cell_type": "markdown",
   "metadata": {},
   "source": [
    "***Remember -- this is both a cool feature and a curse.***<p>\n",
    "I find that if things go super-duper sideways, that restarting and running all the cells helps since this runs them all in linear/sequential order.\n",
    "<p>\n",
    "you can restart the **kernel** and run **all** of the notebook:  \n",
    "```\n",
    "Kernel --> Restart & Run All\n",
    "```"
   ]
  },
  {
   "cell_type": "markdown",
   "metadata": {},
   "source": [
    "### multiple function calls in one cell"
   ]
  },
  {
   "cell_type": "markdown",
   "metadata": {},
   "source": [
    "Another quirk is that each code cell can only have one output (one `In[ ]:`, one `Out[ ]:`)<p>\n",
    "to illustrate, assign these 2 variables"
   ]
  },
  {
   "cell_type": "code",
   "execution_count": null,
   "metadata": {
    "collapsed": true
   },
   "outputs": [],
   "source": [
    "value = 42\n",
    "name = \"Hal\""
   ]
  },
  {
   "cell_type": "markdown",
   "metadata": {},
   "source": [
    "by running a code cell with the name, the value is sent to `Out[ ]:`"
   ]
  },
  {
   "cell_type": "code",
   "execution_count": null,
   "metadata": {
    "collapsed": false
   },
   "outputs": [],
   "source": [
    "value"
   ]
  },
  {
   "cell_type": "markdown",
   "metadata": {},
   "source": [
    "see the difference when you call the `print()` function and pass it the identifier?"
   ]
  },
  {
   "cell_type": "code",
   "execution_count": null,
   "metadata": {
    "collapsed": false
   },
   "outputs": [],
   "source": [
    "print(value)"
   ]
  },
  {
   "cell_type": "markdown",
   "metadata": {},
   "source": [
    "again..."
   ]
  },
  {
   "cell_type": "code",
   "execution_count": null,
   "metadata": {
    "collapsed": false
   },
   "outputs": [],
   "source": [
    "name"
   ]
  },
  {
   "cell_type": "code",
   "execution_count": null,
   "metadata": {
    "collapsed": false
   },
   "outputs": [],
   "source": [
    "print(name)"
   ]
  },
  {
   "cell_type": "markdown",
   "metadata": {},
   "source": [
    "it gets worse when you have multiple things in a cell.<p>\n",
    "The output of a code cell can only be ***one*** thing! In this case we only see the output of the last thing in the `Out[ ]:`"
   ]
  },
  {
   "cell_type": "code",
   "execution_count": null,
   "metadata": {
    "collapsed": false
   },
   "outputs": [],
   "source": [
    "value\n",
    "name"
   ]
  },
  {
   "cell_type": "code",
   "execution_count": null,
   "metadata": {
    "collapsed": false
   },
   "outputs": [],
   "source": [
    "name\n",
    "value"
   ]
  },
  {
   "cell_type": "markdown",
   "metadata": {},
   "source": [
    "but you can print multiple things..."
   ]
  },
  {
   "cell_type": "code",
   "execution_count": null,
   "metadata": {
    "collapsed": false
   },
   "outputs": [],
   "source": [
    "print(value)\n",
    "print(name)"
   ]
  },
  {
   "cell_type": "markdown",
   "metadata": {},
   "source": [
    "notice that this one doesn't have an `Out[ ]:` since we used print.<p>\n",
    "this ***will*** get you at some point, so ***watch out for it!***"
   ]
  }
 ],
 "metadata": {
  "anaconda-cloud": {},
  "kernelspec": {
   "display_name": "Python [default]",
   "language": "python",
   "name": "python3"
  },
  "language_info": {
   "codemirror_mode": {
    "name": "ipython",
    "version": 3
   },
   "file_extension": ".py",
   "mimetype": "text/x-python",
   "name": "python",
   "nbconvert_exporter": "python",
   "pygments_lexer": "ipython3",
   "version": "3.5.2"
  }
 },
 "nbformat": 4,
 "nbformat_minor": 1
}
