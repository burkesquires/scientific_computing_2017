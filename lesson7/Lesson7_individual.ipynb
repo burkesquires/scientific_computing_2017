{
 "cells": [
  {
   "cell_type": "markdown",
   "metadata": {},
   "source": [
    "# Lesson7 Individual Assignment"
   ]
  },
  {
   "cell_type": "markdown",
   "metadata": {},
   "source": [
    "***Individual*** means that you do it yourself. You won't learn to code if you don't ***struggle for yourself*** and  ***write your own*** code. Remember that while you can discuss the general (algorithmic) way to solve a problem, you should ***not*** even be looking at anyone else's code or showing anyone else your code for an individual assignment. Ask an instructor if you are really stuck and having very specific code problems.  \n",
    "Review the **Group Work** guidelines on Cavas and/or ask an instructor if you have any questions."
   ]
  },
  {
   "cell_type": "markdown",
   "metadata": {},
   "source": [
    "## Programming Practice"
   ]
  },
  {
   "cell_type": "markdown",
   "metadata": {},
   "source": [
    "Be sure to spell all function names correctly - misspelled functions will lose points (and often break anyway since no one is sure what to type to call it). If you prefer showing your earlier, scratch work as you figure out what you are doing, please be sure that you make a final, complete, correct last function in its own cell that you then call several times to test. In other words, separate your thought process/working versions from the final one (a comment that tells us which is the final version would be lovely).\n",
    "\n",
    "Every function should have at least a docstring at the start that states what it does (see Lesson3 Team Notebook if you need a reminder). Make other comments as necessary."
   ]
  },
  {
   "cell_type": "markdown",
   "metadata": {},
   "source": [
    "### part 1"
   ]
  },
  {
   "cell_type": "markdown",
   "metadata": {},
   "source": [
    "Design the `largest_of_three` function that was described in the end of the Lesson7 Team Notebook.   \n",
    "\n",
    "It should:  \n",
    "\n",
    "* take three numbers as ***parameters*** \n",
    "* use a ***Boolean operator*** to find the largest of the three numbers\n",
    "* ***return*** the largest of the three values\n",
    "\n",
    "You should provide pseudocode (a mix of English and Python code) that describes the code that you are trying to implement. Your pseudocode should be clear about whether you plan to use if-statements, while-loops, or for-loops for this function. See this website for an example of pseudocode: https://courses.edx.org/c4x/MITx/6.00.1x/asset/files_ps04_files_WhyPseudocode.pdf "
   ]
  },
  {
   "cell_type": "markdown",
   "metadata": {},
   "source": []
  },
  {
   "cell_type": "markdown",
   "metadata": {},
   "source": [
    "Only after completing the pseudocode should you start on the Python code here:"
   ]
  },
  {
   "cell_type": "code",
   "execution_count": null,
   "metadata": {
    "collapsed": true
   },
   "outputs": [],
   "source": []
  },
  {
   "cell_type": "markdown",
   "metadata": {},
   "source": [
    "Write 4 of your own test cases, with rationales for each, then run each of them with a brief interpretation of the results. Beyond the simple \"just works\" test cases, your tests should contain (at least):  \n",
    "\n",
    "* one case with 2 equal largest values\n",
    "* one case with negative value(s)"
   ]
  },
  {
   "cell_type": "markdown",
   "metadata": {},
   "source": [
    "### part 2"
   ]
  },
  {
   "cell_type": "markdown",
   "metadata": {},
   "source": [
    "Design the `average_of_two_largest` function.   \n",
    "\n",
    "It should:  \n",
    "\n",
    "* take a single number as a ***parameter*** \n",
    "* use a loop to read in that many numbers\n",
    "* ***return*** the average of the two largest values entered\n",
    "* use ***Boolean operators*** (not methods that change the list)\n",
    "\n",
    "Again, you should provide pseudocode (a mix of English and Python code) that describes the code that you are trying to implement. Your pseudocode should be clear about whether you plan to use if-statements, while-loops, or for-loops for this function. "
   ]
  },
  {
   "cell_type": "markdown",
   "metadata": {},
   "source": [
    "parameter|numbers entered |two largest numbers|average\n",
    ":---:|:---:|:---:|:---:\n",
    "3| 5,7,9|7,9|8 \n"
   ]
  },
  {
   "cell_type": "markdown",
   "metadata": {},
   "source": [
    "After writing the pseudocode, come up with at least six test cases and the correct output that should be returned:   \n"
   ]
  },
  {
   "cell_type": "markdown",
   "metadata": {},
   "source": []
  },
  {
   "cell_type": "code",
   "execution_count": null,
   "metadata": {
    "collapsed": true
   },
   "outputs": [],
   "source": []
  }
 ],
 "metadata": {
  "anaconda-cloud": {},
  "kernelspec": {
   "display_name": "Python [default]",
   "language": "python",
   "name": "python3"
  },
  "language_info": {
   "codemirror_mode": {
    "name": "ipython",
    "version": 3
   },
   "file_extension": ".py",
   "mimetype": "text/x-python",
   "name": "python",
   "nbconvert_exporter": "python",
   "pygments_lexer": "ipython3",
   "version": "3.5.2"
  }
 },
 "nbformat": 4,
 "nbformat_minor": 1
}
