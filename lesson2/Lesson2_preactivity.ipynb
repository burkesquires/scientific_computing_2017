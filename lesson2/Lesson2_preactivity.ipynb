{
 "cells": [
  {
   "cell_type": "markdown",
   "metadata": {},
   "source": [
    "# Unit 1: Programming Basics\n",
    "## Lesson 2: Writing Useful Functions - Pre-activity "
   ]
  },
  {
   "cell_type": "markdown",
   "metadata": {},
   "source": [
    "### Scientific Context: Coordinate Systems"
   ]
  },
  {
   "cell_type": "markdown",
   "metadata": {},
   "source": [
    "The coordinate system is a method of specifying points of interest by defining distances from a fixed reference point. Typically, the most familiar representation is Cartesian coordinates, a rectangular system of measurement that enables you to locate points using horizontal and vertical coordinates. The horizontal values, called X-coordinates, are measured along the X-axis. The vertical values, called Y-coordinates, are measured along the Y-axis. The intersection of the X- and Y-axes is called the origin point, which represents the 0,0 location of the coordinate system.  Some physical systems, however, are more intuitively represented by specifying the distance and the direction from a given point. This mode of measurement is quite helpful in working with angles.  Identifying an appropriate coordinate system is one of the first, most important steps in solving many physical problems."
   ]
  },
  {
   "cell_type": "markdown",
   "metadata": {},
   "source": [
    "### Fundamental Principles:  Polar Coordinates"
   ]
  },
  {
   "cell_type": "markdown",
   "metadata": {},
   "source": [
    "The location of a point in a Cartesian plane (2D) can be expressed in either the rectangular coordinates (x, y) or the polar coordinates (r, &theta;) as shown in the figure below.  "
   ]
  },
  {
   "cell_type": "markdown",
   "metadata": {},
   "source": [
    "![alt text](http://people.westminstercollege.edu/faculty/hhu/370/images/L2_image1.jpeg \"polar coordinates\")"
   ]
  },
  {
   "cell_type": "markdown",
   "metadata": {},
   "source": [
    "The relationships between these two sets of coordinates are given by the following equations:"
   ]
  },
  {
   "cell_type": "markdown",
   "metadata": {},
   "source": [
    "$$x = r \\cos(\\theta)\\qquad\\qquad\\qquad(1)$$\n",
    "$$y = r \\sin(\\theta)\\qquad\\qquad\\qquad(2)$$\n",
    "$$r = \\sqrt{x^2 + y^2}\\qquad\\qquad\\quad(3)$$\n",
    "$$\\theta = \\tan^{-1}\\frac{y}{x}\\qquad\\qquad\\qquad(4)$$"
   ]
  },
  {
   "cell_type": "markdown",
   "metadata": {},
   "source": [
    "### Pre-Activity Questions"
   ]
  },
  {
   "cell_type": "markdown",
   "metadata": {},
   "source": [
    "**1\\. What are the polar coordinates of a point at $x=$4 cm, $y=$3 cm?**"
   ]
  },
  {
   "cell_type": "code",
   "execution_count": 1,
   "metadata": {
    "collapsed": true
   },
   "outputs": [],
   "source": [
    "## your code here\n",
    "## or \n",
    "## type what you put in calculator (safer to convert cell to markdown)"
   ]
  },
  {
   "cell_type": "markdown",
   "metadata": {},
   "source": [
    "_your explanation here (delete this)_"
   ]
  },
  {
   "cell_type": "markdown",
   "metadata": {},
   "source": [
    "**2\\. What are the rectangular coordinates of a point at $r =$ 8 cm, $\\theta = 29^\\circ$?**"
   ]
  },
  {
   "cell_type": "code",
   "execution_count": 2,
   "metadata": {
    "collapsed": true
   },
   "outputs": [],
   "source": [
    "## your code here\n",
    "## or \n",
    "## type what you put in calculator (safer to convert cell to markdown)"
   ]
  },
  {
   "cell_type": "markdown",
   "metadata": {},
   "source": [
    "_your explanation here (delete this)_"
   ]
  }
 ],
 "metadata": {
  "anaconda-cloud": {},
  "kernelspec": {
   "display_name": "Python 3",
   "language": "python",
   "name": "python3"
  },
  "language_info": {
   "codemirror_mode": {
    "name": "ipython",
    "version": 3
   },
   "file_extension": ".py",
   "mimetype": "text/x-python",
   "name": "python",
   "nbconvert_exporter": "python",
   "pygments_lexer": "ipython3",
   "version": "3.5.2"
  }
 },
 "nbformat": 4,
 "nbformat_minor": 1
}
