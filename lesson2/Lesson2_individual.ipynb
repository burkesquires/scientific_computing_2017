{
 "cells": [
  {
   "cell_type": "markdown",
   "metadata": {},
   "source": [
    "# Lesson2 Individual Assignment"
   ]
  },
  {
   "cell_type": "markdown",
   "metadata": {},
   "source": [
    "***Individual*** means that you do it yourself. You won't learn to code if you don't ***struggle for yourself*** and  ***write your own*** code. Remember that while you can discuss the general (algorithmic) way to solve a problem, you should ***not*** even be looking at anyone else's code or showing anyone else your code for an individual assignment. Ask an instructor if you are really stuck and having very specific code problems.  \n",
    "Review the **Group Work** guidelines on Cavas and/or ask an instructor if you have any questions."
   ]
  },
  {
   "cell_type": "markdown",
   "metadata": {},
   "source": [
    "## Programming Practice"
   ]
  },
  {
   "cell_type": "markdown",
   "metadata": {},
   "source": [
    "Remember this is on your own. Review the Group Work guidelines and don't forget to try a bunch of stuff, let it not work, try again, etc. You won't break anything!\n",
    "\n",
    "All test cases should include the code and results. Use markdown to comment on your results."
   ]
  },
  {
   "cell_type": "markdown",
   "metadata": {},
   "source": [
    "### part 1"
   ]
  },
  {
   "cell_type": "markdown",
   "metadata": {},
   "source": [
    "#### In this part, you will define the same function repeatedly, making improvements with each step. You should keep the earlier function definitions, making new versions in new cells, so we can see your work."
   ]
  },
  {
   "cell_type": "markdown",
   "metadata": {},
   "source": [
    "Define a function called `degrees2radians` that: \n",
    "* prompts the user for the value of the variable `degrees`. \n",
    "    * This value is converted to radians using the following relationship $$radians = \\frac{\\pi}{180}degrees$$\n",
    "* saves the new value in a variable called `radians` and \n",
    "* prints a _user-friendly_ statement that specifies both the input angle value in degrees and converted value in radians (with ***units***)"
   ]
  },
  {
   "cell_type": "code",
   "execution_count": null,
   "metadata": {
    "collapsed": true
   },
   "outputs": [],
   "source": []
  },
  {
   "cell_type": "markdown",
   "metadata": {},
   "source": [
    "Now call the `degrees2radians` function and test that it works using 0&deg;, 90&deg;, 180&deg;, 270&deg;, and any angle of your choice as test cases. (make sure to leave the function calls and output in the notebook!)"
   ]
  },
  {
   "cell_type": "code",
   "execution_count": null,
   "metadata": {
    "collapsed": true
   },
   "outputs": [],
   "source": []
  },
  {
   "cell_type": "markdown",
   "metadata": {},
   "source": [
    "Modify your `degrees2radians` function so that it takes the value of the angle ***as a parameter***.  Use the # sign to comment out any lines of code that were needed for the prior exercise, but are now unnecessary.  "
   ]
  },
  {
   "cell_type": "code",
   "execution_count": null,
   "metadata": {
    "collapsed": true
   },
   "outputs": [],
   "source": []
  },
  {
   "cell_type": "markdown",
   "metadata": {},
   "source": [
    "Now call the new version of `degrees2radians` function and test that it works using 0&deg;, 90&deg;, 180&deg;, 270&deg;, and any angle of your choice as test cases."
   ]
  },
  {
   "cell_type": "code",
   "execution_count": null,
   "metadata": {
    "collapsed": true
   },
   "outputs": [],
   "source": []
  },
  {
   "cell_type": "markdown",
   "metadata": {},
   "source": [
    "Modify your `degrees2radians` function so that it takes the value of the angle as a parameter and ***returns only*** the variable with the value in radians (and does not print). Use the `#` sign to comment out lines that print but are no longer necessary. Do not delete those lines!"
   ]
  },
  {
   "cell_type": "code",
   "execution_count": null,
   "metadata": {
    "collapsed": true
   },
   "outputs": [],
   "source": []
  },
  {
   "cell_type": "markdown",
   "metadata": {},
   "source": [
    "Now call the new version of `degrees2radians` function and test that it works using the following test cases (in radians) `0, 1, 1.57, 3.14159, 4.712`, and any angle in radians of your choice as test cases."
   ]
  },
  {
   "cell_type": "code",
   "execution_count": null,
   "metadata": {
    "collapsed": true
   },
   "outputs": [],
   "source": []
  },
  {
   "cell_type": "markdown",
   "metadata": {},
   "source": [
    "Write a `radians2degrees` function that takes the value in radians as a parameter and returns the equivalent angle in degrees."
   ]
  },
  {
   "cell_type": "code",
   "execution_count": null,
   "metadata": {
    "collapsed": true
   },
   "outputs": [],
   "source": []
  },
  {
   "cell_type": "markdown",
   "metadata": {},
   "source": [
    "Now call the `radians2degrees` function and test that it works using 0&deg;, 90&deg;, 180&deg;, 270&deg;, and any angle of your choice as test cases."
   ]
  },
  {
   "cell_type": "code",
   "execution_count": null,
   "metadata": {
    "collapsed": true
   },
   "outputs": [],
   "source": []
  },
  {
   "cell_type": "markdown",
   "metadata": {},
   "source": [
    "### part 2"
   ]
  },
  {
   "cell_type": "markdown",
   "metadata": {},
   "source": [
    "#### In this part, you will define each of the multiple functions in their own cells.  \n",
    "Be sure to spell all function names ***correctly*** - misspelled functions will lose points (and often break anyway since no one is sure what to type to call it). If you prefer showing your earlier, scratch work as you figure out what you are doing (as you did in part 1), please be sure that you make a final, complete, correct last function in its own cell that you then call several times to test. In other words, separate your thought process/working versions from the final one (a comment that tells us which is the final version would be lovely).  \n",
    "\n",
    "***OK, let's go!***"
   ]
  },
  {
   "cell_type": "markdown",
   "metadata": {},
   "source": [
    "Using the temperature conversion equations from Lesson 1, define a `fahrenheit2celsius` function that converts a temperature on the Fahrenheit scale to a temperature on the Celsius scale. Your function should **take one parameter and return one value**. Be sure to test your function using the oven temperature of 450&deg; Fahrenheit, since you already know the answer to that, and at least 2 other temperatures that you have a good idea what the conversion should be. Please leave all test cases and output in the notebook."
   ]
  },
  {
   "cell_type": "code",
   "execution_count": null,
   "metadata": {
    "collapsed": true
   },
   "outputs": [],
   "source": []
  },
  {
   "cell_type": "markdown",
   "metadata": {
    "collapsed": true
   },
   "source": [
    "Define a `celsius2fahrenheit` function that converts a temperature on the Fahrenheit to a temperature on the Celsius scale. Your function should **take one parameter and return one value**. Test your function on at least 3 values that you know are correct. Please leave all test cases and output in the notebook."
   ]
  },
  {
   "cell_type": "code",
   "execution_count": null,
   "metadata": {
    "collapsed": true
   },
   "outputs": [],
   "source": []
  },
  {
   "cell_type": "markdown",
   "metadata": {},
   "source": [
    "Define a `celsius2kelvin` function that converts a temperature from the Celsius scale to kelvins. Your function should **take one parameter and return one value**. Test your function on at least 3 values that you know are correct. Please leave all test cases and output in the notebook."
   ]
  },
  {
   "cell_type": "code",
   "execution_count": null,
   "metadata": {
    "collapsed": true
   },
   "outputs": [],
   "source": []
  },
  {
   "cell_type": "markdown",
   "metadata": {},
   "source": [
    "Define a `kelvin2celsius` function that converts a temperature in kevlins to the Celsiuse scale. Your function should **take one parameter and return one value**. Test your function on at least 3 values that you know are correct. Please leave all test cases and output in the notebook."
   ]
  },
  {
   "cell_type": "code",
   "execution_count": null,
   "metadata": {
    "collapsed": true
   },
   "outputs": [],
   "source": []
  }
 ],
 "metadata": {
  "anaconda-cloud": {},
  "kernelspec": {
   "display_name": "Python [default]",
   "language": "python",
   "name": "python3"
  },
  "language_info": {
   "codemirror_mode": {
    "name": "ipython",
    "version": 3
   },
   "file_extension": ".py",
   "mimetype": "text/x-python",
   "name": "python",
   "nbconvert_exporter": "python",
   "pygments_lexer": "ipython3",
   "version": "3.5.2"
  }
 },
 "nbformat": 4,
 "nbformat_minor": 1
}
