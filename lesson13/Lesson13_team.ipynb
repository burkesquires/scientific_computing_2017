{
 "cells": [
  {
   "cell_type": "markdown",
   "metadata": {},
   "source": [
    "# Unit 2: Programming Design"
   ]
  },
  {
   "cell_type": "markdown",
   "metadata": {},
   "source": [
    "## Lesson 13: Data Files & File Input and Output (I/O)"
   ]
  },
  {
   "cell_type": "markdown",
   "metadata": {},
   "source": [
    "## Notebook Authors "
   ]
  },
  {
   "cell_type": "markdown",
   "metadata": {},
   "source": [
    "_(fill in your two names here)_"
   ]
  },
  {
   "cell_type": "markdown",
   "metadata": {},
   "source": [
    "Facilitator: _(fill in name)_  \n",
    "Spokesperson: _(fill in name)_  \n",
    "Process Analyst: _(fill in name)_  \n",
    "Quality Control: _(fill in name)_  \n",
    "\n",
    "If there are only three people in your group, have one person serve as both spokesperson and process analyst for the rest of this activity.  \n",
    "\n",
    "At the end of this Lesson, you will be asked to record how long each Model required for your team. The Facilitator should keep track of time for your team."
   ]
  },
  {
   "cell_type": "markdown",
   "metadata": {},
   "source": [
    "## Computational Focus: File I/O\n",
    "\n",
    "***File input and output*** (file i/o) is often the best way to have multiple programs work together to manipulate a large amount of data both in one large file and in many smaller files. For other applications, a scientific instrument might automatically store data to a file, which your program will need to be able to open, read, and analyze. "
   ]
  },
  {
   "cell_type": "markdown",
   "metadata": {},
   "source": [
    "### Context Question"
   ]
  },
  {
   "cell_type": "markdown",
   "metadata": {},
   "source": [
    "0\\. After checking that everyone in your group agrees on the same answers for the pre-activity (has the same file in the same format), share what other scientific data might be written to a file to be manipulated by a program. Write at least three examples here (besides DNA/RNA/protein data). "
   ]
  },
  {
   "cell_type": "markdown",
   "metadata": {},
   "source": []
  },
  {
   "cell_type": "markdown",
   "metadata": {},
   "source": [
    "### Model 1: Formatting Strings"
   ]
  },
  {
   "cell_type": "markdown",
   "metadata": {},
   "source": [
    "In the past, you may have felt limited in controlling the format of the Python output, especially the output of the `print()` function. This model introduces the use of the `format` method, which specifies a particular output format for a value. The `{ }` operators are used to substitute parts of a string with the corresponding arguments to the format method.  \n",
    "\n",
    "Type the following in separate Jupyter code cells:\n",
    "```python\n",
    "print(\"Carbon =\", 12, \"grams/mole\")\n",
    "sentence = \"Carbon = {:d} grams/mole\"\n",
    "print(sentence)\n",
    "print(sentence.format(12))\n",
    "print(\"Carbon = {:d} grams/mole\".format(12))\n",
    "print(\"Carbon = {:f} grams/mole\".format(12))\n",
    "print(\"Carbon = {:E} grams/mole\".format(12))\n",
    "print(\"{:d} moles of carbon = {:f} g\".format(2,24.0))\n",
    "\n",
    "volume = 22.8\n",
    "print(\"This number, 123456789\")\n",
    "print(\"This number, {:6.0f}, has width of 6\".format(volume))\n",
    "print(\"This number, {:6.2f}, has width of 6 and a precision of 2\".format(volume))\n",
    "print(\"This number, {:8.4f}, lines up at the first digit\".format(volume))\n",
    "print(104/volume)\n",
    "print(\"Density = mass {:.4f} / volume {:.3f} = {:0.2f}\".format(104, volume, 104/volume))\n",
    "```"
   ]
  },
  {
   "cell_type": "markdown",
   "metadata": {},
   "source": [
    "### Critical Thinking Questions"
   ]
  },
  {
   "cell_type": "markdown",
   "metadata": {},
   "source": [
    "***NOTE:*** For each answer below be sure to provide justification for your answer (reason, specifying a particular line of code, example output…)"
   ]
  },
  {
   "cell_type": "markdown",
   "metadata": {},
   "source": [
    "1\\. Examine how the format method is used in the above model:   \n",
    "1a. What data type must precede `format` method?"
   ]
  },
  {
   "cell_type": "markdown",
   "metadata": {},
   "source": [
    "1b. What does the argument of the `format` method replace in the printed output?"
   ]
  },
  {
   "cell_type": "markdown",
   "metadata": {},
   "source": [
    "1c. What data type is the variable `volume`?"
   ]
  },
  {
   "cell_type": "markdown",
   "metadata": {},
   "source": [
    "1d. Notice the `format` method is being called, and its return value is being printed by the `print` method. What is the return type of the `format` method?"
   ]
  },
  {
   "cell_type": "markdown",
   "metadata": {},
   "source": [
    "2\\. Now consider the `{:d}`, `{:f}` and `{:E}` operators:  \n",
    "2a. Describe how each of the three operators will display a given number differently from the other operators."
   ]
  },
  {
   "cell_type": "markdown",
   "metadata": {},
   "source": [
    "2b. What is the default number of decimal places specified by the `{:f}` or the `{:E}` operators? "
   ]
  },
  {
   "cell_type": "markdown",
   "metadata": {},
   "source": [
    "2c. Does the `{:f}` operator round or truncate? Explain and provide evidence."
   ]
  },
  {
   "cell_type": "markdown",
   "metadata": {},
   "source": [
    "2d. When the `{:d}` operator is used, can the `format` method argument type be a `float`?"
   ]
  },
  {
   "cell_type": "markdown",
   "metadata": {},
   "source": [
    "3\\. How does the variable `volume` display when formatted as `{:6.0f}`, when `volume = 22.8`? Explain both the 6 and the 0."
   ]
  },
  {
   "cell_type": "markdown",
   "metadata": {},
   "source": [
    "4\\. How many spaces are in front of the variable `volume` formatted as `{:6.0f`}, when `volume = 22.8`?"
   ]
  },
  {
   "cell_type": "markdown",
   "metadata": {},
   "source": [
    "5\\. Explain why the number of spaces in front of the variable `volume` formatted as `{:6.2f}` and `{:8.4f}` are the same when `volume = 22.8`?"
   ]
  },
  {
   "cell_type": "markdown",
   "metadata": {},
   "source": [
    "6\\. If `volume` were 2.8, how many spaces are in front of the value of `volume` formatted as `{:10.2f}`?"
   ]
  },
  {
   "cell_type": "markdown",
   "metadata": {},
   "source": [
    "### More info on String Formatting"
   ]
  },
  {
   "cell_type": "markdown",
   "metadata": {},
   "source": [
    "+ info on `.format()`: https://docs.python.org/3.5/library/string.html#format-string-syntax\n",
    "+ tutorial on fancier formatting: https://docs.python.org/3.5/tutorial/inputoutput.html#fancier-output-formatting"
   ]
  },
  {
   "cell_type": "markdown",
   "metadata": {},
   "source": [
    "### Model 2: Writing Output to a File"
   ]
  },
  {
   "cell_type": "markdown",
   "metadata": {},
   "source": [
    "In order for the computer to access the contents of a text file, you must first open the file and assign this object to a variable. The open function creates and returns ***a file object***.  In this model we will demonstrate how to write output to a file by calling _methods_ on the _file object_."
   ]
  },
  {
   "cell_type": "markdown",
   "metadata": {},
   "source": [
    "***Define `model_two()`***  \n",
    "Run the next two Jupyter code cells to define the `model_two()` function and execute it."
   ]
  },
  {
   "cell_type": "code",
   "execution_count": 1,
   "metadata": {
    "collapsed": true
   },
   "outputs": [],
   "source": [
    "def model_two():\n",
    "    outfile = open(\"out.txt\", \"w\")\n",
    "    outfile.write(\"Example \")\n",
    "    outfile.write(\"output \")\n",
    "    outfile.write(\"text file\\n\")\n",
    "    outfile.write(\"xyz Coordinates\\n\")\n",
    "    outfile.write(\"MODEL\\n\")\n",
    "    xyz = range(3)\n",
    "    outfile.write(\"ATOM {:3d}\".format(1))\n",
    "    seq = \"N {:5.1f}{:5.1f}{:5.1f}\".format(xyz[0],xyz[1],xyz[2])\n",
    "    outfile.write(seq)\n",
    "    outfile.write(\"\\n\")\n",
    "    outfile.close()"
   ]
  },
  {
   "cell_type": "code",
   "execution_count": 2,
   "metadata": {
    "collapsed": true
   },
   "outputs": [],
   "source": [
    "model_two()"
   ]
  },
  {
   "cell_type": "markdown",
   "metadata": {},
   "source": [
    "After running this module, you will notice that a new file out.txt appears in your current working folder. Use your new command line skills to open and view this file created by the `model_two()` function. (_OK, you can also just find it and double click it the easy way if you must_)."
   ]
  },
  {
   "cell_type": "markdown",
   "metadata": {},
   "source": [
    "### Critical Thinking Questions"
   ]
  },
  {
   "cell_type": "markdown",
   "metadata": {},
   "source": [
    "#### _Examine_ the code of the `model_two()` function..."
   ]
  },
  {
   "cell_type": "markdown",
   "metadata": {},
   "source": [
    "7\\. How many arguments are passed to the `open` function and what are their types?"
   ]
  },
  {
   "cell_type": "markdown",
   "metadata": {},
   "source": [
    "8\\. What is the variable name of the file object returned by the `open` function?  "
   ]
  },
  {
   "cell_type": "markdown",
   "metadata": {},
   "source": [
    "9\\. Identify the names of all *`methods`* used on this file object in the `model_two` function."
   ]
  },
  {
   "cell_type": "markdown",
   "metadata": {},
   "source": [
    "10\\. What data type (integer, string, etc.) does the `write` method require for its argument?"
   ]
  },
  {
   "cell_type": "markdown",
   "metadata": {},
   "source": [
    "11\\. Consider the text in the `out.txt` file:   \n",
    "11a. How many times was the `write` method called to create the first line of text?"
   ]
  },
  {
   "cell_type": "markdown",
   "metadata": {},
   "source": [
    "11b. How many times was the `write` method called to create the second line of text?"
   ]
  },
  {
   "cell_type": "markdown",
   "metadata": {},
   "source": [
    "11c. What does the `\"\\n\"` character do? "
   ]
  },
  {
   "cell_type": "markdown",
   "metadata": {},
   "source": [
    "11d. What type of program structure would be useful to write a pdb file with a large number of atom lines? Explain your answer."
   ]
  },
  {
   "cell_type": "markdown",
   "metadata": {},
   "source": [
    "### Model 3: Appending File Output"
   ]
  },
  {
   "cell_type": "markdown",
   "metadata": {},
   "source": [
    "When writing output to a file, there are two basic file modes:  \n",
    "+ the append (“a”) mode will add data to the end of an existing file, while \n",
    "+ the write (“w”) mode will overwrite the file.   \n",
    "\n",
    "Either mode will create the file automatically if it does not already exist.  \n",
    "\n",
    "Type the following in separate Jupyter code cells (it won't work correctly if you type them in a single Jupyter cell):\n",
    "\n",
    "```python\n",
    "afile.write(\"new line\\n\")\n",
    "afile = open(\"out.txt\", \"a\")\n",
    "afile.write(\"new line\\n\")\n",
    "two = 2.0\n",
    "afile.write(two)\n",
    "afile.write(str(two))\n",
    "afile.close()\n",
    "afile.write(\"new line\\n\")\n",
    "```"
   ]
  },
  {
   "cell_type": "markdown",
   "metadata": {},
   "source": [
    "### Critical Thinking Questions"
   ]
  },
  {
   "cell_type": "markdown",
   "metadata": {},
   "source": [
    "12a. Explain what happens as a result of this line of code:\n",
    "```python\n",
    "afile = open(\"out.txt\", \"a\")\n",
    "```"
   ]
  },
  {
   "cell_type": "markdown",
   "metadata": {},
   "source": [
    "12b. How do the arguments passed to the `open` function differ for writing a new file and appending an existing file?"
   ]
  },
  {
   "cell_type": "markdown",
   "metadata": {},
   "source": [
    "12c. What code would you run if you wanted to overwrite a file called `stuff.txt` that already existed? (answer in text, no need to run code)"
   ]
  },
  {
   "cell_type": "markdown",
   "metadata": {},
   "source": [
    "13\\. Explain the reason for the error observed after entering the command:   \n",
    "13a. the *first* time at the start of the model:  \n",
    "```python\n",
    "afile.write(\"new line\\n\")\n",
    "```"
   ]
  },
  {
   "cell_type": "markdown",
   "metadata": {},
   "source": [
    "13b. the same command, the *last* time at the end of the model. "
   ]
  },
  {
   "cell_type": "markdown",
   "metadata": {},
   "source": [
    "14\\. Explain the reason for the error observed after entering the command:  \n",
    "```python\n",
    "afile.write(two)\n",
    "```"
   ]
  },
  {
   "cell_type": "markdown",
   "metadata": {},
   "source": [
    "### Model 4: Reading Input From A File"
   ]
  },
  {
   "cell_type": "markdown",
   "metadata": {},
   "source": [
    "In many cases your program may require input data from an external file source, (i.e. a pdb file).  In this case we can use methods to “read” the contents of the file.  \n",
    "\n",
    "Type the following in separate Jupyter code cells:\n",
    "```python\n",
    "infile = open(\"out.txt\", \"r\")\n",
    "infile.readline()\n",
    "infile.readline()\n",
    "infile.readlines()\n",
    "infile.readline()\n",
    "last = infile.readline()\n",
    "last == \"\"\n",
    "infile.close()\n",
    "infile = open(\"out.txt\", \"r\")\n",
    "\n",
    "# these 2 lines need to go together in a cell\n",
    "for i in range(3):\n",
    "    infile.readline()\n",
    "\n",
    "line1 = infile.readline()\n",
    "print(line1[0])\n",
    "print(line1[0:5])\n",
    "line1\n",
    "line2 = line1.split()\n",
    "print(line2[0])\n",
    "print(line2)\n",
    "infile.close()\n",
    "```"
   ]
  },
  {
   "cell_type": "markdown",
   "metadata": {},
   "source": [
    "### Critical Thinking Questions"
   ]
  },
  {
   "cell_type": "markdown",
   "metadata": {},
   "source": [
    "15\\. Is it possible to read the same line twice with two sequential calls to the `readline` method? "
   ]
  },
  {
   "cell_type": "markdown",
   "metadata": {},
   "source": [
    "16\\. Consider the type of the return values for the three file methods used in this model:   \n",
    "16a. What data type (integer, string, etc.) does the `readline` method return?"
   ]
  },
  {
   "cell_type": "markdown",
   "metadata": {},
   "source": [
    "16b. What data type (integer, string, etc.) does the `readlines` method return?"
   ]
  },
  {
   "cell_type": "markdown",
   "metadata": {},
   "source": [
    "16c. What data type (integer, string, etc.) does the `close` method return? How do you know?"
   ]
  },
  {
   "cell_type": "markdown",
   "metadata": {},
   "source": [
    "17\\. Now consider `line1` and `line2`.   \n",
    "17a. How do the values of `line1` and `line2` differ? "
   ]
  },
  {
   "cell_type": "markdown",
   "metadata": {},
   "source": [
    "17b. What are the data types of `line1` and `line2`?"
   ]
  },
  {
   "cell_type": "markdown",
   "metadata": {},
   "source": [
    "18\\. Type code that reads past the last line of `infile`."
   ]
  },
  {
   "cell_type": "markdown",
   "metadata": {},
   "source": [
    "18a. What happens if you don't `open` the file again? "
   ]
  },
  {
   "cell_type": "markdown",
   "metadata": {},
   "source": [
    "18b. What happens when we try to read past the end of the file?"
   ]
  },
  {
   "cell_type": "markdown",
   "metadata": {},
   "source": [
    "18c. If we didn’t know how many lines there were in the file, what boolean condition could you use to read each line of the file (and then stop when you reach the end of the file)?"
   ]
  },
  {
   "cell_type": "markdown",
   "metadata": {},
   "source": [
    "### More info on File I/O"
   ]
  },
  {
   "cell_type": "markdown",
   "metadata": {},
   "source": [
    "+ Python I/O tutorial: https://docs.python.org/3.5/tutorial/inputoutput.html#reading-and-writing-files\n",
    "+ info on the `open()` function: https://docs.python.org/3.5/library/functions.html#open  \n",
    "+ info on `readline()` method (and `readlines()` just below it): https://docs.python.org/3.5/library/io.html#io.IOBase.readline"
   ]
  },
  {
   "cell_type": "markdown",
   "metadata": {},
   "source": [
    "### Pseudocode"
   ]
  },
  {
   "cell_type": "markdown",
   "metadata": {},
   "source": [
    "19\\. Write pseudocode for a function that will read in a PDB file and return three different lists corresponding to the x, y, and z atomic coordinates, respectively. The contents of each list should be floating point numbers for all atoms in the _first_ model (only the first if there is more than one).  \n",
    "For example, the x-coordinate list for trpcage.pdb would be `[11.030, 9.640, 8.650, 8.185, ...]`.  \n",
    "Do not proceed to the next step without showing your pseudocode to the instructor."
   ]
  },
  {
   "cell_type": "markdown",
   "metadata": {},
   "source": [
    "### Temporal Analysis Report"
   ]
  },
  {
   "cell_type": "markdown",
   "metadata": {},
   "source": [
    "How much time did it require for your team to complete each Model?"
   ]
  },
  {
   "cell_type": "markdown",
   "metadata": {},
   "source": [
    "Model 1: "
   ]
  },
  {
   "cell_type": "markdown",
   "metadata": {},
   "source": [
    "Model 2:"
   ]
  },
  {
   "cell_type": "markdown",
   "metadata": {},
   "source": [
    "Model 3:"
   ]
  },
  {
   "cell_type": "markdown",
   "metadata": {},
   "source": [
    "Model 4:"
   ]
  }
 ],
 "metadata": {
  "anaconda-cloud": {},
  "kernelspec": {
   "display_name": "Python [default]",
   "language": "python",
   "name": "python3"
  },
  "language_info": {
   "codemirror_mode": {
    "name": "ipython",
    "version": 3
   },
   "file_extension": ".py",
   "mimetype": "text/x-python",
   "name": "python",
   "nbconvert_exporter": "python",
   "pygments_lexer": "ipython3",
   "version": "3.5.2"
  }
 },
 "nbformat": 4,
 "nbformat_minor": 2
}
