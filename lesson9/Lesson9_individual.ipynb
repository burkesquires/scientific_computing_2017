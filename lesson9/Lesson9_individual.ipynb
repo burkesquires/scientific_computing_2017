{
 "cells": [
  {
   "cell_type": "markdown",
   "metadata": {},
   "source": [
    "# Lesson9 Individual Assignment"
   ]
  },
  {
   "cell_type": "markdown",
   "metadata": {},
   "source": [
    "***Individual*** means that you do it yourself. You won't learn to code if you don't ***struggle for yourself*** and  ***write your own*** code. Remember that while you can discuss the general (algorithmic) way to solve a problem, you should ***not*** even be looking at anyone else's code or showing anyone else your code for an individual assignment. Ask an instructor if you are really stuck and having very specific code problems.  \n",
    "Review the **Group Work** guidelines on Cavas and/or ask an instructor if you have any questions."
   ]
  },
  {
   "cell_type": "markdown",
   "metadata": {},
   "source": [
    "## Programming Practice - instructions"
   ]
  },
  {
   "cell_type": "markdown",
   "metadata": {},
   "source": [
    "Be sure to spell all function names correctly - misspelled functions will lose points (and often break anyway since no one is sure what to type to call it). If you prefer showing your earlier, scratch work as you figure out what you are doing, please be sure that you make a final, complete, correct last function in its own cell that you then call several times to test. In other words, separate your thought process/working versions from the final one (a comment that tells us which is the final version would be lovely).\n",
    "\n",
    "Every function should have at least a docstring at the start that states what it does (see Lesson3 Team Notebook if you need a reminder). Make other comments as necessary.\n",
    "\n",
    "Make sure that you are running test cases (plural) for everything and commenting on the results in markdown. Your comments should discuss how you know that the test case results are correct."
   ]
  },
  {
   "cell_type": "markdown",
   "metadata": {},
   "source": [
    "### part 1: planning and designing BEFORE coding"
   ]
  },
  {
   "cell_type": "markdown",
   "metadata": {},
   "source": [
    "Copy and paste here the pseudocode that was developed in Model 3 from the Lesson9 Team Notebook. It should:  \n",
    "\n",
    "* take nothing as a ***parameter*** \n",
    "* use an ***ask-before-iterating loop*** to:\n",
    "    * ask for the next number in the list\n",
    "    * add the number to the end of the list\n",
    "    * ask if there are any more numbers to be added\n",
    "    * repeat only if the user enters \"yes\"\n",
    "* return the newly built list\n"
   ]
  },
  {
   "cell_type": "markdown",
   "metadata": {},
   "source": []
  },
  {
   "cell_type": "markdown",
   "metadata": {},
   "source": [
    "**A.** You should also have a short description in Model 2 from the Lesson9 Team Notebook on calculating the median of a given list. Convert this description to pseudocode for a completely separate `median` function that:\n",
    "\n",
    "* take the list as a ***parameter*** \n",
    "* returns the median of the list (the middle value from the list)\n",
    "\n",
    "Your pseudocode should describe the code that you are trying to implement. Be clear about whether you plan to use if-statements, while-loops, or for-loops for this function. Remember the code formatting tricks, and see the website for an example of pseudocode:  \n",
    "https://courses.edx.org/c4x/MITx/6.00.1x/asset/files_ps04_files_WhyPseudocode.pdf "
   ]
  },
  {
   "cell_type": "markdown",
   "metadata": {},
   "source": []
  },
  {
   "cell_type": "markdown",
   "metadata": {},
   "source": [
    "**B.** Write at least three test cases for the median function. For each test case, give the correct median value. Your tests should contain (at least):  \n",
    "\n",
    "* one case with an odd number of list values\n",
    "* one case with an even number of list values (where the median is the average of the middle two values)"
   ]
  },
  {
   "cell_type": "markdown",
   "metadata": {},
   "source": []
  },
  {
   "cell_type": "markdown",
   "metadata": {},
   "source": [
    "### part 2: coding and testing"
   ]
  },
  {
   "cell_type": "markdown",
   "metadata": {},
   "source": [
    "Copy and paste here your `statistics` function from Lesson 8 individual."
   ]
  },
  {
   "cell_type": "markdown",
   "metadata": {},
   "source": []
  },
  {
   "cell_type": "markdown",
   "metadata": {},
   "source": [
    "**C.** Write a new `build_list` function that takes no parameters. It should prompt the user repeatedly for values (ask-before-iterating) and return a list of numbers. Once your function works correctly, write Python code that calls your `build_list` function before sending that list to the `statistics` function."
   ]
  },
  {
   "cell_type": "code",
   "execution_count": null,
   "metadata": {
    "collapsed": true
   },
   "outputs": [],
   "source": []
  },
  {
   "cell_type": "markdown",
   "metadata": {},
   "source": [
    "**D.** Modify your `statistics` function to also print the median value. Do not make changes to the rest of your function – they should continue to calculate and print mean, variance, maximum, minimum and mode."
   ]
  },
  {
   "cell_type": "markdown",
   "metadata": {},
   "source": []
  },
  {
   "cell_type": "markdown",
   "metadata": {
    "collapsed": true
   },
   "source": [
    "### part 3: improved usability"
   ]
  },
  {
   "cell_type": "markdown",
   "metadata": {},
   "source": [
    "**E.** When you use your build_list function, you may have been frustrated if you ever accidentally typed a “ye” instead of “yes”. One way to correct this problem is to check that the user enters “yes” or “no”. Modify your `build_list` ***pseudocode*** here so your program checks if the user enters “yes” or “no” to the question. If the user types something else (such as a number), your algorithm should ask the user for another answer, until the user finally enters “yes” or “no”. The first step to designing your pseudocode is to select an appropriate programming construct (sequential, branching, predetermined loops, or unknown number of loops)."
   ]
  },
  {
   "cell_type": "markdown",
   "metadata": {},
   "source": []
  },
  {
   "cell_type": "markdown",
   "metadata": {},
   "source": [
    "**F.** Modify your `build_list` ***function*** so it waits for a “yes” or “no” answer."
   ]
  },
  {
   "cell_type": "markdown",
   "metadata": {},
   "source": []
  },
  {
   "cell_type": "markdown",
   "metadata": {},
   "source": [
    "**G.** Finally, to make your program more user-friendly, modify your `build_list` function so it accepts one of four answers (not just two): “yes”, “y”, “no”, “n”. "
   ]
  },
  {
   "cell_type": "markdown",
   "metadata": {},
   "source": []
  },
  {
   "cell_type": "markdown",
   "metadata": {},
   "source": [
    "### part 4: final code"
   ]
  },
  {
   "cell_type": "markdown",
   "metadata": {},
   "source": [
    "**H.** Give your complete, working `statistics` function here, which should take a list of numbers as a parameter and calculate and print the following in a user-friendly way (i.e., you should print more than just a list of numbers):  \n",
    "* mean\n",
    "* variance\n",
    "* maximum\n",
    "* minimum\n",
    "* median\n",
    "* mode\n",
    "* standard deviation  \n",
    "\n",
    "Your function does not need to return anything.\n",
    "\n",
    "(You don't need to copy and paste your `build_list` funciton since it should be the last code you included before part 4.) "
   ]
  },
  {
   "cell_type": "code",
   "execution_count": null,
   "metadata": {
    "collapsed": true
   },
   "outputs": [],
   "source": []
  },
  {
   "cell_type": "markdown",
   "metadata": {},
   "source": [
    "**I.** Run your `build_list` and `statistics` functions on all your test cases here, to demonstrate that your code works. Don't forget to comment on how you know that your function works correctly."
   ]
  },
  {
   "cell_type": "code",
   "execution_count": null,
   "metadata": {
    "collapsed": true
   },
   "outputs": [],
   "source": []
  },
  {
   "cell_type": "markdown",
   "metadata": {},
   "source": [
    "**J.** Give at least three specific examples of scientific applications that would require a user to enter multiple data. For each example, suggest a user-friendly way for the user to indicate they are done entering values (as discussed in Model 3 in Lesson9 Team Notebook)."
   ]
  },
  {
   "cell_type": "markdown",
   "metadata": {},
   "source": []
  }
 ],
 "metadata": {
  "anaconda-cloud": {},
  "kernelspec": {
   "display_name": "Python [default]",
   "language": "python",
   "name": "python3"
  },
  "language_info": {
   "codemirror_mode": {
    "name": "ipython",
    "version": 3
   },
   "file_extension": ".py",
   "mimetype": "text/x-python",
   "name": "python",
   "nbconvert_exporter": "python",
   "pygments_lexer": "ipython3",
   "version": "3.5.2"
  }
 },
 "nbformat": 4,
 "nbformat_minor": 1
}
