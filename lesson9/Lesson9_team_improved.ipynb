{
 "cells": [
  {
   "cell_type": "markdown",
   "metadata": {},
   "source": [
    "# Unit 2: Programming Design"
   ]
  },
  {
   "cell_type": "markdown",
   "metadata": {},
   "source": [
    "## Lesson 9: List Methods"
   ]
  },
  {
   "cell_type": "markdown",
   "metadata": {},
   "source": [
    "## Notebook Authors "
   ]
  },
  {
   "cell_type": "markdown",
   "metadata": {},
   "source": [
    "_(fill in your two names here)_"
   ]
  },
  {
   "cell_type": "markdown",
   "metadata": {},
   "source": [
    "Facilitator: _(fill in name)_  \n",
    "Spokesperson: _(fill in name)_  \n",
    "Process Analyst: _(fill in name)_  \n",
    "Quality Control: _(fill in name)_  \n",
    "\n",
    "If there are only three people in your group, have one person serve as both spokesperson and process analyst for the rest of this activity.  \n",
    "\n",
    "At the end of this Lesson, you will be asked to record how long each Model required for your team. The Facilitator should keep track of time for your team."
   ]
  },
  {
   "cell_type": "markdown",
   "metadata": {},
   "source": [
    "## Computational Focus: List Methods"
   ]
  },
  {
   "cell_type": "markdown",
   "metadata": {},
   "source": [
    "Very often data is contained in as a list of items, for example numbers. Even data that is in a more complicated form like a spreadsheet or data frame is often converted to a list in order to calculate a statistic like the mean. For example if you want the mean of a column in a spreadsheet, it is often converted to a list before the mean is calculated. Lists can also contain other kinds of data, but for now we will be using lists of numbers."
   ]
  },
  {
   "cell_type": "markdown",
   "metadata": {},
   "source": [
    "### Model 1: Appending to a List"
   ]
  },
  {
   "cell_type": "markdown",
   "metadata": {},
   "source": [
    "Recall that a variable can hold multiple items in the form of a ***list***.  Each item of the list is separated by a comma and sandwiched between square brackets [].  Each individual element of the list can be referenced by its ***index*** number, starting at 0 for the first position in the list.  \n",
    "\n",
    "A Python list has several built-in capabilities (***methods***). These methods are available to all lists. \n",
    "\n",
    "Type the following Python code in separate Jupyter code cells:\n",
    "```python\n",
    "list1 = [2, 4, 8]\n",
    "len(list1)\n",
    "print(list1)\n",
    "print(list1[3])\n",
    "list1.append(5)\n",
    "print(list1)\n",
    "print(list1[3])\n",
    "list2.append(5)\n",
    "list2 = []\n",
    "print(list2[0])\n",
    "list2.append(8)\n",
    "print(list2)\n",
    "print(list2[0])\n",
    "```\n",
    "\n",
    "Some lines will give you an error; you do not need to correct these errors."
   ]
  },
  {
   "cell_type": "markdown",
   "metadata": {},
   "source": [
    "### Critical Thinking Questions"
   ]
  },
  {
   "cell_type": "markdown",
   "metadata": {},
   "source": [
    "1\\. What is the result of applying the `append` method on a list?  "
   ]
  },
  {
   "cell_type": "markdown",
   "metadata": {},
   "source": [
    "2\\. What must be defined prior to the use of a list method like `append`?  "
   ]
  },
  {
   "cell_type": "markdown",
   "metadata": {},
   "source": [
    "3\\. Explain what caused the other errors in the example lines of code."
   ]
  },
  {
   "cell_type": "markdown",
   "metadata": {},
   "source": [
    "4\\. Describe the similarities and differences between using a Python `list` function like `append` compared to the Python built-in `len` function."
   ]
  },
  {
   "cell_type": "markdown",
   "metadata": {},
   "source": [
    "5\\. Write a Python assignment statement that sets the first element of a `list1` to the last element of `list2`."
   ]
  },
  {
   "cell_type": "markdown",
   "metadata": {},
   "source": [
    "6\\. Describe the similarities and differences between using a Python `list` function versus using a function from the `math` library."
   ]
  },
  {
   "cell_type": "markdown",
   "metadata": {},
   "source": [
    "### Model 2: More List Functions and Methods"
   ]
  },
  {
   "cell_type": "markdown",
   "metadata": {},
   "source": [
    "A number of different built-in functions and list methods are defined in this Table and demonstrated below. \n",
    "\n",
    "List Function / Method | Description\n",
    ":---: | :---: \n",
    "`len(L)` | identifies the number of elements of L\n",
    "`del(L[i])` | delete the ith element from L\n",
    "`L.append(x)` | append a new element\n",
    "`L.count(x)` | count occurrences of x\n",
    "`L.index(x)` | find smallest position where x occurs in L\n",
    "`L.insert(i,x)` | insert x at position i in L\n",
    "`L.remove(x)` | remove first occurrence of x from L\n",
    "`L.reverse()` | reverse order of elements in L\n",
    "`L.sort()` | reorders the elements in L in increasing order\n",
    "\n",
    "\n",
    "Type the following in separate Jupyter code cells:\n",
    "```python\n",
    "list3 = [5,2,4,6,4]\n",
    "len(list3)\n",
    "list3.reverse()\n",
    "print(list3)\n",
    "list3.count(4)\n",
    "list3.remove(4)\n",
    "print(list3)\n",
    "dir(list3) # feel free to also use `?dir` to help\n",
    "help(list3)\n",
    "help(list3.reverse)\n",
    "```"
   ]
  },
  {
   "cell_type": "markdown",
   "metadata": {},
   "source": [
    "### Critical Thinking Questions"
   ]
  },
  {
   "cell_type": "markdown",
   "metadata": {},
   "source": [
    "7\\. What is the result of applying the remove method on a list?  \n"
   ]
  },
  {
   "cell_type": "markdown",
   "metadata": {},
   "source": [
    "8\\. Give one example of a list method that requires an argument and one that does not.\n"
   ]
  },
  {
   "cell_type": "markdown",
   "metadata": {},
   "source": [
    "9a. Is it necessary to use an assignment statement to change a list? Explain."
   ]
  },
  {
   "cell_type": "markdown",
   "metadata": {},
   "source": [
    "9b. How does this differ from the similar, list-like data type `tuple`?"
   ]
  },
  {
   "cell_type": "markdown",
   "metadata": {},
   "source": [
    "10\\. What does the `sort` method do?\n"
   ]
  },
  {
   "cell_type": "markdown",
   "metadata": {},
   "source": [
    "11\\. Write a Python assignment statement that uses the `len` function to access the last element of `list2` and assign it to the variable `last`.\n"
   ]
  },
  {
   "cell_type": "markdown",
   "metadata": {},
   "source": [
    "12\\. What is the _median_ of list3 (the middle value in the list)? Describe which list methods and/or functions you would use and how in order to confirm this?"
   ]
  },
  {
   "cell_type": "markdown",
   "metadata": {},
   "source": [
    "13\\. Write pseudocode that would prompt the user for numbers and build a new list of numbers by adding one number at a time into the list.  For now, do not worry about how the user will indicate they have entered all their values. "
   ]
  },
  {
   "cell_type": "markdown",
   "metadata": {},
   "source": [
    "### Model 3:  User Input"
   ]
  },
  {
   "cell_type": "markdown",
   "metadata": {},
   "source": [
    "A program can be designed in one of three ways to allow the user to signal when they are done entering values into the program:\n",
    "\n",
    "+ The program could ask the user how many values will be entered, before starting the loop\n",
    "+ The program could use a _sentinel_ value, such as a negative number, to signal there are no more numbers\n",
    "+ The program could repeatedly ask the user if more numbers will be entered (an _ask-before-iterating_ loop)\n"
   ]
  },
  {
   "cell_type": "markdown",
   "metadata": {},
   "source": [
    "### Critical Thinking Questions"
   ]
  },
  {
   "cell_type": "markdown",
   "metadata": {},
   "source": [
    "14\\. What type of program structure would be most appropriate to handle the first type of user input described in Model 3?\n"
   ]
  },
  {
   "cell_type": "markdown",
   "metadata": {},
   "source": [
    "15\\. What is a potential problem with using a sentinel value for a program designed for scientists to build a list of numbers?\n"
   ]
  },
  {
   "cell_type": "markdown",
   "metadata": {},
   "source": [
    "16\\. Consider how you would modify your list-building pseudocode (CTQ 13) so it uses an ask-before-iterating design. The program should only repeat if the user enters “yes” to the yes/no question."
   ]
  },
  {
   "cell_type": "markdown",
   "metadata": {},
   "source": [
    "### Temporal Analysis Report"
   ]
  },
  {
   "cell_type": "markdown",
   "metadata": {},
   "source": [
    "How much time did it require for your team to complete each Model?"
   ]
  },
  {
   "cell_type": "markdown",
   "metadata": {},
   "source": [
    "Model 1:  "
   ]
  },
  {
   "cell_type": "markdown",
   "metadata": {},
   "source": [
    "Model 2:  "
   ]
  },
  {
   "cell_type": "markdown",
   "metadata": {},
   "source": [
    "Model 3:  "
   ]
  }
 ],
 "metadata": {
  "anaconda-cloud": {},
  "kernelspec": {
   "display_name": "Python [default]",
   "language": "python",
   "name": "python3"
  },
  "language_info": {
   "codemirror_mode": {
    "name": "ipython",
    "version": 3
   },
   "file_extension": ".py",
   "mimetype": "text/x-python",
   "name": "python",
   "nbconvert_exporter": "python",
   "pygments_lexer": "ipython3",
   "version": "3.5.2"
  }
 },
 "nbformat": 4,
 "nbformat_minor": 2
}
