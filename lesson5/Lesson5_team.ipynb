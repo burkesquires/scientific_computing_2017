{
 "cells": [
  {
   "cell_type": "markdown",
   "metadata": {
    "collapsed": true
   },
   "source": [
    "# Unit 1: Programming Basics"
   ]
  },
  {
   "cell_type": "markdown",
   "metadata": {},
   "source": [
    "## Lesson 5: `For` Loops"
   ]
  },
  {
   "cell_type": "markdown",
   "metadata": {},
   "source": [
    "## Notebook Authors "
   ]
  },
  {
   "cell_type": "markdown",
   "metadata": {},
   "source": [
    "_(fill in your two names here)_"
   ]
  },
  {
   "cell_type": "markdown",
   "metadata": {},
   "source": [
    "## Team Roles"
   ]
  },
  {
   "cell_type": "markdown",
   "metadata": {},
   "source": [
    "Facilitator: _(fill in name)_  \n",
    "Spokesperson: _(fill in name)_  \n",
    "Process Analyst: _(fill in name)_  \n",
    "Quality Control: _(fill in name)_  \n",
    "\n",
    "If there are only three people in your team, have one person serve as both spokesperson and process analyst for the rest of this activity.<p>\n",
    "At the end of this Lesson, you will be asked to record how long each Model required for your team. The _Facilitator_ should keep track of time for your team."
   ]
  },
  {
   "cell_type": "markdown",
   "metadata": {},
   "source": [
    "## Computational Focus: `For` Loops"
   ]
  },
  {
   "cell_type": "markdown",
   "metadata": {},
   "source": [
    "### Model 1: Lists of Numbers and Indexing"
   ]
  },
  {
   "cell_type": "markdown",
   "metadata": {},
   "source": [
    "A variable can hold multiple items in the form of a list. Each item of the list is separated by a comma and sandwiched between square brackets [ ]. (Note: we actually already used a list in Lesson 3 to return multiple values from a function.)  Each individual element of the list can be referenced by a unique **`index`** which is a numerical value that references sequential items in the list starting at 0.  \n",
    "\n",
    "This so-called \"zero index\" scheme is common in computer programming languages and can be counter intuitive. It means that you have to count starting at zero, like this - 0, 1, 2, 3, etc. For those of you with experience working with `R` it is indexed from 1, so this might take some adjustment.  \n",
    "\n",
    "***Let's get going...***\n",
    "\n",
    "\n",
    "**Type** (_don't_ copy and paste) the following code, one line per Jupyter cell, to observe the output (if any):\n",
    "```python\n",
    "xlist = [2, 4, 1, 8]\n",
    "print(xlist)\n",
    "print(xlist[0])\n",
    "print(xlist[3])\n",
    "print(xlist[4])\n",
    "xvalue = xlist[3]\n",
    "print(xvalue) \n",
    "newlist = []\n",
    "type(newlist)\n",
    "print(newlist[0]) \n",
    "```"
   ]
  },
  {
   "cell_type": "markdown",
   "metadata": {},
   "source": [
    "### Critical Thinking Questions"
   ]
  },
  {
   "cell_type": "markdown",
   "metadata": {},
   "source": [
    "1\\. What is the index number for the second element in `xlist`?"
   ]
  },
  {
   "cell_type": "markdown",
   "metadata": {},
   "source": [
    "2\\. What is the value of the identifier `xlist[2]`? "
   ]
  },
  {
   "cell_type": "markdown",
   "metadata": {},
   "source": [
    "3\\. In Model 1, explain the reason for the error when `print(xlist[4])` is executed."
   ]
  },
  {
   "cell_type": "markdown",
   "metadata": {},
   "source": [
    "4\\. Write a statement that assigns the variable `run` to a list with three values."
   ]
  },
  {
   "cell_type": "markdown",
   "metadata": {},
   "source": [
    "5\\. Write a Python statement that reassigns the last element of `run` to a value of 100."
   ]
  },
  {
   "cell_type": "markdown",
   "metadata": {},
   "source": [
    "6\\. Write a Python statement that retrieves the first value of `run` and assigns it to an identifier named `first`.\n"
   ]
  },
  {
   "cell_type": "markdown",
   "metadata": {},
   "source": [
    "7\\. Is it possible to have a list with no items, i.e. an empty list?"
   ]
  },
  {
   "cell_type": "markdown",
   "metadata": {},
   "source": [
    "### Model 2: The `For` Loop"
   ]
  },
  {
   "cell_type": "markdown",
   "metadata": {},
   "source": [
    "A ***loop*** structure allows the programmer to execute statements multiple times in a program. A ***for-loop*** will execute the same block of code a specific number of times (usually determined by a `list` or `range`). Here is a diagram to illustrate a `for` loop:\n",
    "\n",
    "![for loop image](https://github.com/nerdcommander/scientific_computing_2017/raw/7608b1cdf2bd12866732dadab7ac25ad7b9a82f8/lesson6/for_loop.png)\n",
    "\n",
    "Here is code for a simple `for` loop:  \n",
    "***(Type*** *the following code into a code cell below)*\n",
    "\n",
    "```Python\n",
    "def model_two():  \n",
    "    for i in [0, 1, 2]:\n",
    "      print (\"the number is\", i)\n",
    "    print (\"goodbye\")\n",
    "```  \n",
    "To execute the code (known as a ***function call***), type the function name and parentheses in another Jupyter code cell:\n",
    "\n",
    "<pre>model_two()</pre>"
   ]
  },
  {
   "cell_type": "markdown",
   "metadata": {},
   "source": [
    "### Critical Thinking Questions"
   ]
  },
  {
   "cell_type": "markdown",
   "metadata": {},
   "source": [
    "8a. How many times did the indented line of code execute after the for loop?"
   ]
  },
  {
   "cell_type": "markdown",
   "metadata": {
    "collapsed": true
   },
   "source": [
    "8b. How many times did the line of code NOT indented execute after the for loop?"
   ]
  },
  {
   "cell_type": "markdown",
   "metadata": {},
   "source": [
    "9\\. Explain your answer to Question 8."
   ]
  },
  {
   "cell_type": "markdown",
   "metadata": {},
   "source": [
    "10\\. What is the value of `i` the first time the indented line of code executes?"
   ]
  },
  {
   "cell_type": "markdown",
   "metadata": {},
   "source": [
    "11\\. Answer the parts of this question by copying and modifying the original code, running the modified code to illustrate in a Jupyter cell, and explaining in a markdown cell:"
   ]
  },
  {
   "cell_type": "markdown",
   "metadata": {},
   "source": [
    "11a. Does the loop execute three times if the three numbers in the for loop list are **non-consecutive**?"
   ]
  },
  {
   "cell_type": "markdown",
   "metadata": {},
   "source": [
    "11b. Does the loop execute three times if the three numbers in the for loop list are **ordered in terms of decreasing value**?"
   ]
  },
  {
   "cell_type": "markdown",
   "metadata": {},
   "source": [
    "11c. Does the loop execute three times if the three numbers in the for loop list **all have the same value**?"
   ]
  },
  {
   "cell_type": "markdown",
   "metadata": {},
   "source": [
    "12\\. What determines the value of the variable `i`?  Explain your team's reasoning using grammatically correct English sentences. "
   ]
  },
  {
   "cell_type": "markdown",
   "metadata": {},
   "source": [
    "13\\. Change the above `for` loop so the loop would execute ***five*** times. (code and md explanation)"
   ]
  },
  {
   "cell_type": "markdown",
   "metadata": {},
   "source": [
    "14\\. Rewrite the for loop so that the loop executes zero times. (code and md explanation)"
   ]
  },
  {
   "cell_type": "markdown",
   "metadata": {},
   "source": [
    "15a. Modify the `model_two` function so that it takes a single parameter – an identifier representing a list of numbers – then modify the `for` loop so that it uses the list represented by the identifier."
   ]
  },
  {
   "cell_type": "markdown",
   "metadata": {},
   "source": [
    "15b. Confirm that the function successfully executes the loop print statement five times if passed a list with five items in it."
   ]
  },
  {
   "cell_type": "markdown",
   "metadata": {},
   "source": [
    "15c. Describe one advantage of this new version of `model_two` in comparison to its original form."
   ]
  },
  {
   "cell_type": "markdown",
   "metadata": {},
   "source": [
    "### Model 3: The `range()` function"
   ]
  },
  {
   "cell_type": "markdown",
   "metadata": {},
   "source": [
    "The Python3 `range` function will generate a range object that functions in a `for` loop a lot like a list of numbers but isn't technically a list of numbers, it is a `range object`. Some of the details of this are not super important to use, but if you want more info, check out [this link](https://docs.python.org/3.6/tutorial/controlflow.html#the-range-function). \n",
    "\n",
    "Let's explore the `range` function which can take in up to three numbers as arguments.\n",
    "\n",
    "**Type** (_don't_ copy and paste) the following code, one line per Jupyter cell, to observe the output (if any):\n",
    "\n",
    "```Python\n",
    "range(5)\n",
    "list(range(5))\n",
    "x = range(3)\n",
    "x\n",
    "print(x)\n",
    "print(list(x))\n",
    "list(range(5,10))\n",
    "list(range(-3,4))\n",
    "list(range(4,10,2))\n",
    "```  "
   ]
  },
  {
   "cell_type": "markdown",
   "metadata": {},
   "source": [
    "### Critical Thinking Questions"
   ]
  },
  {
   "cell_type": "markdown",
   "metadata": {},
   "source": [
    "16\\. Explain the difference between the first two lines of code (`range(5)` vs `list(range(5))`)."
   ]
  },
  {
   "cell_type": "markdown",
   "metadata": {},
   "source": [
    "17\\. If the argument of the range function has only ***a single number***:  \n",
    "17a. What will be the first number in the generated list?"
   ]
  },
  {
   "cell_type": "markdown",
   "metadata": {},
   "source": [
    "17b. What will be the last number in the generated list?"
   ]
  },
  {
   "cell_type": "markdown",
   "metadata": {},
   "source": [
    "17c. How many numbers will there be in the generated list?"
   ]
  },
  {
   "cell_type": "markdown",
   "metadata": {},
   "source": [
    "18\\. If the arguments of the `range` function includes ***two numbers***:  \n",
    "18a. What will be the first number in the generated list?"
   ]
  },
  {
   "cell_type": "markdown",
   "metadata": {},
   "source": [
    "18b. What will be the last number in the generated list?"
   ]
  },
  {
   "cell_type": "markdown",
   "metadata": {},
   "source": [
    "18c. How many numbers will there be in the generated list?"
   ]
  },
  {
   "cell_type": "markdown",
   "metadata": {},
   "source": [
    "19\\. If the arguments of the `range` function includes ***three numbers***:  \n",
    "19a. What will be the first number in the generated list?"
   ]
  },
  {
   "cell_type": "markdown",
   "metadata": {},
   "source": [
    "19b. What will be the last number in the generated list?"
   ]
  },
  {
   "cell_type": "markdown",
   "metadata": {},
   "source": [
    "19c. What does the third argument represent?"
   ]
  },
  {
   "cell_type": "markdown",
   "metadata": {},
   "source": [
    "19d. How many numbers will be in the list?"
   ]
  },
  {
   "cell_type": "markdown",
   "metadata": {},
   "source": [
    "20\\. Write a statement that uses the `range` function to generate the list `[0, 1, 2]`."
   ]
  },
  {
   "cell_type": "markdown",
   "metadata": {},
   "source": [
    "21a. Make a `model_three` function that is a modified version of the `model_two` function from above but it uses your answer to the previous question to control its `for` loop instead of a hard coded list of numbers."
   ]
  },
  {
   "cell_type": "markdown",
   "metadata": {},
   "source": [
    "22a. Now modify the `model_three` function so that it takes a single number as a parameter. Then modify the for loop statement so that the number of times the loop executes is determined by this parameter."
   ]
  },
  {
   "cell_type": "markdown",
   "metadata": {},
   "source": [
    "22b. Describe one advantage of this new version of `model_three`."
   ]
  },
  {
   "cell_type": "markdown",
   "metadata": {},
   "source": [
    "### Model 4: Back to bisection search"
   ]
  },
  {
   "cell_type": "markdown",
   "metadata": {},
   "source": [
    "Examine the function below that approximates the square root by bisection search, called `sqroot_bs()`. "
   ]
  },
  {
   "cell_type": "code",
   "execution_count": 3,
   "metadata": {
    "collapsed": true
   },
   "outputs": [],
   "source": [
    "def sqroot_bs(x):\n",
    "    \"\"\"\n",
    "    takes a positive integer, approximates the square root, prints the approximation\n",
    "    \"\"\"\n",
    "    numGuesses = 10  #number of attempts\n",
    "    low = 0.0        #sets the low guess to zero, makes sense for square root\n",
    "    high = x         #since we're dealing with square root, value of root is less than x\n",
    "    guess = (high + low)/2.0     #bisection function where guess is estimated root, first set\n",
    "    for i in range(numGuesses):  #loop that goes for numGuesses times, prints steps\n",
    "        if guess**2 < x:  #if root estimate is less than actual root\n",
    "            print('low = ' + str(low) + ', high = ' + str(high) + ', guess = ' + str(guess) + \" - guess too low\")\n",
    "            low = guess   #low is assigned bisection result\n",
    "        else:\n",
    "            print('low = ' + str(low) + ', high = ' + str(high) + ', guess = ' + str(guess) + \" - guess too high\")\n",
    "            high = guess          #if root estimate is greater than actual root, high is assigned bisection result\n",
    "        guess = (high + low)/2.0  #bisection function to get new guess\n",
    "    print(str(guess) + ' is close to the square root of ' + str(x))"
   ]
  },
  {
   "cell_type": "markdown",
   "metadata": {},
   "source": [
    "Once you have looked through the code (which is heavily commented and includes an internal print statement to help explain bisection search), run the code cell above and the test case below."
   ]
  },
  {
   "cell_type": "code",
   "execution_count": null,
   "metadata": {
    "collapsed": false,
    "scrolled": false
   },
   "outputs": [],
   "source": [
    "sqroot_bs(25)"
   ]
  },
  {
   "cell_type": "markdown",
   "metadata": {},
   "source": [
    "23\\. Examine the printed output from running the `sqroot_bs` function.  \n",
    "23a. What is the initial guess for the square root of 25?"
   ]
  },
  {
   "cell_type": "markdown",
   "metadata": {},
   "source": [
    "23b. List the next three guesses made by the program. "
   ]
  },
  {
   "cell_type": "markdown",
   "metadata": {},
   "source": [
    "23c. How many guesses (including the initial guess) are calculated for the square root of 25 in the above code?"
   ]
  },
  {
   "cell_type": "markdown",
   "metadata": {},
   "source": [
    "24\\. Explain in your own words how bisection search works using the `sqroot_bs()` function as an example."
   ]
  },
  {
   "cell_type": "markdown",
   "metadata": {},
   "source": [
    "25\\. Explain the following parts of `sqroot_bs()`:  \n",
    "25a. The `for` loop."
   ]
  },
  {
   "cell_type": "markdown",
   "metadata": {},
   "source": [
    "25b. The `if-else` statement."
   ]
  },
  {
   "cell_type": "markdown",
   "metadata": {},
   "source": [
    "26\\. What do you predict would happen if you increased the value of the `numGuesses` variable in the function? Explain your thinking."
   ]
  },
  {
   "cell_type": "markdown",
   "metadata": {},
   "source": [
    "27\\. If you wanted to calculate the difference between the approximation and the real value of the square root, what would you do? (_it's ok to either just describe or write code and describe_)"
   ]
  },
  {
   "cell_type": "markdown",
   "metadata": {},
   "source": [
    "### Temporal Analysis Report"
   ]
  },
  {
   "cell_type": "markdown",
   "metadata": {},
   "source": [
    "How much time did it require for your team to complete each Model?"
   ]
  },
  {
   "cell_type": "markdown",
   "metadata": {},
   "source": [
    "# END OF CLASS"
   ]
  }
 ],
 "metadata": {
  "anaconda-cloud": {},
  "kernelspec": {
   "display_name": "Python [default]",
   "language": "python",
   "name": "python3"
  },
  "language_info": {
   "codemirror_mode": {
    "name": "ipython",
    "version": 3
   },
   "file_extension": ".py",
   "mimetype": "text/x-python",
   "name": "python",
   "nbconvert_exporter": "python",
   "pygments_lexer": "ipython3",
   "version": "3.5.2"
  }
 },
 "nbformat": 4,
 "nbformat_minor": 1
}
