{
 "cells": [
  {
   "cell_type": "markdown",
   "metadata": {
    "collapsed": true
   },
   "source": [
    "# Unit 1: Programming Basics\n",
    "## Lesson 5: For Loops - Pre-activity "
   ]
  },
  {
   "cell_type": "markdown",
   "metadata": {},
   "source": [
    "### Scientific Context: Numerical Analysis"
   ]
  },
  {
   "cell_type": "markdown",
   "metadata": {},
   "source": [
    "Suppose you have a mathematical model and you want to understand its behavior. That is, you want to find a solution to the set of equations. We say we have an ***analytic*** solution if we can solve the equation explicitly in terms of a bounded expression of elementary functions. For example, the roots of any quadratic equation can be solved for using a closed form expression in terms of addition, subtraction, multiplication, division, and square root.  \n",
    "\n",
    "A different approach to this problem is to solve for the roots ***numerically***. A numerical method for determining the roots of an equation begins with an initial guess of the solution and systematically uses successive approximations that ultimately converge to the “exact” solution.  \n",
    "\n",
    "As you can imagine, computers are excellent at numerical solutions, and less good at analytic solutions. For example, how can a computer integrate a function? Turns out computers are often using numerical methods."
   ]
  },
  {
   "cell_type": "markdown",
   "metadata": {},
   "source": [
    "### Fundamental Principles: Bisection Method"
   ]
  },
  {
   "cell_type": "markdown",
   "metadata": {},
   "source": [
    "For any function, ***the approximate location of roots can be determined graphically, by seeing where the function crosses the x-axis***. For example, consider stretching and compressing a spring from its equilibrium (rest) position, x<sub>eq</sub>. The solutions (roots) to the following equation, determine the maximum and minimum positions to which a spring, with force constant, k, can stretch or compress for a given potential energy, V:"
   ]
  },
  {
   "cell_type": "markdown",
   "metadata": {},
   "source": [
    "$$V=\\frac{1}{2}k(x-x_{eq})^2  \\hspace{30 mm} (1)$$"
   ]
  },
  {
   "cell_type": "markdown",
   "metadata": {},
   "source": [
    "This function can be represented graphically, for k = 1.00 N/m, x<sub>eq</sub> = 3.25 m, and V = 4.00 J as follows:"
   ]
  },
  {
   "cell_type": "markdown",
   "metadata": {},
   "source": [
    "![Fig1](https://github.com/nerdcommander/scientific_computing_2017/blob/master/lesson5/L5_fig1.png?raw=true)"
   ]
  },
  {
   "cell_type": "markdown",
   "metadata": {},
   "source": [
    "The roots of this equation are the X values where the equation equals zero.  \n",
    "\n",
    "You can get a better approximation for the root (where the function crosses the x-axis) by graphing a smaller interval and “zooming” in on the area where the graph crosses the x-axis. One of the two roots is shown zoomed in below:"
   ]
  },
  {
   "cell_type": "markdown",
   "metadata": {},
   "source": [
    "![Fig2](https://github.com/nerdcommander/scientific_computing_2017/blob/master/lesson5/L5_fig2.png?raw=true)"
   ]
  },
  {
   "cell_type": "markdown",
   "metadata": {},
   "source": [
    "##### How do we estimate the root using numerical methods?\n",
    "The bisection method follows a similar approach to estimating the root as the graph above, without actually graphing the function. It starts with two initial estimates of the root, ***a*** and ***b*** such that _f(a)_ and _f(b)_ lie on either side of the actual root.  Thus _f(a) &times; f(b)_ < 0. A closer estimate to the actual root is found by ***bisecting*** (dividing into 2 equal parts) the interval between the two original guesses:"
   ]
  },
  {
   "cell_type": "markdown",
   "metadata": {},
   "source": [
    "$$root\\_guess=\\frac{(a+b)}{2}  \\hspace{30 mm} (2)$$"
   ]
  },
  {
   "cell_type": "markdown",
   "metadata": {},
   "source": [
    "If *f(a)* &times; *f(root\\_guess)* < 0, then the actual root must be between ***a*** and ***root_guess***. To determine the next estimate for the root, the old value of ***b*** is replaced by the value of ***root_guess***. Otherwise the root lies between ***b*** and ***root_guess*** and the old value of a is replaced by the value of ***root_guess***. This procedure is repeated bisecting the new range until the interval has been reduced to a  small value &#949; (epsilon), such that: \n",
    "$$\\varepsilon = \\frac{|b-a|}{2}$$\n",
    "where  &epsilon; (epsilon) defines the magnitude of the error in the final root estimate, ***root_guess***.\n"
   ]
  },
  {
   "cell_type": "markdown",
   "metadata": {},
   "source": [
    "### Pre-Activity Questions"
   ]
  },
  {
   "cell_type": "markdown",
   "metadata": {},
   "source": [
    "**1\\.** If a root lies between a and b, explain why f(a) &times; f(b) < 0."
   ]
  },
  {
   "cell_type": "markdown",
   "metadata": {
    "collapsed": true
   },
   "source": []
  },
  {
   "cell_type": "markdown",
   "metadata": {},
   "source": [
    "**2\\.** Consider the equation:"
   ]
  },
  {
   "cell_type": "markdown",
   "metadata": {
    "collapsed": true
   },
   "source": [
    "$$f(x) = x^2 - sin(x)-1=0  \\hspace{30 mm} (3)$$"
   ]
  },
  {
   "cell_type": "markdown",
   "metadata": {},
   "source": [
    "Assume that you know that it has a root is between 1 and 2 (for example by graphing it). Determine a numerical estimate for the root of $f(x)$, called `root_guess` in the table below, by bisection (Equation 2) and its error (epsilon). Next identify the appropriate interval for the next estimate based on the result of f(a) &times; f(root_guess). Complete 4 iterations (repetitions) of the bisection method below."
   ]
  },
  {
   "cell_type": "markdown",
   "metadata": {},
   "source": [
    "iteration | a | b | root_guess | epsilon | f(a) x f(root_guess)\n",
    ":---: | :---: | :---: | :---: | :---: | :---: \n",
    "1 | 1 | 2 |   |   |  \n",
    "2 |   |   |   |   |\n",
    "3 |   |   |   |   |\n",
    "4 |   |   |   |   |"
   ]
  },
  {
   "cell_type": "markdown",
   "metadata": {},
   "source": []
  }
 ],
 "metadata": {
  "anaconda-cloud": {},
  "kernelspec": {
   "display_name": "Python [default]",
   "language": "python",
   "name": "python3"
  },
  "language_info": {
   "codemirror_mode": {
    "name": "ipython",
    "version": 3
   },
   "file_extension": ".py",
   "mimetype": "text/x-python",
   "name": "python",
   "nbconvert_exporter": "python",
   "pygments_lexer": "ipython3",
   "version": "3.5.2"
  }
 },
 "nbformat": 4,
 "nbformat_minor": 1
}
