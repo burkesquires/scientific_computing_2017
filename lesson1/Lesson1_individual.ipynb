{
 "cells": [
  {
   "cell_type": "markdown",
   "metadata": {},
   "source": [
    "# Lesson1 Individual Assignment"
   ]
  },
  {
   "cell_type": "markdown",
   "metadata": {},
   "source": [
    "## Programming Practice"
   ]
  },
  {
   "cell_type": "markdown",
   "metadata": {},
   "source": [
    "### part 1"
   ]
  },
  {
   "cell_type": "markdown",
   "metadata": {},
   "source": [
    "Write at least five lines of Python code that:\n",
    "* Create a variable oven and set it to 450 degrees Fahrenheit\n",
    "* Create a variable celsius and use oven and equation 1 from the preactivity to calculate the oven’s temperature in degrees Celsius\n",
    "* Create a variable kelvin and use celsius and equation 2 from the preactivity to calculate the oven’s temperature in kelvins\n",
    "* Print your celsius answer\n",
    "* Print your kelvin answer\n"
   ]
  },
  {
   "cell_type": "code",
   "execution_count": null,
   "metadata": {
    "collapsed": true
   },
   "outputs": [],
   "source": []
  },
  {
   "cell_type": "markdown",
   "metadata": {},
   "source": [
    "Be sure to compare your answer to what you calculated as the pre-activity. If you get a different answer, review the actual Python output in Models 1 and 2. "
   ]
  },
  {
   "cell_type": "markdown",
   "metadata": {},
   "source": [
    "### part 2"
   ]
  },
  {
   "cell_type": "markdown",
   "metadata": {},
   "source": [
    "Now add a way for a user to input a temperature in Farenheit then convert it to both celsius and kelvins. Make sure that you communicate with the user in when gathering input and printing results. Do all of this in a single `code` cell. "
   ]
  },
  {
   "cell_type": "code",
   "execution_count": null,
   "metadata": {
    "collapsed": true
   },
   "outputs": [],
   "source": []
  },
  {
   "cell_type": "markdown",
   "metadata": {},
   "source": [
    "make sure that you test your code with 450 and at least one other temperature that you can verify so that you know your code functions reasonably well. these are called **test cases** and we will be doing things like this a lot."
   ]
  },
  {
   "cell_type": "markdown",
   "metadata": {},
   "source": [
    "Describe the test cases and results."
   ]
  },
  {
   "cell_type": "markdown",
   "metadata": {},
   "source": []
  },
  {
   "cell_type": "markdown",
   "metadata": {},
   "source": [
    "## Self Assessment"
   ]
  },
  {
   "cell_type": "markdown",
   "metadata": {},
   "source": [
    "Find a line of code from today’s activity that exemplifies each of the following programming terms. Copy and paste the code into a ***markdown*** cell below, formatting the example of the term in the line of code as ***bold italic***.\n",
    "\n",
    "For example, for the term “expression”, a line of code would be:\n",
    "\n",
    "`hot = ***273 + 100***`\n",
    "\n",
    "where `***273 + 100***` is the example of an expression and is ***bold italic***.\n",
    "\n",
    "now you do these (each in their own cell):\n",
    "* assignment statement (***bold italic*** the ***assignment operator***)\n",
    "* identifier\n",
    "* calling a function (***bold italic*** the ***function name***)\n",
    "* argument"
   ]
  },
  {
   "cell_type": "markdown",
   "metadata": {},
   "source": []
  }
 ],
 "metadata": {
  "anaconda-cloud": {},
  "kernelspec": {
   "display_name": "Python [default]",
   "language": "python",
   "name": "python3"
  },
  "language_info": {
   "codemirror_mode": {
    "name": "ipython",
    "version": 3
   },
   "file_extension": ".py",
   "mimetype": "text/x-python",
   "name": "python",
   "nbconvert_exporter": "python",
   "pygments_lexer": "ipython3",
   "version": "3.5.2"
  }
 },
 "nbformat": 4,
 "nbformat_minor": 1
}
