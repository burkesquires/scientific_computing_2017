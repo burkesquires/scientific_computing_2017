{
 "cells": [
  {
   "cell_type": "markdown",
   "metadata": {},
   "source": [
    "# Unit 1: Programming Basics\n",
    "## Lesson 1: Introduction to Python - Pre-activity "
   ]
  },
  {
   "cell_type": "markdown",
   "metadata": {},
   "source": [
    "### Scientific Context: Unit Conversions"
   ]
  },
  {
   "cell_type": "markdown",
   "metadata": {},
   "source": [
    "The International System of Units (SI) is the modern metric system of measurement. It was designed to provide an organized system of measurement that everyone in the world could use.  Due to the fact that an SI base unit is not always the most convenient unit for experimental measurements, unit conversions are a very common computation in science. "
   ]
  },
  {
   "cell_type": "markdown",
   "metadata": {},
   "source": [
    "### Fundamental Principles: Temperature Scales"
   ]
  },
  {
   "cell_type": "markdown",
   "metadata": {},
   "source": [
    "The Fahrenheit temperature scale defines 32 for the freezing point of water, 212 for the boiling point of water.  The difference between these two reference points is divided into 180 equal intervals called degrees. In contrast, the Celsius temperature scale defines 0 for the freezing point of water and 100 for the boiling point of water, thus dividing this same region into 100 parts. The following formula can be used to convert a temperature from its representation on the Fahrenheit scale to the Celsius value:"
   ]
  },
  {
   "cell_type": "markdown",
   "metadata": {},
   "source": [
    "_equation 1:_\n",
    "$$T_{Celsius} = \\frac{5}{9}(T_{Farenheit} - 32)$$"
   ]
  },
  {
   "cell_type": "markdown",
   "metadata": {},
   "source": [
    "The Kelvin temperature scale uses the same physical reference points of water as the Celsius scale (0°C for the freezing point of water and 100°C for the boiling point of water), thus the “degree” increment for the two scales is the same.  The Kelvin scale, however, shifts the zero point by defining an absolute zero below which temperatures do not exist, i.e., molecular energy is a minimum.  This point corresponds to a temperature of -273.15° on the Celsius temperature scale such that:"
   ]
  },
  {
   "cell_type": "markdown",
   "metadata": {},
   "source": [
    "_equation 2:_\n",
    "$$T_{kelvin} = T_{Celsius} + 273.15$$"
   ]
  },
  {
   "cell_type": "markdown",
   "metadata": {},
   "source": [
    "Temperatures on this scale are called kelvins, not degrees kelvin, and it is the SI unit for temperature.   "
   ]
  },
  {
   "cell_type": "markdown",
   "metadata": {},
   "source": [
    "### Pre-Activity Questions"
   ]
  },
  {
   "cell_type": "markdown",
   "metadata": {},
   "source": [
    "**1\\. If a cup of water is 38 degrees Celsius, what is it in Fahrenheit?**"
   ]
  },
  {
   "cell_type": "code",
   "execution_count": 12,
   "metadata": {
    "collapsed": true
   },
   "outputs": [],
   "source": [
    "## your code here"
   ]
  },
  {
   "cell_type": "markdown",
   "metadata": {},
   "source": [
    "_your explanation here (delete this)_"
   ]
  },
  {
   "cell_type": "markdown",
   "metadata": {},
   "source": [
    "**2\\. If the temperature of an oven is 450 degrees Fahrenheit, what is it in kelvins?**"
   ]
  },
  {
   "cell_type": "code",
   "execution_count": 11,
   "metadata": {
    "collapsed": true
   },
   "outputs": [],
   "source": [
    "## your code here"
   ]
  },
  {
   "cell_type": "markdown",
   "metadata": {},
   "source": [
    "_your explanation here (delete this)_"
   ]
  }
 ],
 "metadata": {
  "anaconda-cloud": {},
  "kernelspec": {
   "display_name": "Python [default]",
   "language": "python",
   "name": "python3"
  },
  "language_info": {
   "codemirror_mode": {
    "name": "ipython",
    "version": 3
   },
   "file_extension": ".py",
   "mimetype": "text/x-python",
   "name": "python",
   "nbconvert_exporter": "python",
   "pygments_lexer": "ipython3",
   "version": "3.5.2"
  }
 },
 "nbformat": 4,
 "nbformat_minor": 1
}
