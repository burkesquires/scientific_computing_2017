{
 "cells": [
  {
   "cell_type": "markdown",
   "metadata": {
    "collapsed": true
   },
   "source": [
    "# Unit 1: Programming Basics\n",
    "## Lesson 4: Conditional Statements - Pre-activity "
   ]
  },
  {
   "cell_type": "markdown",
   "metadata": {},
   "source": [
    "### Scientific Context: Mathematical Modeling"
   ]
  },
  {
   "cell_type": "markdown",
   "metadata": {},
   "source": [
    "A mathematical model is an abstract model that uses mathematical language to describe a physical system or process. Commonly used in all sciences -- physics, engineering, chemistry, biology, neuroscience, environmental science, and medicine -- the aim of a mathematical model is to provide quantitative answers to an underlying problem.  For example, models have been used to study the dynamics of drug treatment in HIV infected patients or used to make health policy decisions by explaining the spread of certain viruses.  The act of identifying an appropriate set of equations and solving them is referred to as mathematical modeling. This process is similar to other scientific methods in many ways. Starting with a real-world problem, researchers formulate a mathematical description of the relationships among the quantities involved, and then uses mathematical techniques to obtain mathematical conclusions.  These solutions are interpreted in the context of the original problem as predictions and can serve as a basis for further modeling or experimentation. The utility of the model is assessed by how well the model predicts what actually occurs in the system under study. However, modelers are well served by remembering the often quoted statement by statistician George Box, \"all models are wrong; some are useful\"."
   ]
  },
  {
   "cell_type": "markdown",
   "metadata": {},
   "source": [
    "### Fundamental Principles: Quadratic Equation"
   ]
  },
  {
   "cell_type": "markdown",
   "metadata": {},
   "source": [
    "The most common representation of a quadratic equation is:"
   ]
  },
  {
   "cell_type": "markdown",
   "metadata": {},
   "source": [
    "$$ax^2+bx+c=0 \\hspace{30 mm} (1)$$"
   ]
  },
  {
   "cell_type": "markdown",
   "metadata": {},
   "source": [
    "where the solutions, or roots, are given by the following expression:"
   ]
  },
  {
   "cell_type": "markdown",
   "metadata": {},
   "source": [
    "$$x=\\frac{-b\\pm\\sqrt{b^2-4ac}}{2a} \\hspace{30 mm} (2)$$"
   ]
  },
  {
   "cell_type": "markdown",
   "metadata": {},
   "source": [
    "The expression underneath the square root sign, the discriminant (), reveals how many roots exist for _x_.  If the discriminant is positive, there are two real roots. If the discriminant is zero, there is only one root. And finally, if the discriminant is negative, there are no real roots (but two complex roots).\n",
    "\n",
    "Quadratic equations describe many physical processes including the orbits along which the planets moved round the Sun, the swing of a pendulum, the flow of water in a pipe, and the distance an object moves in a given amount of time.  \n",
    "\n",
    "For example, if an object is moving in one direction (1D) without a force acting on it, then it continues to move in that direction with a constant velocity.  In the presence of a force, such as gravity for a baseball or friction in the brakes of a car, the effect of the force is to produce a constant acceleration, _a_.  Assuming an object starts at the position _x=0_ then the displacement, _s_, at time, _t_, is given by:"
   ]
  },
  {
   "cell_type": "markdown",
   "metadata": {},
   "source": [
    "$$s=ut+\\frac{1}{2}at^2 \\hspace{30 mm} (3)$$"
   ]
  },
  {
   "cell_type": "markdown",
   "metadata": {},
   "source": [
    "where _u_ is the initial velocity. This is a quadratic equation linking _t_ to _s_ with many important physical implications. For example, suppose that we know the braking force applied to a car.  This mathematical equation, i.e. model, allows us to determine either how far we travel in a time, _t_, or conversely, how long it takes to travel a given distance, _s_."
   ]
  },
  {
   "cell_type": "markdown",
   "metadata": {},
   "source": [
    "**References** (and for more info):  \n",
    "https://plus.maths.org/content/os/issue29/features/quadratic/index  \n",
    "https://plus.maths.org/content/os/issue30/features/quadratic/index"
   ]
  },
  {
   "cell_type": "markdown",
   "metadata": {},
   "source": [
    "### Pre-Activity Questions"
   ]
  },
  {
   "cell_type": "markdown",
   "metadata": {},
   "source": [
    "**1\\.** Identify the roots of:\n",
    "$$-2x^2-3x-4 = 0$$"
   ]
  },
  {
   "cell_type": "markdown",
   "metadata": {
    "collapsed": true
   },
   "source": []
  },
  {
   "cell_type": "markdown",
   "metadata": {},
   "source": [
    "**2\\.** Name the variables that are used in Equation 3.  How many of these variables must be assigned a numerical value to solve this mathematical model?"
   ]
  },
  {
   "cell_type": "markdown",
   "metadata": {
    "collapsed": true
   },
   "source": []
  },
  {
   "cell_type": "markdown",
   "metadata": {},
   "source": [
    "**3\\.** The solution to the quadratic equation is given in terms of a, b, c.  The physical model, however, uses the letters \"s, u, t, a\".  Assume that we are trying to determine how long it takes, _t_, to travel a given distance, _s_. Rewrite Equation 3 in the form of Equation 1, and identify the name and symbol of the physical terms corresponding to the variable x and parameters a, b, and c."
   ]
  },
  {
   "cell_type": "markdown",
   "metadata": {
    "collapsed": true
   },
   "source": []
  }
 ],
 "metadata": {
  "anaconda-cloud": {},
  "kernelspec": {
   "display_name": "Python [default]",
   "language": "python",
   "name": "python3"
  },
  "language_info": {
   "codemirror_mode": {
    "name": "ipython",
    "version": 3
   },
   "file_extension": ".py",
   "mimetype": "text/x-python",
   "name": "python",
   "nbconvert_exporter": "python",
   "pygments_lexer": "ipython3",
   "version": "3.5.2"
  }
 },
 "nbformat": 4,
 "nbformat_minor": 1
}
