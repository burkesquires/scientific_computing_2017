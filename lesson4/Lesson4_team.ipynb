{
 "cells": [
  {
   "cell_type": "markdown",
   "metadata": {
    "collapsed": true
   },
   "source": [
    "# Unit 1: Programming Basics"
   ]
  },
  {
   "cell_type": "markdown",
   "metadata": {},
   "source": [
    "## Lesson 4: Conditional Statements"
   ]
  },
  {
   "cell_type": "markdown",
   "metadata": {},
   "source": [
    "## Notebook Authors "
   ]
  },
  {
   "cell_type": "markdown",
   "metadata": {},
   "source": [
    "_(fill in your two names here)_"
   ]
  },
  {
   "cell_type": "markdown",
   "metadata": {},
   "source": [
    "## Team Roles"
   ]
  },
  {
   "cell_type": "markdown",
   "metadata": {},
   "source": [
    "Facilitator: _(fill in name)_  \n",
    "Spokesperson: _(fill in name)_  \n",
    "Process Analyst: _(fill in name)_  \n",
    "Quality Control: _(fill in name)_  \n",
    "\n",
    "If there are only three people in your team, have one person serve as both spokesperson and process analyst for the rest of this activity.<p>\n",
    "At the end of this Lesson, you will be asked to record how long each Model required for your team. The _Facilitator_ should keep track of time for your team."
   ]
  },
  {
   "cell_type": "markdown",
   "metadata": {},
   "source": [
    "## Computational Focus: Conditional Statements "
   ]
  },
  {
   "cell_type": "markdown",
   "metadata": {},
   "source": [
    "### Model 1: Boolean Values and Expression"
   ]
  },
  {
   "cell_type": "markdown",
   "metadata": {},
   "source": [
    "***Boolean*** is a data type that only has two values: `True` or `False`. (The capitalization is required.)  A ***Boolean expression*** is a comparison statement that results in one of the two Boolean values.  The six relational operators commonly used in a Boolean expression can be found in Table 1 at the end of this lesson.\n",
    "\n",
    "**Type** (don't copy and paste) the following code, one line per Jupyter cell, to observe the output (if any):\n",
    "```python\n",
    "type(True)\n",
    "type(3 < 4)\n",
    "print(3 < 4)\n",
    "three, four = 3, 4\n",
    "print(three == four)\n",
    "check = three > four\n",
    "print(check)\n",
    "type(check)\n",
    "print(three = four)\n",
    "three = four\n",
    "print(three == four)\n",
    "```"
   ]
  },
  {
   "cell_type": "markdown",
   "metadata": {},
   "source": [
    "### Critical Thinking Questions"
   ]
  },
  {
   "cell_type": "markdown",
   "metadata": {},
   "source": [
    "1\\. Identify two examples for each of the following terms demonstrated in the above Model:  \n",
    "1a. Boolean"
   ]
  },
  {
   "cell_type": "markdown",
   "metadata": {},
   "source": [
    "1b. Boolean operator"
   ]
  },
  {
   "cell_type": "markdown",
   "metadata": {},
   "source": [
    "1c. Boolean expression "
   ]
  },
  {
   "cell_type": "markdown",
   "metadata": {},
   "source": [
    "2\\. Explain why the same Boolean expression `three == four` evaluated as two different Boolean values in Model 1 (lines 5 and 11). "
   ]
  },
  {
   "cell_type": "markdown",
   "metadata": {},
   "source": [
    "3\\. Give an example of a Boolean expression that uses the Booliean operator `!=` and evaluates to False.  "
   ]
  },
  {
   "cell_type": "markdown",
   "metadata": {},
   "source": [
    "4\\. What is the difference between `=` and the `==` operators? "
   ]
  },
  {
   "cell_type": "markdown",
   "metadata": {},
   "source": [
    "### Model 2: The if Statement"
   ]
  },
  {
   "cell_type": "markdown",
   "metadata": {},
   "source": [
    "Many times it is necessary to control which statements are executed in a program. A ***branching statement*** contains a condition that determines whether or not the following block of code is executed. This decision point is signaled by the `if` keyword followed by a Boolean expression and a colon. All indented lines following the if-statement are executed only if the value of the Boolean expression is `True`.  \n",
    "\n",
    "![alt text](http://people.westminstercollege.edu/faculty/hhu/370/images/L4_image1.png \"if-then flowchart\")\n",
    "\n",
    "Define the following model in a single Jupyter code cell:\n",
    "\n",
    "```Python\n",
    "def model_two(number):\n",
    "    \"\"\"\n",
    "    this function takes a number as \n",
    "    a parameter and determines its \n",
    "    relationship to the value 3600.\n",
    "    \"\"\"\n",
    "    if number < 3600:\n",
    "        print(str(number) + \" is less than 3600\")\n",
    "    print(\"goodbye\")\n",
    "```  \n",
    "Make sure the code is properly indented. Then call the function twice in two separate Jupyter code cells:\n",
    "\n",
    "```Python\n",
    "model_two(100)\n",
    "model_two(9999)\n",
    "``` "
   ]
  },
  {
   "cell_type": "markdown",
   "metadata": {},
   "source": [
    "### Critical Thinking Questions"
   ]
  },
  {
   "cell_type": "markdown",
   "metadata": {},
   "source": [
    "5\\. Give the Boolean expression from the above code."
   ]
  },
  {
   "cell_type": "markdown",
   "metadata": {
    "collapsed": true
   },
   "source": [
    "6\\. What must the value of that Boolean expression be, in order for the first `print` function in `model_two` to execute?"
   ]
  },
  {
   "cell_type": "markdown",
   "metadata": {},
   "source": [
    "7\\. After an if-condition, what syntax differentiates between (1) statements that are executed based on the condition and (2) statements that are always executed?  "
   ]
  },
  {
   "cell_type": "markdown",
   "metadata": {},
   "source": [
    "8\\. Describe an advantage to calling `print` functions with an `if`-statement.   "
   ]
  },
  {
   "cell_type": "markdown",
   "metadata": {},
   "source": [
    "### Model 3: The if-else Statement"
   ]
  },
  {
   "cell_type": "markdown",
   "metadata": {},
   "source": [
    "Often times a different execution is desired when the if-statement condition is `False`.  When an if-statement includes the keyword `else`, the statement decides between executing two different blocks of code. \n",
    "\n",
    "![alt text](http://people.westminstercollege.edu/faculty/hhu/370/images/L4_image2.png \"if-else flowchart\")\n",
    "\n",
    "Define the `model_three` function in a single Jupyter code cell: \n",
    "\n",
    "```Python\n",
    "def model_three(number):\n",
    "    \"\"\"\n",
    "    this function takes a number as \n",
    "    a parameter and determines its \n",
    "    relationship to the value 3600.\n",
    "    \"\"\"\n",
    "    if number < 3600:\n",
    "        print(number, \"is less than 3600\")\n",
    "        answer = True\n",
    "    else:\n",
    "        print(number, \"is greater than 3600\")\n",
    "        answer = False\n",
    "    return answer\n",
    "```\n",
    "now add the following Python lines in a separate code cell:\n",
    "```python\n",
    "seconds = int(input(\"Enter a number of seconds:\"))\n",
    "print(\"is my time less than an hour?\")\n",
    "print(model_three(seconds))\n",
    "```  \n",
    "***Note:*** _for the multiple test cases in questions below, make sure that you show the results of each of them. To do that you'll need to repeat part of the code above (but not all of it) each time you want to test a different value._"
   ]
  },
  {
   "cell_type": "markdown",
   "metadata": {},
   "source": [
    "### Critical Thinking Questions"
   ]
  },
  {
   "cell_type": "markdown",
   "metadata": {},
   "source": [
    "9\\. What type of variable is being stored in the variable `answer`?"
   ]
  },
  {
   "cell_type": "markdown",
   "metadata": {},
   "source": [
    "10\\. Consider what happens in each of the following situations:  \n",
    "10a. What happens if the value of the first Boolean expression (after `if`) is `True`?"
   ]
  },
  {
   "cell_type": "markdown",
   "metadata": {
    "collapsed": true
   },
   "source": [
    "10b. What is the value of `answer` when 10 is entered at the prompt (show your results)? Explain _how_ the variables `number` and `answer` get their values. "
   ]
  },
  {
   "cell_type": "markdown",
   "metadata": {},
   "source": [
    "10c. What is the value of `answer` when 9999 is entered at the prompt (show your results)? Explain _how_ the variable `answer` gets its value. \n"
   ]
  },
  {
   "cell_type": "markdown",
   "metadata": {},
   "source": [
    "11\\. Are the `print` functions correct when you input the number 3600 (show your results)?  Explain why or why not."
   ]
  },
  {
   "cell_type": "markdown",
   "metadata": {},
   "source": [
    "### Model 4: The if-elif-else Statement"
   ]
  },
  {
   "cell_type": "markdown",
   "metadata": {},
   "source": [
    "When there are multiple conditional statements to evaluate that may be `True`, you can use the keyword `elif`  (short for “else-if”). Each condition statement is evaluated until the Boolean expression is `True` and then the remaining branching statements (`elif` or `else`) are ignored. You also are not required to use final `else` when you use an `elif`.  \n",
    "\n",
    "Define the `model_four` function in a single Jupyter code cell: \n",
    "\n",
    "```python\n",
    "def model_four(number):\n",
    "    \"\"\"\n",
    "    this function takes a number as \n",
    "    a parameter and determines its \n",
    "    relationship to the value 3600.\n",
    "    \"\"\"    \n",
    "    if number < 3600:\n",
    "         print(number, \"is less than 3600\")\n",
    "         answer = False\n",
    "    elif number > 3600:\n",
    "         print(number, \"is greater than 3600\")\n",
    "         answer = False\n",
    "    else:\n",
    "         print(\"your number is 3600\")\n",
    "         answer = True \n",
    "    return answer\n",
    "```\n",
    "now add the following Python lines in a separate code cell:\n",
    "```python    \n",
    "seconds = int(input(\"Enter a number of seconds:\"))\n",
    "print(\"is my time equal to an hour?\")\n",
    "print(model_four(seconds))\n",
    "```"
   ]
  },
  {
   "cell_type": "markdown",
   "metadata": {},
   "source": [
    "### Critical Thinking Questions"
   ]
  },
  {
   "cell_type": "markdown",
   "metadata": {},
   "source": [
    "12\\. Which `print` functions execute if the values of the first two Boolean expressions are `False`? "
   ]
  },
  {
   "cell_type": "markdown",
   "metadata": {},
   "source": [
    "13\\. If the value of the first Boolean expressions is `True`, how many remaining lines of code are ignored or skipped?"
   ]
  },
  {
   "cell_type": "markdown",
   "metadata": {},
   "source": [
    "14\\. Run code to show the value of `answer`, then explain how it gets its value for each of the following:   \n",
    "14a. the number entered is 10"
   ]
  },
  {
   "cell_type": "markdown",
   "metadata": {},
   "source": [
    "14b. the number entered is 3600"
   ]
  },
  {
   "cell_type": "markdown",
   "metadata": {},
   "source": [
    "14c. the number entered is 9999"
   ]
  },
  {
   "cell_type": "markdown",
   "metadata": {},
   "source": [
    "15\\. Consider how to solve for the time it takes a car initially traveling at a velocity of 11 m/s (~25 mph) to go 400 meters while applying a constant acceleration of 6.0 m/s<sup>2</sup>.  Using your group's answers to the pre-activity, identify the appropriate input values for a, b, & c to solve this problem. "
   ]
  },
  {
   "cell_type": "markdown",
   "metadata": {},
   "source": [
    "16\\. Describe how a branching statement might be useful in a program solving the quadratic formula (from the Lesson 4 pre-activity)."
   ]
  },
  {
   "cell_type": "markdown",
   "metadata": {},
   "source": [
    "### Temporal Analysis Report"
   ]
  },
  {
   "cell_type": "markdown",
   "metadata": {},
   "source": [
    "How much time did it require for your team to complete each Model?"
   ]
  },
  {
   "cell_type": "markdown",
   "metadata": {},
   "source": [
    "Model 1:   \n",
    "Model 2:  \n",
    "Model 3:   \n",
    "Model 4:  "
   ]
  },
  {
   "cell_type": "markdown",
   "metadata": {},
   "source": [
    "# END OF CLASS"
   ]
  },
  {
   "cell_type": "markdown",
   "metadata": {
    "collapsed": true
   },
   "source": [
    "**Table 1: Boolean Comparisons** ([copied from and more info here](https://docs.python.org/3.6/library/stdtypes.html#comparisons))\n",
    "\n",
    "Operation | Meaning\n",
    ":---: | :---:\n",
    "< | strictly less than\n",
    "<= | less than or equal\n",
    "> | strictly greater than\n",
    ">= | greater than or equal\n",
    "== | equal\n",
    "!= | not equal\n",
    "is | object identity\n",
    "is not | negated object identity\n"
   ]
  },
  {
   "cell_type": "code",
   "execution_count": null,
   "metadata": {
    "collapsed": true
   },
   "outputs": [],
   "source": []
  }
 ],
 "metadata": {
  "anaconda-cloud": {},
  "kernelspec": {
   "display_name": "Python [default]",
   "language": "python",
   "name": "python3"
  },
  "language_info": {
   "codemirror_mode": {
    "name": "ipython",
    "version": 3
   },
   "file_extension": ".py",
   "mimetype": "text/x-python",
   "name": "python",
   "nbconvert_exporter": "python",
   "pygments_lexer": "ipython3",
   "version": "3.5.2"
  }
 },
 "nbformat": 4,
 "nbformat_minor": 1
}
