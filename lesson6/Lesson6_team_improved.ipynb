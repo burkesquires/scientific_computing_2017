{
 "cells": [
  {
   "cell_type": "markdown",
   "metadata": {},
   "source": [
    "# Unit 1: Programming Basics"
   ]
  },
  {
   "cell_type": "markdown",
   "metadata": {},
   "source": [
    "## Lesson 6: `while` loops "
   ]
  },
  {
   "cell_type": "markdown",
   "metadata": {},
   "source": [
    "## Notebook Authors "
   ]
  },
  {
   "cell_type": "markdown",
   "metadata": {},
   "source": [
    "_(fill in your two names here)_"
   ]
  },
  {
   "cell_type": "markdown",
   "metadata": {},
   "source": [
    "Facilitator: _(fill in name)_  \n",
    "Spokesperson: _(fill in name)_  \n",
    "Process Analyst: _(fill in name)_  \n",
    "Quality Control: _(fill in name)_  \n",
    "\n",
    "If there are only three people in your group, have one person serve as both spokesperson and process analyst for the rest of this activity.  \n",
    "\n",
    "At the end of this Lesson, you will be asked to record how long each Model required for your team. The Facilitator should keep track of time for your team."
   ]
  },
  {
   "cell_type": "markdown",
   "metadata": {},
   "source": [
    "## Computational Focus: `while` loops"
   ]
  },
  {
   "cell_type": "markdown",
   "metadata": {},
   "source": [
    "### Model 1: Useful Reassignments"
   ]
  },
  {
   "cell_type": "markdown",
   "metadata": {},
   "source": [
    "Consider the following series of Python statements.  At the end of each section of code, identify the current value of the specified variable(s) (i.e., the value displayed if you used the print command) assuming all previous lines of code were executed. Do ***not*** run this code in a Python code cell yet. "
   ]
  },
  {
   "cell_type": "markdown",
   "metadata": {},
   "source": [
    "### Section1\n",
    "```python\n",
    "x = 1\n",
    "y = 2    \n",
    "y = x  \n",
    "x = y\n",
    "```"
   ]
  },
  {
   "cell_type": "markdown",
   "metadata": {},
   "source": [
    "Value of x =   \n",
    "Value of y = "
   ]
  },
  {
   "cell_type": "markdown",
   "metadata": {},
   "source": [
    "### Section2\n",
    "```python\n",
    "x = 1\n",
    "y = 2    \n",
    "z = y  \n",
    "y = x\n",
    "x = z\n",
    "```"
   ]
  },
  {
   "cell_type": "markdown",
   "metadata": {},
   "source": [
    "Value of x =   \n",
    "Value of y = "
   ]
  },
  {
   "cell_type": "markdown",
   "metadata": {},
   "source": [
    "### Section3\n",
    "```python\n",
    "z = 2\n",
    "x = 2\n",
    "z = z + 1\n",
    "z = z + 1\n",
    "x = x + z\n",
    "a = a + 1\n",
    "```"
   ]
  },
  {
   "cell_type": "markdown",
   "metadata": {},
   "source": [
    "Value of z =   \n",
    "Value of x =  \n",
    "Value of a ="
   ]
  },
  {
   "cell_type": "markdown",
   "metadata": {},
   "source": [
    "### Section4\n",
    "```python\n",
    "a = list(range(3))\n",
    "i = 1\n",
    "a[0] = a[0] + i  \n",
    "a[i] = a[0] + 1  \n",
    "a[i+1] = a[i-1] + 1\n",
    "```"
   ]
  },
  {
   "cell_type": "markdown",
   "metadata": {},
   "source": [
    "Value of a =   "
   ]
  },
  {
   "cell_type": "markdown",
   "metadata": {},
   "source": [
    "### Critical Thinking Questions"
   ]
  },
  {
   "cell_type": "markdown",
   "metadata": {},
   "source": [
    "1\\. Execute all of the code from above in cells below (best as one cell per section) and check that the results coincide with the predictions of your group.  \n",
    "Discuss the resolution of any difference below. "
   ]
  },
  {
   "cell_type": "code",
   "execution_count": null,
   "metadata": {
    "collapsed": true
   },
   "outputs": [],
   "source": []
  },
  {
   "cell_type": "markdown",
   "metadata": {},
   "source": []
  },
  {
   "cell_type": "markdown",
   "metadata": {},
   "source": [
    "2\\. Explain why the value of `x` is not 2 after ***Section1*** of the code."
   ]
  },
  {
   "cell_type": "markdown",
   "metadata": {},
   "source": [
    "3\\. Describe what happens to the values of the variables `x` and `y` in ***Section2*** of the code."
   ]
  },
  {
   "cell_type": "markdown",
   "metadata": {},
   "source": [
    "4\\. What is the purpose of the variable `z` in ***Section2*** of the code? Explain."
   ]
  },
  {
   "cell_type": "markdown",
   "metadata": {},
   "source": [
    "5\\. Describe what happens to the value of `z` in ***Section3*** of the code."
   ]
  },
  {
   "cell_type": "markdown",
   "metadata": {},
   "source": [
    "6\\. Why is it possible to increment (change the value of a variable by one) the variable `z` but not the variable `a` in ***Section3*** of the code?"
   ]
  },
  {
   "cell_type": "markdown",
   "metadata": {},
   "source": [
    "7\\. Describe how the first two assignment statements in ***Section4*** of the code differ significantly from last three assignment statements in ***Section4*** of the code?"
   ]
  },
  {
   "cell_type": "markdown",
   "metadata": {},
   "source": [
    "8a. Write an assignment statement that sets the value of the last element of the list, `a`, in ***Section4*** to 3 using only current elements of the list, `a`, referenced appropriately in terms of index `i`."
   ]
  },
  {
   "cell_type": "markdown",
   "metadata": {},
   "source": [
    "8b. Why do you need the `range(3)` enclosed in `list()`? Also use Python code to illustrate."
   ]
  },
  {
   "cell_type": "markdown",
   "metadata": {},
   "source": [
    "### Model 2: `while` loops"
   ]
  },
  {
   "cell_type": "markdown",
   "metadata": {},
   "source": [
    "Another common looping structure is a `while-loop`. Examine the diagram below:  \n",
    "![while loop image](https://github.com/nerdcommander/scientific_computing_2017/raw/f577038a9664d1e973502b055e810264f36eba47/lesson6/while_loop.png)"
   ]
  },
  {
   "cell_type": "markdown",
   "metadata": {},
   "source": [
    "Here is an example `while` loop:\n",
    "```python\n",
    "def model_two():\n",
    "    i = 0\n",
    "    while i < 3:\n",
    "       print (\"the number is\", i)\n",
    "       i = i+1\n",
    "    print (\"goodbye\")\n",
    "```\n",
    "***Type*** the code for `model_two()` into a code cell.  \n",
    "\n",
    "Then call the `model_two()` function in a second code cell to make sure it works."
   ]
  },
  {
   "cell_type": "code",
   "execution_count": null,
   "metadata": {
    "collapsed": true
   },
   "outputs": [],
   "source": []
  },
  {
   "cell_type": "code",
   "execution_count": null,
   "metadata": {
    "collapsed": false,
    "scrolled": true
   },
   "outputs": [],
   "source": []
  },
  {
   "cell_type": "markdown",
   "metadata": {},
   "source": [
    "### Critical Thinking Questions"
   ]
  },
  {
   "cell_type": "markdown",
   "metadata": {},
   "source": [
    "9\\. What must be the value of the `Boolean` expression (after `while`) in order for the first `print` statement to execute?"
   ]
  },
  {
   "cell_type": "markdown",
   "metadata": {},
   "source": [
    "10\\. What is the _increment_ statement for the variable `i` in the above code?"
   ]
  },
  {
   "cell_type": "markdown",
   "metadata": {},
   "source": [
    "11\\. What happens to the value of the variable `i` during the execution of the loop?"
   ]
  },
  {
   "cell_type": "markdown",
   "metadata": {},
   "source": [
    "12\\. Explain why the indented code does not execute after the code `prints` “the number is 2”."
   ]
  },
  {
   "cell_type": "markdown",
   "metadata": {},
   "source": [
    "13\\. Reverse the order of the code in the body of the while-loop in the model_two function like this:\n",
    "```python\n",
    "while i < 3:\n",
    "    i = i+1\n",
    "    print (\"the number is\", i)\n",
    "```"
   ]
  },
  {
   "cell_type": "markdown",
   "metadata": {},
   "source": [
    "13a. How does the order impact the displayed message corresponding to the last indented `print` line inside the `while`-loop?"
   ]
  },
  {
   "cell_type": "markdown",
   "metadata": {},
   "source": [
    "13b. Does the order impact the number of print lines that display?"
   ]
  },
  {
   "cell_type": "markdown",
   "metadata": {},
   "source": [
    "14\\. Identify three different ways to modify the code so that the loop only executes twice. Illustrate each in code and include a brief explanation."
   ]
  },
  {
   "cell_type": "markdown",
   "metadata": {},
   "source": [
    "15\\. Describe the three parts of the while loop that control the number of times a while-loop executes.\n"
   ]
  },
  {
   "cell_type": "markdown",
   "metadata": {},
   "source": [
    "***Warning: Read this section!*** question 16 will and question 17 can create an infinite loop.  \n",
    "***Be prepared!*** Infinite loops can crash your notebook, notebook server, and/or web browser!  \n",
    "The fastest way to kill an infinite loop is to use the keyboard shortcut `I,I` (press the `I` key on yoru keyboard 2 times in rapid succession while the cell is in command mode). This can also be accomplished by going to the `Kernel --> Interrupt` menu option as fast as possible.\n",
    "\n",
    "***Before*** you run any suspect `while` loop save your notebook! If you have produced an infinite loop, the safest way back to productivity is to use the `Kernel` --> `Restart & Clear Output` menu option as this will both restart the kernel and flush any obnoxiously long output from an infinite print."
   ]
  },
  {
   "cell_type": "markdown",
   "metadata": {},
   "source": [
    "16\\. ***Warning infinite loop coming!*** Copy the `model_two()` function, comment out the increment statement for the variable i, and execute the new version of the `model_two()` function. **Interrupt** the kernel ASAP. Describe the behavior you see, and explain why it happened."
   ]
  },
  {
   "cell_type": "markdown",
   "metadata": {},
   "source": [
    "17\\. Forgetting to increment your counting variable is not the only mistake that will create an infinite loop. Restore the increment statement in the `model_two()` function. What is another error you could introduce to the model2 function that would still cause an infinite loop? _(depending on your experience so far, might be best to describe but NOT run code)_"
   ]
  },
  {
   "cell_type": "markdown",
   "metadata": {},
   "source": [
    "### Model 3: `while` loops in practice"
   ]
  },
  {
   "cell_type": "markdown",
   "metadata": {},
   "source": [
    "When writing a loop, it's helpful to answer a few questions before you start coding:  \n",
    "+ what condition must be true for the loop to repeat?  \n",
    "+ what needs to be initialized before the start of the loop? \n",
    "+ what will change inside the body of the loop so that the loop will eventually end?\n"
   ]
  },
  {
   "cell_type": "markdown",
   "metadata": {},
   "source": [
    "### Critical Thinking Questions"
   ]
  },
  {
   "cell_type": "markdown",
   "metadata": {},
   "source": [
    "18\\. In this model, you will design a `sum` function that prompts the user for multiple numbers and returns the sum of all these values. The `sum` function should take a single parameter (the number of times your program should prompt for values to be entered). Be sure to call your function with at least the following test case:\n",
    "```Python\n",
    "sum(5)\n",
    "```\n",
    "and you should be able to enter the following 5 values, e.g., 10, 2, 30, 4, 5. The function should return the result of 51.\n",
    "\n",
    "Begin by answering the following questions (NOT coding):"
   ]
  },
  {
   "cell_type": "markdown",
   "metadata": {},
   "source": [
    "18a\\. Describe in English the Boolean expression that must be true for the loop to repeat."
   ]
  },
  {
   "cell_type": "markdown",
   "metadata": {},
   "source": [
    "18b. What variables (used by the Boolean expression) need to be initialized before the start of the loop?"
   ]
  },
  {
   "cell_type": "markdown",
   "metadata": {
    "collapsed": true
   },
   "source": [
    "18c. Describe in English what will need to change inside the body of the loop so that the loop will eventually end."
   ]
  },
  {
   "cell_type": "markdown",
   "metadata": {},
   "source": [
    "18d. Now list what else needs to happen inside the body of the loop for you to calculate the sum of multiple numbers."
   ]
  },
  {
   "cell_type": "markdown",
   "metadata": {},
   "source": [
    "18e\\. Given your answer to 18d, are there any other values that need to be initialized before the start of the loop?"
   ]
  },
  {
   "cell_type": "markdown",
   "metadata": {},
   "source": [
    "19\\. This function could be written several different ways. To help you gain experience with while-loops, you should write this function using a while loop and _without using a list_. Your program needs to track the running total of all the numbers being entered, yet at all times, it will only be able to access the current number inside the loop. Fill out the rest of this table which tracks the running total of the function:"
   ]
  },
  {
   "cell_type": "markdown",
   "metadata": {},
   "source": [
    "value entered | running total\n",
    ":---: | :---: \n",
    "10 | 10\n",
    "2 |  \n",
    "30 |   \n",
    "4 |   \n",
    "5 |"
   ]
  },
  {
   "cell_type": "markdown",
   "metadata": {},
   "source": [
    "20\\. Once you have answered the above questions, you are ready to code our `sum` function here!"
   ]
  },
  {
   "cell_type": "code",
   "execution_count": null,
   "metadata": {
    "collapsed": true
   },
   "outputs": [],
   "source": []
  },
  {
   "cell_type": "markdown",
   "metadata": {},
   "source": [
    "### Temporal Analysis Report"
   ]
  },
  {
   "cell_type": "markdown",
   "metadata": {},
   "source": [
    "How much time did it require for your team to complete each Model?"
   ]
  },
  {
   "cell_type": "markdown",
   "metadata": {},
   "source": [
    "Model 1:  "
   ]
  },
  {
   "cell_type": "markdown",
   "metadata": {},
   "source": [
    "Model 2:  "
   ]
  },
  {
   "cell_type": "markdown",
   "metadata": {},
   "source": [
    "Model 3:  "
   ]
  }
 ],
 "metadata": {
  "anaconda-cloud": {},
  "kernelspec": {
   "display_name": "Python [default]",
   "language": "python",
   "name": "python3"
  },
  "language_info": {
   "codemirror_mode": {
    "name": "ipython",
    "version": 3
   },
   "file_extension": ".py",
   "mimetype": "text/x-python",
   "name": "python",
   "nbconvert_exporter": "python",
   "pygments_lexer": "ipython3",
   "version": "3.5.2"
  }
 },
 "nbformat": 4,
 "nbformat_minor": 2
}
