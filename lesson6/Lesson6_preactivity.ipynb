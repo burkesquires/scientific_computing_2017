{
 "cells": [
  {
   "cell_type": "markdown",
   "metadata": {
    "collapsed": true
   },
   "source": [
    "# Unit 1: Programming Basics\n",
    "## Lesson 6: While Loops - Pre-activity "
   ]
  },
  {
   "cell_type": "markdown",
   "metadata": {},
   "source": [
    "### Scientific Context: Iteration"
   ]
  },
  {
   "cell_type": "markdown",
   "metadata": {},
   "source": [
    "One of the most important methods of modern scientific computation is to determine a solution by iteration. While this method has been known for a long time, it has only become widely used with the modern computer. Normally, one uses iterative methods when ordinary analytical mathematical methods fail or are too time-consuming to be practical. Even relatively simple mathematical procedures may take a long time because of extensive algebraic manipulation.  \n",
    "\n",
    "A common iterative procedure is to solve a problem by repeated calculations that do not give the correct answer initially but get closer to it as the calculation is repeated many times. The approximate solution is said to converge on the correct solution. Due to its speed, a computer can repeat an iterative calculation thousands of times to converge on the right answer in a reasonable amount of time."
   ]
  },
  {
   "cell_type": "markdown",
   "metadata": {},
   "source": [
    "### Physical Fundamentals: Newton's Method"
   ]
  },
  {
   "cell_type": "markdown",
   "metadata": {},
   "source": [
    "Like the bisection method, Newton’s method is a numerical method for finding a root of a function. It converges much faster than the bisection method and requires only one initial estimate instead of a range. Newton’s method determines a new (and better) estimate x<sub>1</sub> based on the initial estimate x<sub>0</sub> using the following relationship:"
   ]
  },
  {
   "cell_type": "markdown",
   "metadata": {},
   "source": [
    "$$x_1=x_0-\\frac{f(x_0)}{f'(x_0)}  \\hspace{30 mm} (1)$$"
   ]
  },
  {
   "cell_type": "markdown",
   "metadata": {},
   "source": [
    "where $f(x_0)$) is the original function evaluated at $x_0$, and $f'(x_0)$ is the ***first derivative*** of the function evaluated at $x_0$. If you don't remember your calculus well, you can use [the Derivative Calculator](http://www.derivative-calculator.net/) or [Wolfram Alpha](http://www.wolframalpha.com/) to help you find a derivative.\n",
    "\n",
    "The error, $\\varepsilon$, in the new estimate can be determined by solving $f(x_1)$, because the original equation you are solving for is $f(x)=0$."
   ]
  },
  {
   "cell_type": "markdown",
   "metadata": {},
   "source": [
    "### Pre-Activity Questions"
   ]
  },
  {
   "cell_type": "markdown",
   "metadata": {},
   "source": [
    "**1\\.** Determine the first derivative for the function:"
   ]
  },
  {
   "cell_type": "markdown",
   "metadata": {
    "collapsed": true
   },
   "source": [
    "$$f(x) = x^2 - sin(x)-1=0  \\hspace{30 mm} (2)$$"
   ]
  },
  {
   "cell_type": "markdown",
   "metadata": {
    "collapsed": true
   },
   "source": []
  },
  {
   "cell_type": "markdown",
   "metadata": {},
   "source": [
    "**2\\.** Complete 3 more iterations of Newton’s method, using $x_0 = 2.5$ as your first estimate."
   ]
  },
  {
   "cell_type": "markdown",
   "metadata": {},
   "source": [
    "iteration | $x_0$ | $f(x_0)$ | $f'(x_0)$ | $x_1$ | $\\varepsilon$ (error)\n",
    ":---: | :-----: | :-----: | :----: | :-----: | :-----: \n",
    "1 | 2.5 | 4.6515  |  5.80110  |  1.69818  |  0.8919\n",
    "2 | 1.69818  |   |   |   |\n",
    "3 |   |   |   |   |\n",
    "4 |   |   |   |   |"
   ]
  },
  {
   "cell_type": "code",
   "execution_count": null,
   "metadata": {
    "collapsed": true
   },
   "outputs": [],
   "source": []
  }
 ],
 "metadata": {
  "anaconda-cloud": {},
  "kernelspec": {
   "display_name": "Python [default]",
   "language": "python",
   "name": "python3"
  },
  "language_info": {
   "codemirror_mode": {
    "name": "ipython",
    "version": 3
   },
   "file_extension": ".py",
   "mimetype": "text/x-python",
   "name": "python",
   "nbconvert_exporter": "python",
   "pygments_lexer": "ipython3",
   "version": "3.5.2"
  }
 },
 "nbformat": 4,
 "nbformat_minor": 1
}
