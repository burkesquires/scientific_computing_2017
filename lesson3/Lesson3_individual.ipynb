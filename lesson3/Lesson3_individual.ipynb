{
 "cells": [
  {
   "cell_type": "markdown",
   "metadata": {
    "collapsed": true
   },
   "source": [
    "# Lesson3 Individual Assignment"
   ]
  },
  {
   "cell_type": "markdown",
   "metadata": {},
   "source": [
    "***Individual*** means that you do it yourself. You won't learn to code if you don't ***struggle for yourself*** and  ***write your own*** code. Remember that while you can discuss the general (algorithmic) way to solve a problem, you should ***not*** even be looking at anyone else's code or showing anyone else your code for an individual assignment. Ask an instructor if you are really stuck and having very specific code problems.  \n",
    "Review the **Group Work** guidelines on Cavas and/or ask an instructor if you have any questions."
   ]
  },
  {
   "cell_type": "markdown",
   "metadata": {},
   "source": [
    "## Background info"
   ]
  },
  {
   "cell_type": "markdown",
   "metadata": {},
   "source": [
    "During their work scientists are often calculating and converting units and coordinate systems, in this case converting between polar and rectangular/cartesian coordinate systems.  \n",
    "\n",
    "From a programming point of view, in this assignment, you will continue to write functions that take parameters. We will also start increasing the modularity of our code by defining functions that do useful pieces of calcualtions then bringing them together into a final function that calls several other earlier functions. This will make more sense when you get into the activity. One thing to watch out for though, is that you want to make sure that you are using `return` and not `print`ing stuff. Really none of the functions in this assignment need to `print` anything."
   ]
  },
  {
   "cell_type": "markdown",
   "metadata": {},
   "source": [
    "Look back at the information on the **Fundamental Principles of Polar Coordinates**, the diagram, and equations in Lesson 2 Pre-Activity. You will need that information for this assignment."
   ]
  },
  {
   "cell_type": "markdown",
   "metadata": {},
   "source": [
    "## Programming Practice"
   ]
  },
  {
   "cell_type": "markdown",
   "metadata": {},
   "source": [
    "Be sure to spell all function names ***correctly*** - misspelled functions will lose points (and often break anyway since no one is sure what to type to call it). If you prefer showing your earlier, scratch work as you figure out what you are doing, please be sure that you make a final, complete, correct last function in its own cell that you then call several times to test. In other words, separate your thought process/working versions from the final one (a comment that tells us which is the final version would be lovely).  \n",
    "\n",
    "Every function should have ***at least*** a docstring at the start that states generally what it does (see _Lesson3 team_ if you need a reminder). Make other comments as necessary."
   ]
  },
  {
   "cell_type": "markdown",
   "metadata": {},
   "source": [
    "Copy and run your final version of `degrees2radians` function from the Lesson2 Individual assignment into this notebook. Double check that this function takes an angle in degrees as a parameter and returns only the value in radians *(it should not print anything at all!)*  \n",
    "\n",
    "_(Also, remember how meaningful white space is in Python, pasting can sometimes mess up the spaces/tabs)_"
   ]
  },
  {
   "cell_type": "code",
   "execution_count": null,
   "metadata": {
    "collapsed": true
   },
   "outputs": [],
   "source": []
  },
  {
   "cell_type": "markdown",
   "metadata": {},
   "source": [
    "***Test*** `degrees2radians` with the values below (in degrees) it to make sure that it still works! (feel free to add tests)\n",
    "* 0&deg;\n",
    "* 45&deg;\n",
    "* 57.296&deg;\n",
    "* 90&deg;\n",
    "* 180&deg;  \n",
    "\n",
    "when you are done testing, write a brief interpretation of the test results."
   ]
  },
  {
   "cell_type": "code",
   "execution_count": null,
   "metadata": {
    "collapsed": true
   },
   "outputs": [],
   "source": []
  },
  {
   "cell_type": "markdown",
   "metadata": {},
   "source": [
    "Now define a `hypotenuse` function that takes two parameters (two sides of a right triangle) and returns the _radius_ according to Equation 3 from Lesson 2 Pre-Activity."
   ]
  },
  {
   "cell_type": "code",
   "execution_count": null,
   "metadata": {
    "collapsed": true
   },
   "outputs": [],
   "source": []
  },
  {
   "cell_type": "markdown",
   "metadata": {},
   "source": [
    "***Test*** `hypotenuse` with the values below to make sure that it works! (feel free to add tests)\n",
    "* 1, 1\n",
    "* 3, 4\n",
    "* 5, 12  \n",
    "\n",
    "when you are done testing, write a brief interpretation of the test results."
   ]
  },
  {
   "cell_type": "code",
   "execution_count": null,
   "metadata": {
    "collapsed": true
   },
   "outputs": [],
   "source": []
  },
  {
   "cell_type": "markdown",
   "metadata": {},
   "source": [
    "Next, write a function called `polar2x` that takes two parameters, _r_ and _theta_ and returns the rectangular coordinate _x_.   \n",
    "\n",
    "The value of theta corresponds to the angle in ***radians***."
   ]
  },
  {
   "cell_type": "code",
   "execution_count": null,
   "metadata": {
    "collapsed": true
   },
   "outputs": [],
   "source": []
  },
  {
   "cell_type": "markdown",
   "metadata": {},
   "source": [
    "***Test*** `polar2x` with the values (r, theta) below to make sure that it works! (feel free to add tests)\n",
    "* 1, 1\n",
    "* 3, 3.1416  \n",
    "\n",
    "when you are done testing, write a brief interpretation of the test results."
   ]
  },
  {
   "cell_type": "code",
   "execution_count": null,
   "metadata": {
    "collapsed": true
   },
   "outputs": [],
   "source": []
  },
  {
   "cell_type": "markdown",
   "metadata": {},
   "source": [
    "Suppose you want the parameter _theta_ to represent an angle in degrees.  Since a function can use (or call) any previously defined function, modify your `polar2x` function so that it takes its angle parameter, _theta_, in degrees and uses the `degrees2radians` function to convert it."
   ]
  },
  {
   "cell_type": "code",
   "execution_count": null,
   "metadata": {
    "collapsed": true
   },
   "outputs": [],
   "source": []
  },
  {
   "cell_type": "markdown",
   "metadata": {},
   "source": [
    "***Test*** `polar2x` with the values (r, theta) below to make sure that it works! (feel free to add tests)\n",
    "* 1, 57.296&deg;\n",
    "* 3, 180&deg;\n",
    "* at least one additional of your choice  \n",
    "\n",
    "when you are done testing, write a brief interpretation of the test results."
   ]
  },
  {
   "cell_type": "code",
   "execution_count": null,
   "metadata": {
    "collapsed": true
   },
   "outputs": [],
   "source": []
  },
  {
   "cell_type": "markdown",
   "metadata": {},
   "source": [
    "Now define a function called `polar2y` that takes two parameters, _r_ and _theta_, and returns the rectangular coordinate _y_.  \n",
    "\n",
    "The value of the parameter _theta_ corresponds to the angle in ***degrees*** (_remember that functions can call other functions_)."
   ]
  },
  {
   "cell_type": "code",
   "execution_count": null,
   "metadata": {
    "collapsed": true
   },
   "outputs": [],
   "source": []
  },
  {
   "cell_type": "markdown",
   "metadata": {},
   "source": [
    "***Test*** `polar2y` with the values (r, theta) below to make sure that it works! (feel free to add tests)\n",
    "* 1, 57.296&deg;\n",
    "* 3, 180&deg; (this one is strange, make sure you interpret this result)\n",
    "* 1.4142, 45\n",
    "* at least one additional of your choice  \n",
    "\n",
    "when you are done testing, write a brief interpretation of the test results."
   ]
  },
  {
   "cell_type": "code",
   "execution_count": null,
   "metadata": {
    "collapsed": true
   },
   "outputs": [],
   "source": []
  },
  {
   "cell_type": "markdown",
   "metadata": {},
   "source": [
    "Finally define a new function called `polar2rect` that takes two parameters, _r_ and _theta_ (in degrees), and returns the rectangular coordinates _x_ and _y_. Since functions can call functions, you should be using your already defined functions inside `polar2rect`."
   ]
  },
  {
   "cell_type": "code",
   "execution_count": null,
   "metadata": {
    "collapsed": true
   },
   "outputs": [],
   "source": []
  },
  {
   "cell_type": "markdown",
   "metadata": {},
   "source": [
    "***Test*** `polar2rect` with the values (r, theta) below to make sure that it works! (feel free to add tests)\n",
    "* 1, 57.296&deg;\n",
    "* 5, 45&deg;\n",
    "* 10.4, 106.7&deg;\n",
    "* 8, 207&deg;\n",
    "* 9.5, 304&deg;\n",
    "* at least one additional of your choice  \n",
    "\n",
    "when you are done testing, write a brief interpretation of the test results."
   ]
  },
  {
   "cell_type": "code",
   "execution_count": null,
   "metadata": {
    "collapsed": true
   },
   "outputs": [],
   "source": []
  }
 ],
 "metadata": {
  "anaconda-cloud": {},
  "kernelspec": {
   "display_name": "Python [default]",
   "language": "python",
   "name": "python3"
  },
  "language_info": {
   "codemirror_mode": {
    "name": "ipython",
    "version": 3
   },
   "file_extension": ".py",
   "mimetype": "text/x-python",
   "name": "python",
   "nbconvert_exporter": "python",
   "pygments_lexer": "ipython3",
   "version": "3.5.2"
  }
 },
 "nbformat": 4,
 "nbformat_minor": 2
}
