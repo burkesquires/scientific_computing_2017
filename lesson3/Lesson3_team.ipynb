{
 "cells": [
  {
   "cell_type": "markdown",
   "metadata": {
    "collapsed": true
   },
   "source": [
    "# Unit 1: Programming Basics"
   ]
  },
  {
   "cell_type": "markdown",
   "metadata": {},
   "source": [
    "## Lesson 3: Type Casting"
   ]
  },
  {
   "cell_type": "markdown",
   "metadata": {},
   "source": [
    "## Notebook Authors "
   ]
  },
  {
   "cell_type": "markdown",
   "metadata": {},
   "source": [
    "_(fill in your two names here)_"
   ]
  },
  {
   "cell_type": "markdown",
   "metadata": {},
   "source": [
    "## Team Roles"
   ]
  },
  {
   "cell_type": "markdown",
   "metadata": {},
   "source": [
    "Facilitator: _(fill in name)_  \n",
    "Spokesperson: _(fill in name)_  \n",
    "Process Analyst: _(fill in name)_  \n",
    "Quality Control: _(fill in name)_  \n",
    "\n",
    "If there are only three people in your team, have one person serve as both spokesperson and process analyst for the rest of this activity.<p>\n",
    "At the end of this Lesson, you will be asked to record how long each Model required for your team. The _Facilitator_ should keep track of time for your team."
   ]
  },
  {
   "cell_type": "markdown",
   "metadata": {},
   "source": [
    "## Computational Focus:  Python Scripts"
   ]
  },
  {
   "cell_type": "markdown",
   "metadata": {},
   "source": [
    "### Model 1: Explicit Type Cast"
   ]
  },
  {
   "cell_type": "markdown",
   "metadata": {},
   "source": [
    "Every variable in Python has a ***data type***. The example code below demonstrates how you can convert a variable to one of three data types: integers, floating point numbers, and strings. \n",
    "\n",
    "**Type** (don't copy and paste) the following code, one line per Jupyter cell, to observe the output (if any):\n",
    "```Python\n",
    "pi = 3.1415\n",
    "type(pi)\n",
    "integer = int(pi)\n",
    "word = str(pi)  \n",
    "print(pi)  \n",
    "print(integer)  \n",
    "print(word)\n",
    "number = float(integer)\n",
    "print(\"the final value is\", number)\n",
    "```\n"
   ]
  },
  {
   "cell_type": "markdown",
   "metadata": {},
   "source": [
    "### Critical Thinking Questions"
   ]
  },
  {
   "cell_type": "markdown",
   "metadata": {},
   "source": [
    "1\\. What is the data type (integer, floating-point number, or string) of each of the following variables?"
   ]
  },
  {
   "cell_type": "markdown",
   "metadata": {},
   "source": [
    "1a. `pi`"
   ]
  },
  {
   "cell_type": "markdown",
   "metadata": {},
   "source": [
    "1b. `integer`"
   ]
  },
  {
   "cell_type": "markdown",
   "metadata": {},
   "source": [
    "1c. `word` "
   ]
  },
  {
   "cell_type": "markdown",
   "metadata": {},
   "source": [
    "1d. `number`"
   ]
  },
  {
   "cell_type": "markdown",
   "metadata": {},
   "source": [
    "2\\. List the function calls that convert a variable to a new data type.   "
   ]
  },
  {
   "cell_type": "markdown",
   "metadata": {},
   "source": [
    "3\\. Explain the syntax for printing multiple items in one line.\n"
   ]
  },
  {
   "cell_type": "markdown",
   "metadata": {},
   "source": [
    "4\\. Predict what will happen if you multiply each of the four variables by 2. Then run the code and verify that it occured correctly. The first Jupyter code cell is provided for you."
   ]
  },
  {
   "cell_type": "code",
   "execution_count": null,
   "metadata": {
    "collapsed": true
   },
   "outputs": [],
   "source": [
    "pi*2"
   ]
  },
  {
   "cell_type": "markdown",
   "metadata": {},
   "source": [
    "5a\\. Explain the difference between the two number data types (integer and floating point)."
   ]
  },
  {
   "cell_type": "markdown",
   "metadata": {},
   "source": [
    "5b\\. Explain the difference between a number data type (integer and floating point) and a string data type."
   ]
  },
  {
   "cell_type": "markdown",
   "metadata": {},
   "source": [
    "### Model 2: Multiple Parameters, Multiple Return Values"
   ]
  },
  {
   "cell_type": "markdown",
   "metadata": {},
   "source": [
    "A function can take more than one parameter each separated by a comma. It can also return multiple values if they are separated by a comma and enclosed by square brackets [ ].\n",
    "\n",
    "Type the following function definition in a single Jupyter code cell (_don't_ copy and paste):\n",
    "\n",
    "```Python\n",
    "def polar(x,y):\n",
    "    \"\"\"Convert Cartesian (x,y) coordinates to polar and return (r,theta), with theta in radians.\"\"\"\n",
    "    import math\n",
    "    print(\"x = \", x)\n",
    "    squared_sum = x*x + y*y\n",
    "    r = math.sqrt(squared_sum)\n",
    "    theta = math.atan(y/x)\n",
    "    return r,theta\n",
    "```  \n",
    "\n",
    "***Note:*** The triple double-quotes (\"\"\") are used around a ***docstring*** that explains how to use a function.  Notice that the example above has the _\"Do this\", \"Return that\"_ structure. It is both good practice and required for class that you write a docstring for every function that you define. More [technical details about docstrings](http://legacy.python.org/dev/peps/pep-0257/).\n",
    "\n",
    "***Read the Critical Thinking Question BEFORE typing the following lines of Python code into separate code cells:***\n",
    "\n",
    "```Python\n",
    "polar(15,2)\n",
    "print(polar(15,2))\n",
    "distance, angle = polar(15,2)\n",
    "print(distance)\n",
    "print(angle)\n",
    "help(polar)\n",
    "```\n",
    "\n"
   ]
  },
  {
   "cell_type": "markdown",
   "metadata": {},
   "source": [
    "### Critical Thinking Questions"
   ]
  },
  {
   "cell_type": "markdown",
   "metadata": {},
   "source": [
    "6\\. After typing _only_ the function definition, how many times does the polar function execute? Provide justification for your group’s answer.  \n"
   ]
  },
  {
   "cell_type": "markdown",
   "metadata": {},
   "source": [
    "7\\. Now type the first function call into its own cell cell. What is the value and type of the variable `x` (the parameter by the `polar` function)? "
   ]
  },
  {
   "cell_type": "markdown",
   "metadata": {},
   "source": [
    "8\\. Now run the second function call (`print(polar(15,2))`) in its own code cell. Explain the effect of using the print function with the function call. "
   ]
  },
  {
   "cell_type": "markdown",
   "metadata": {},
   "source": [
    "9\\. Now run the remaining lines of Python code in three more code cells. "
   ]
  },
  {
   "cell_type": "markdown",
   "metadata": {},
   "source": [
    "9a. Write an assignment statement (in a markdown cell) showing how the variable `distance` gets its value."
   ]
  },
  {
   "cell_type": "markdown",
   "metadata": {
    "collapsed": true
   },
   "source": [
    "9b. Write an assignment statement (in a markdown cell) showing how the variable `angle` gets its value."
   ]
  },
  {
   "cell_type": "markdown",
   "metadata": {},
   "source": [
    "10\\. What information is provided when you call `help` on a function you've defined?"
   ]
  },
  {
   "cell_type": "markdown",
   "metadata": {},
   "source": [
    "### Model 3: Local Variables "
   ]
  },
  {
   "cell_type": "markdown",
   "metadata": {},
   "source": [
    "Recall that an assignment statement takes the form:\n",
    "```Python\n",
    "variable = value\n",
    "```\n",
    "(You do not need to type the above line in a Jupyter code cell).\n",
    "\n",
    "Variables that are assigned for the first time within a function are known as ***local variables***. Variables that are assigned outside a function are known as ***global variables***. Because global variables can have unexpected consequences, you should avoid using global variables _inside_ a function.  \n",
    "\n",
    "```Python\n",
    "def polar(x,y):\n",
    "    \"\"\"Convert Cartesian (x,y) coordinates to polar and return (r,theta), with theta in radians.\"\"\"\n",
    "    import math\n",
    "    print(\"x inside = \", x)\n",
    "    print(\"x2 inside = \", x2)\n",
    "    squared_sum = x*x + y*y\n",
    "    r = math.sqrt(squared_sum)\n",
    "    theta = math.atan(y/x)\n",
    "    return [r,theta]\n",
    "```  \n",
    "\n",
    "\n",
    "Type in the following statements in separate Jupyter code cells (some of these lines will not run):\n",
    "```Python\n",
    "polar(15,2)\n",
    "x = 300\n",
    "x2 = 600\n",
    "[distance, angle] = polar(15,2)\n",
    "print(\"x outside = \", x)\n",
    "print(\"x2 outside = \", x2)\n",
    "double = distance*2\n",
    "print(distance, double)\n",
    "```"
   ]
  },
  {
   "cell_type": "markdown",
   "metadata": {},
   "source": [
    "### Critical Thinking Questions"
   ]
  },
  {
   "cell_type": "markdown",
   "metadata": {},
   "source": [
    "11\\. Examine the `polar` function.  \n",
    "11a. List all the local variables in the `polar` function (variables that are assigned values inside the `polar` function)."
   ]
  },
  {
   "cell_type": "markdown",
   "metadata": {},
   "source": [
    "11b. List all the global variables used by the `polar` function."
   ]
  },
  {
   "cell_type": "markdown",
   "metadata": {},
   "source": [
    "12a. When the `polar` function runs correctly, what is the value of `x` ***inside*** the `polar` function? Explain how `x` got its value."
   ]
  },
  {
   "cell_type": "markdown",
   "metadata": {},
   "source": [
    "12b. What is the value of `x` ***outside*** the `polar` function? Explain how `x` got its value."
   ]
  },
  {
   "cell_type": "markdown",
   "metadata": {},
   "source": [
    "13a. When the `polar` function runs correctly, what is the value of `x2` ***inside*** the `polar` function? Explain how `x2` got its value."
   ]
  },
  {
   "cell_type": "markdown",
   "metadata": {},
   "source": [
    "13b. What is the value of `x2` ***outside*** the `polar` function? Explain how `x2` got its value."
   ]
  },
  {
   "cell_type": "markdown",
   "metadata": {},
   "source": [
    "13c. Explain how using global variables in the `polar` function caused an error _sometimes_. (These types of errors are the hardest to hunt down, because they don't happen consistently!)"
   ]
  },
  {
   "cell_type": "markdown",
   "metadata": {},
   "source": [
    "14\\. Can you print the value of the `squared_sum` variable outside of the `polar` function?  Offer an explanation as to why or why not."
   ]
  },
  {
   "cell_type": "markdown",
   "metadata": {},
   "source": [
    "15\\. Is it possible to have two variables with the same identifier (variable name)? Explain your answer."
   ]
  },
  {
   "cell_type": "markdown",
   "metadata": {},
   "source": [
    "16\\. It’s important for programmers to be aware of a variable’s ***scope***: where that variable is assigned for the first time and where it is accessible.  \n",
    "16a. Where is the value of a local variable accessible (i.e. where can its value be used)? Provide justification for your group’s answer."
   ]
  },
  {
   "cell_type": "markdown",
   "metadata": {},
   "source": [
    "16b. Where is the value of a global variable accessible? Provide justification for your group’s answer."
   ]
  },
  {
   "cell_type": "markdown",
   "metadata": {},
   "source": [
    "17\\. Why is the problem of using global variables inside a function even worse with a system like Jupyter Notebooks (as opposed to writing a script or program, storing it in a file, and executing it)?"
   ]
  },
  {
   "cell_type": "markdown",
   "metadata": {},
   "source": [
    "### Temporal Analysis Report"
   ]
  },
  {
   "cell_type": "markdown",
   "metadata": {},
   "source": [
    "How much time did it require for your team to complete each Model?"
   ]
  },
  {
   "cell_type": "markdown",
   "metadata": {},
   "source": [
    "# END OF CLASS"
   ]
  }
 ],
 "metadata": {
  "anaconda-cloud": {},
  "kernelspec": {
   "display_name": "Python [default]",
   "language": "python",
   "name": "python3"
  },
  "language_info": {
   "codemirror_mode": {
    "name": "ipython",
    "version": 3
   },
   "file_extension": ".py",
   "mimetype": "text/x-python",
   "name": "python",
   "nbconvert_exporter": "python",
   "pygments_lexer": "ipython3",
   "version": "3.5.2"
  }
 },
 "nbformat": 4,
 "nbformat_minor": 1
}
