{
 "cells": [
  {
   "cell_type": "markdown",
   "metadata": {},
   "source": [
    "name:"
   ]
  },
  {
   "cell_type": "markdown",
   "metadata": {},
   "source": [
    "majors/minors/interests:"
   ]
  },
  {
   "cell_type": "markdown",
   "metadata": {},
   "source": [
    "something interesting about you"
   ]
  },
  {
   "cell_type": "markdown",
   "metadata": {},
   "source": [
    "_(your answer here, delete this)_"
   ]
  },
  {
   "cell_type": "markdown",
   "metadata": {},
   "source": [
    "What do you hope to get out of taking scientific computing?"
   ]
  },
  {
   "cell_type": "markdown",
   "metadata": {},
   "source": [
    "_(your answer here, delete this)_"
   ]
  },
  {
   "cell_type": "markdown",
   "metadata": {},
   "source": [
    "How \"computer savvy\" do you consider yourself?"
   ]
  },
  {
   "cell_type": "markdown",
   "metadata": {},
   "source": [
    "_(your answer here, delete this)_"
   ]
  },
  {
   "cell_type": "markdown",
   "metadata": {},
   "source": [
    "What computer programming experience do you have?"
   ]
  },
  {
   "cell_type": "markdown",
   "metadata": {},
   "source": [
    "_(your answer here, delete this)_"
   ]
  },
  {
   "cell_type": "markdown",
   "metadata": {},
   "source": [
    "How likely do you think you are to do something that looks like what we do in this class in your future career?"
   ]
  },
  {
   "cell_type": "markdown",
   "metadata": {},
   "source": [
    "_(your answer here, delete this)_"
   ]
  },
  {
   "cell_type": "markdown",
   "metadata": {},
   "source": [
    "What do people use computers for in your major/career of interest?"
   ]
  },
  {
   "cell_type": "markdown",
   "metadata": {},
   "source": [
    "_(your answer here, delete this)_"
   ]
  },
  {
   "cell_type": "markdown",
   "metadata": {},
   "source": [
    "What is one cool/interesting thing that you recently learned about why/how people use computers/programming in science?"
   ]
  },
  {
   "cell_type": "markdown",
   "metadata": {},
   "source": [
    "_(your answer here, delete this)_"
   ]
  },
  {
   "cell_type": "markdown",
   "metadata": {},
   "source": [
    "your next cell below should have the classic 1st program:\n",
    "```\n",
    "Hello, World!\n",
    "```\n",
    "*(if you need a [hint](https://en.wikibooks.org/wiki/Non-Programmer%27s_Tutorial_for_Python_3/Hello,_World))*"
   ]
  },
  {
   "cell_type": "code",
   "execution_count": null,
   "metadata": {
    "collapsed": true
   },
   "outputs": [],
   "source": []
  },
  {
   "cell_type": "markdown",
   "metadata": {
    "collapsed": true
   },
   "source": [
    "in the cell below, write 2 lines of `Python` code that produces output that:\n",
    "* addresses you by your preferred name\n",
    "* tells us your preferred pronouns"
   ]
  },
  {
   "cell_type": "code",
   "execution_count": null,
   "metadata": {
    "collapsed": true
   },
   "outputs": [],
   "source": []
  }
 ],
 "metadata": {
  "anaconda-cloud": {},
  "kernelspec": {
   "display_name": "Python [default]",
   "language": "python",
   "name": "python3"
  },
  "language_info": {
   "codemirror_mode": {
    "name": "ipython",
    "version": 3
   },
   "file_extension": ".py",
   "mimetype": "text/x-python",
   "name": "python",
   "nbconvert_exporter": "python",
   "pygments_lexer": "ipython3",
   "version": "3.5.2"
  }
 },
 "nbformat": 4,
 "nbformat_minor": 1
}
