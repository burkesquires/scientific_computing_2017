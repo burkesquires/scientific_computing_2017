{
 "cells": [
  {
   "cell_type": "markdown",
   "metadata": {
    "collapsed": true
   },
   "source": [
    "# Lesson 11 Individual Assignment"
   ]
  },
  {
   "cell_type": "markdown",
   "metadata": {},
   "source": [
    "***Individual*** means that you do it yourself. You won't learn to code if you don't ***struggle for yourself*** and  ***write your own*** code. Remember that while you can discuss the general (algorithmic) way to solve a problem, you should ***not*** even be looking at anyone else's code or showing anyone else your code for an individual assignment.  \n",
    "Review the **Group Work** guidelines on Cavas and/or ask an instructor if you have any questions."
   ]
  },
  {
   "cell_type": "markdown",
   "metadata": {},
   "source": [
    "## Background info"
   ]
  },
  {
   "cell_type": "markdown",
   "metadata": {},
   "source": [
    "As you have seen in Lesson 10, computers are powerful tools for analyzing DNA sequence. One common computerized task in genome analysis is to have a computer predict open reading frames (ORFs), make codons (the subject of some of Lesson 10 Individual), then predict the amino acid sequence of the protein made by the predicted ORFs. While today we will only be analyzing how to translate ORFs, computers are used for many more steps to predict the structure and function of these predicted proteins. (some of you will be familiar with the [BLAST](https://blast.ncbi.nlm.nih.gov/Blast.cgi) algorithm for comparing DNA and protein sequences to a database of known sequences.\n",
    "\n",
    "Here is a dictionary of DNA codons and their corresponding amino acids (this is the same information as in Table 1 in Lesson 10 but in a more computer readable format) that you will find useful for this assignment:\n",
    "```python\n",
    "translation={'TTT':'Phe','TTC':'Phe','TTA':'Leu','TTG':'Leu','TCT':'Ser',\n",
    "             'TCC':'Ser','TCA':'Ser','TCG':'Ser','TAT':'Tyr','TAC':'Tyr',\n",
    "             'TAA':'Stop','TAG':'Stop','TGT':'Cys','TGC':'Cys','TGA':'Stop',\n",
    "             'TGG':'Trp','CTT':'Leu','CTC':'Leu','CTA':'Leu','CTG':'Leu',\n",
    "             'CCT':'Pro','CCC':'Pro','CCA':'Pro','CCG':'Pro','CAT':'His',\n",
    "             'CAC':'His','CAA':'Gln','CAG':'Gln','CGT':'Arg','CGC':'Arg',\n",
    "             'CGA':'Arg','CGG':'Arg','ATT':'Ile','ATC':'Ile','ATA':'Ile',\n",
    "             'ATG':'Met','ACT':'Thr','ACC':'Thr','ACA':'Thr','ACG':'Thr',\n",
    "             'AAT':'Asn','AAC':'Asn','AAA':'Lys','AAG':'Lys','AGT':'Ser',\n",
    "             'AGC':'Ser','AGA':'Arg','AGG':'Arg','GTT':'Val','GTC':'Val',\n",
    "             'GTA':'Val','GTG':'Val','GCT':'Ala','GCC':'Ala','GCA':'Ala',\n",
    "             'GCG':'Ala','GAT':'Asp','GAC':'Asp','GAA':'Glu','GAG':'Glu',\n",
    "             'GGT':'Gly','GGC':'Gly','GGA':'Gly','GGG':'Gly'}\n",
    "```"
   ]
  },
  {
   "cell_type": "markdown",
   "metadata": {},
   "source": [
    "## Programming Practice"
   ]
  },
  {
   "cell_type": "markdown",
   "metadata": {},
   "source": [
    "Be sure to spell all function names ***correctly*** - misspelled functions will lose points (and often break anyway since no one is sure what to type to call it). If you prefer showing your earlier, scratch work as you figure out what you are doing, please be sure that you make a final, complete, correct last function in its own cell that you then call several times to test. In other words, separate your thought process/working versions from the final one (a comment that tells us which is the final version would be lovely).\n",
    "\n",
    "Every function should have ***at least*** a docstring at the start that states what it does (see _Lesson3 Team Notebook_ if you need a reminder). Make other comments as necessary.  \n",
    "\n",
    "Make sure that you are running ***test cases (plural)*** for everything and commenting on the results in markdown. Your comments should discuss how you know that the test case results are correct."
   ]
  },
  {
   "cell_type": "markdown",
   "metadata": {},
   "source": [
    "**preA.** Copy and paste the `codon` function from your Lesson 10 individual notebook here. You might have to modify it depending on how you are returning results. The version you want here should:  \n",
    "+ take a DNA sequence string as a parameter\n",
    "+ return *all* of the ORFs in the DNA sequence\n",
    "+ the return should be a list of codon lists (e.g. [['ATG',..., 'TAG'], ['ATG,..., 'TAA'], ...])"
   ]
  },
  {
   "cell_type": "code",
   "execution_count": null,
   "metadata": {
    "collapsed": true
   },
   "outputs": [],
   "source": []
  },
  {
   "cell_type": "markdown",
   "metadata": {},
   "source": [
    "***Test*** your `codon` function with at least four test cases. One test case should be an empty string for DNA input. Make sure you also include expected output for all test cases. \n",
    "\n",
    "When you are done testing, write a brief interpretation of the test results."
   ]
  },
  {
   "cell_type": "code",
   "execution_count": null,
   "metadata": {
    "collapsed": true
   },
   "outputs": [],
   "source": []
  },
  {
   "cell_type": "markdown",
   "metadata": {},
   "source": [
    "**A.** Define a `translate` function that takes a string of DNA sequence, calls `codon`, and uses the output/return of the `codon` function to translate the ORF and return the translated amino acid sequence as a list of amino acids (e.g. ['Met', 'Phe', ...]).   \n",
    "The `translate` function should:  \n",
    "+ take a string of DNA sequence as its parameter\n",
    "+ call the `codon` function to get ORFs as a list of codons\n",
    "+ translate the list of codons into amino acids\n",
    "+ return the correct list of amino acids for that ORF"
   ]
  },
  {
   "cell_type": "code",
   "execution_count": null,
   "metadata": {
    "collapsed": true
   },
   "outputs": [],
   "source": []
  },
  {
   "cell_type": "markdown",
   "metadata": {},
   "source": [
    "***Test*** your `translate` function with at least four test cases. Be sure that at least one test case is an empty list []. Make sure you also include expected output for all test cases.\n",
    "\n",
    "When you are done testing, write a brief interpretation of the test results."
   ]
  },
  {
   "cell_type": "code",
   "execution_count": null,
   "metadata": {
    "collapsed": true
   },
   "outputs": [],
   "source": []
  },
  {
   "cell_type": "markdown",
   "metadata": {},
   "source": [
    "**B.** Start with your pseudocode from the _Lesson 11 Team Notebook_ (question 14a).  \n",
    "Create a `convert_to_one` function that:  \n",
    "+ takes a list of amino acids, each represented by a three letter string (e.g. ['Met', 'Phe', ...]) as its single parameter  \n",
    "+ convert the list of three letter amino acid codes to a list of one letter codes (e.g. ['M', 'F', ...])\n",
    "+ return the list of single letter code amino acids  \n",
    "\n",
    "***Note:*** All the amino acids and their corresponding one letter codes are given in columns 2 and 3 in Table 1 from Lesson 10. Also note that `stop` codons are `*` in the single letter code."
   ]
  },
  {
   "cell_type": "code",
   "execution_count": null,
   "metadata": {
    "collapsed": true
   },
   "outputs": [],
   "source": []
  },
  {
   "cell_type": "markdown",
   "metadata": {},
   "source": [
    "***Test*** your `convert_to_one` function with at least four test cases. Be sure that at least one test case is an empty list []. Make sure you also include expected output for all test cases.  \n",
    "\n",
    "When you are done testing, write a brief interpretation of the test results."
   ]
  },
  {
   "cell_type": "code",
   "execution_count": null,
   "metadata": {
    "collapsed": true
   },
   "outputs": [],
   "source": []
  },
  {
   "cell_type": "markdown",
   "metadata": {},
   "source": [
    "**C**. Use your pseudocode from _Lesson 11 Team Notebook_ (question 15) to define a `reverse_complement` function that:  \n",
    "+ takes a single string of DNA sequence (5' →3') as its parameter\n",
    "+ and returns the reverse complement sequence string in the conventional 5'→3' orientation.  \n",
    "\n",
    "***Note:*** This function should use an appropriate dictionary to create the complement."
   ]
  },
  {
   "cell_type": "code",
   "execution_count": null,
   "metadata": {
    "collapsed": true
   },
   "outputs": [],
   "source": []
  },
  {
   "cell_type": "markdown",
   "metadata": {},
   "source": [
    "***Test*** your `reverse_complement` function with this sequence (from _Lesson 10 Team Notebook_):\n",
    "```\n",
    "TACGTATGATCGGCTATAGCCGATGCATTAGCTAGTGCTGATACTGATCG\n",
    "```\n",
    "\n",
    "**predicted output** (see below for possible tool for finding it):\n",
    "```\n",
    "```"
   ]
  },
  {
   "cell_type": "code",
   "execution_count": null,
   "metadata": {
    "collapsed": true
   },
   "outputs": [],
   "source": []
  },
  {
   "cell_type": "markdown",
   "metadata": {},
   "source": [
    "**Add at least two more test cases** of your own. Make sure that you define the correct output using another tool ([suggestion](http://www.bioinformatics.org/sms/rev_comp.html)) before you test your function.  \n",
    "\n",
    "When you are done testing, write a brief interpretation of the test results."
   ]
  },
  {
   "cell_type": "code",
   "execution_count": null,
   "metadata": {
    "collapsed": true
   },
   "outputs": [],
   "source": []
  },
  {
   "cell_type": "markdown",
   "metadata": {},
   "source": [
    "## Additional question ideas:  \n",
    "+ add a final function that incorporates these functions together (like we did with stats) and include a dictionary as output?   \n",
    "+ or dictionary question - something about proteins and AA seqs, searching through dict to find proteins with specific sub sequences ?"
   ]
  },
  {
   "cell_type": "code",
   "execution_count": null,
   "metadata": {
    "collapsed": true
   },
   "outputs": [],
   "source": []
  }
 ],
 "metadata": {
  "anaconda-cloud": {},
  "kernelspec": {
   "display_name": "Python [default]",
   "language": "python",
   "name": "python3"
  },
  "language_info": {
   "codemirror_mode": {
    "name": "ipython",
    "version": 3
   },
   "file_extension": ".py",
   "mimetype": "text/x-python",
   "name": "python",
   "nbconvert_exporter": "python",
   "pygments_lexer": "ipython3",
   "version": "3.5.2"
  }
 },
 "nbformat": 4,
 "nbformat_minor": 2
}
