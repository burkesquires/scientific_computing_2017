{
 "cells": [
  {
   "cell_type": "markdown",
   "metadata": {},
   "source": [
    "# Unit 2: Programming Design"
   ]
  },
  {
   "cell_type": "markdown",
   "metadata": {},
   "source": [
    "## Lesson 11: More Sequences"
   ]
  },
  {
   "cell_type": "markdown",
   "metadata": {},
   "source": [
    "## Notebook Authors "
   ]
  },
  {
   "cell_type": "markdown",
   "metadata": {},
   "source": [
    "_(fill in your two names here)_"
   ]
  },
  {
   "cell_type": "markdown",
   "metadata": {},
   "source": [
    "Facilitator: _(fill in name)_  \n",
    "Spokesperson: _(fill in name)_  \n",
    "Process Analyst: _(fill in name)_  \n",
    "Quality Control: _(fill in name)_  \n",
    "\n",
    "If there are only three people in your group, have one person serve as both spokesperson and process analyst for the rest of this activity.  \n",
    "\n",
    "At the end of this Lesson, you will be asked to record how long each Model required for your team. The Facilitator should keep track of time for your team."
   ]
  },
  {
   "cell_type": "markdown",
   "metadata": {},
   "source": [
    "## Computational Focus: Python Sequences"
   ]
  },
  {
   "cell_type": "markdown",
   "metadata": {},
   "source": [
    "### Model 1: Tuples"
   ]
  },
  {
   "cell_type": "markdown",
   "metadata": {},
   "source": [
    "Another type of sequence is a ***tuple***, which is an ***immutable*** sequence separated by parenthesis rather than square brackets. \n",
    "\n",
    "Type the following in separate Jupyter code cells:\n",
    "```python\n",
    "months = ('January','February','March','April','May','June',\n",
    "'July','August','September','October','November','December')\n",
    "print(months[1])\n",
    "months.append('Undecember')\n",
    "```\n",
    "***Table 1:* Common operations with sequences** (strings, lists, dictionaries and tuples).  \n",
    "More info can be found at https://docs.python.org/3.6/library/stdtypes.html#typesseq-common   \n",
    "b and c are sequence variables, i, j, k are integers, and x is an element of b\n",
    "\n",
    "Operation | Result\n",
    ":---|:---\n",
    "`b[i]` | Indexing\n",
    "`b[i:j]` | slice of b from i to j\n",
    "`b[i:j:k]` | slice of b from i to j with step k\n",
    "`b + c` | concatenation – combines sequences together\n",
    "`b * i` | repetition – concatenate “b” a repeated number of times\n",
    "`len(b)` | Length\n",
    "`min(b)` | return smallest element\n",
    "`max(b)` | return greatest element\n",
    "`x in b` | True if an item of b is equal to x, else False\n",
    "`x not in b` | False if an item of b is equal to x, else True\n",
    "`for x in b:` | Iteration – repeats following statements once for each item in sequence"
   ]
  },
  {
   "cell_type": "markdown",
   "metadata": {},
   "source": [
    "### Critical Thinking Questions"
   ]
  },
  {
   "cell_type": "markdown",
   "metadata": {},
   "source": [
    "1\\. Explain why months[1] is February, not January."
   ]
  },
  {
   "cell_type": "markdown",
   "metadata": {},
   "source": [
    "2\\. Give the code to access the last month (December) in the tuple."
   ]
  },
  {
   "cell_type": "markdown",
   "metadata": {},
   "source": [
    "3\\. Explain the reason for the error in the command `months.append('Undecember')`."
   ]
  },
  {
   "cell_type": "markdown",
   "metadata": {},
   "source": [
    "4\\. Experiment with the operations in Table 1 and demonstrate that they all work."
   ]
  },
  {
   "cell_type": "markdown",
   "metadata": {},
   "source": [
    "5\\. The parenthesis are optional when you program with tuples (although they make your code easier to read). Explain how you have actually been using tuples throughout the course to return multiple return values. "
   ]
  },
  {
   "cell_type": "markdown",
   "metadata": {},
   "source": [
    "### Model 2: Dictionaries"
   ]
  },
  {
   "cell_type": "markdown",
   "metadata": {},
   "source": [
    "Another useful sequence data type built into Python is a ***dictionary*** from which you can store and retrieve items.  A dictionary can be created by placing a comma-separated list of `key:value` pairs within `{}` braces."
   ]
  },
  {
   "cell_type": "markdown",
   "metadata": {},
   "source": [
    "Type the following in separate Jupyter code cells:\n",
    "\n",
    "```python\n",
    "elements = {'C':'carbon', 'H':'hydrogen', 'O':'oxygen', 'N':'nitrogen'}\n",
    "elements.keys()\n",
    "elements.values()\n",
    "elements.items()\n",
    "elements[\"C\"]\n",
    "atom=\"N\"\n",
    "elements[atom]\n",
    "elements[C]\n",
    "elements[1]\n",
    "elements[\"oxygen\"]\n",
    "letters = [\"C\",\"O\",\"N\",\"H\"]\n",
    "for let in letters:\n",
    "    print(elements[let])\n",
    "```"
   ]
  },
  {
   "cell_type": "markdown",
   "metadata": {},
   "source": [
    "### Critical Thinking Questions"
   ]
  },
  {
   "cell_type": "markdown",
   "metadata": {},
   "source": [
    "6\\. List all the keys in the dictionary `elements`.\n"
   ]
  },
  {
   "cell_type": "markdown",
   "metadata": {},
   "source": [
    "7\\. Consider the output returned by the three dictionary methods (`keys(), values(), and items()`). What can you conclude about the order of the output of these three methods? Provide justification for your group’s answer.  \n"
   ]
  },
  {
   "cell_type": "markdown",
   "metadata": {},
   "source": [
    "8\\. What is the data type of the keys in the dictionary `elements`?\n"
   ]
  },
  {
   "cell_type": "markdown",
   "metadata": {},
   "source": [
    "9\\. How does accessing a particular “value” of a dictionary differ from accessing a value of a list? "
   ]
  },
  {
   "cell_type": "markdown",
   "metadata": {},
   "source": [
    "10\\. Explain the reason for the error in each of the following commands:   \n",
    "10a. `elements[C]`"
   ]
  },
  {
   "cell_type": "markdown",
   "metadata": {},
   "source": [
    "10b. `elements[1]`"
   ]
  },
  {
   "cell_type": "markdown",
   "metadata": {},
   "source": [
    "10c. `elements[\"oxygen”]`"
   ]
  },
  {
   "cell_type": "markdown",
   "metadata": {},
   "source": [
    "11\\. Write a Python statement to display the value “nitrogen” by using the appropriate element from the list `letters`."
   ]
  },
  {
   "cell_type": "markdown",
   "metadata": {},
   "source": [
    "12\\. Recall from Lesson 10 that DNA is composed of two strands of nucleotides, which are referred to as complementary in where the base A bonds only to T, and C bonds only to G.  Write Python code to create a dictionary used to access the complimentary bases."
   ]
  },
  {
   "cell_type": "markdown",
   "metadata": {},
   "source": [
    "13\\. If the dictionary assigns two different values to the same key, which value displays?"
   ]
  },
  {
   "cell_type": "markdown",
   "metadata": {},
   "source": [
    "14a. Write pseudocode for a new function called `convert_to_one` that takes a single parameter: a list of amino acids, each represented by a three letter string - e.g. ['Phe', 'Ala', 'Ile']. The function should convert this list of three letter amino acid codes to a list of one letter codes - e.g. ['F', 'A', 'I']. All the amino acids and their corresponding one letter codes are given in columns 2 and 3 in Table 1 from Lesson 10. \n",
    "\n",
    "_Your pseudocode should **not** be Python code yet._ "
   ]
  },
  {
   "cell_type": "markdown",
   "metadata": {},
   "source": [
    "14b. Explain why it is easier for computers to use the single letter amino acid codes."
   ]
  },
  {
   "cell_type": "markdown",
   "metadata": {},
   "source": [
    "15\\. Write pseudocode for a function called `reverse_complement` that:  \n",
    "+ takes a single string that is a sequence of DNA (5'→3') as its parameter and \n",
    "+ returns a single string of DNA that is the reverse complement of the input string   \n",
    "\n",
    "***Keep reading for more info...***     \n",
    "\n",
    "It is particularly important to consider some DNA sequence conventions first.  The two complementary strands of DNA each have an orientation described by their chemical structure - 5' has a phosphate group, 3' a hydroxyl. In the sequence below the top strand's orientation starting on the left is described as ***5'→3'*** (top) and the bottom strand starting on the left is ***3'→5'*** (bottom). You may wish to refer back to Figure 2 from Lesson 10 to make sure you understand the problem. \n",
    "```\n",
    "5' TACGTATGATCGGCTATAGCCGATGCATTAGCTAGTGCTGATACTGATCG  3' (\"top\")   \n",
    "3' ATGCATACTAGCCGATATCGGCTACGTAATCGATCACGACTATGACTAGC  5' (\"bottom\")\n",
    "```\n",
    "\n",
    "So, when working with DNA sequences, we use the following conventions:\n",
    "+ for a double strand (as shown above), the top strand is always 5'→3'\n",
    "+ for a single strand, it is always written left to right from 5'→3' (first base is most 5')\n",
    "+ the reverse of a sequence is that sequence rewritten to reverse the strands 3'→5' strand becomes 5'→3' (see example below)\n",
    "+ the complement of a sequence is the other half of the double helix and but the orientation is now 5'→3' since that is the convention.\n",
    "+ the reverse complement is just the reverse of the complement strand (and is most commonly used, which is why we want you to convert)\n",
    "\n",
    "using the top strand above as an example:\n",
    "```\n",
    "reverse: 5' GCTAGTCATAGTCGTGATCGATTACGTAGCCGATATCGGCTAGTATGCAT 3'\n",
    "complement: 5' ATGCATACTAGCCGATATCGGCTACGTAATCGATCACGACTATGACTAGC 3'\n",
    "reverse complement: 5' CGATCAGTATCAGCACTAGCTAATGCATCGGCTATAGCCGATCATACGTA 3'\n",
    "```\n",
    "\n",
    "_Your pseudocode should **not** be Python code yet._ "
   ]
  },
  {
   "cell_type": "markdown",
   "metadata": {},
   "source": []
  },
  {
   "cell_type": "markdown",
   "metadata": {},
   "source": [
    "### Model 3: Modifying Dictionaries"
   ]
  },
  {
   "cell_type": "markdown",
   "metadata": {},
   "source": [
    "Unlike tuples and strings, but similar to lists, dictionaries are ***mutable*** - we can modify a dictionary.   \n",
    "\n",
    "Type the following in separate Jupyter code cells:\n",
    "\n",
    "```python\n",
    "len(elements)\n",
    "elements['B'] = 'Boron'\n",
    "len(elements)\n",
    "elements.items()\n",
    "del(elements['C'])\n",
    "len(elements)\n",
    "elements.items()\n",
    "```"
   ]
  },
  {
   "cell_type": "markdown",
   "metadata": {},
   "source": [
    "### Critical Thinking Questions"
   ]
  },
  {
   "cell_type": "markdown",
   "metadata": {},
   "source": [
    "16a. Give code that assigns an existing key in a dictionary to a different value. Run the code and provide results that show that it has worked."
   ]
  },
  {
   "cell_type": "markdown",
   "metadata": {},
   "source": [
    "16b\\. Does the size of the dictionary change afterwards?"
   ]
  },
  {
   "cell_type": "markdown",
   "metadata": {},
   "source": [
    "17\\. Compare the syntax for modifying dictionaries to the syntax for modifying other sequences.   \n",
    "17a. Explain the similarities or differences between adding to a dictionary versus adding to lists."
   ]
  },
  {
   "cell_type": "markdown",
   "metadata": {},
   "source": [
    "17b. Explain the similarities or differences between deleting from a dictionary versus deleting from lists."
   ]
  },
  {
   "cell_type": "markdown",
   "metadata": {},
   "source": [
    "17c. Why can't tuples be added to or deleted from?"
   ]
  },
  {
   "cell_type": "markdown",
   "metadata": {},
   "source": [
    "18\\. Consider the `sort` and `append` methods for a list.  \n",
    "18a. Explain why these methods do not make sense for dictionaries."
   ]
  },
  {
   "cell_type": "markdown",
   "metadata": {},
   "source": [
    "18b. Explain why these methods do not make sense for tuples."
   ]
  },
  {
   "cell_type": "markdown",
   "metadata": {},
   "source": [
    "19\\. We can also create a dictionary from two lists by using the `zip` method. Type the following into Jupyter cells:\n",
    "```python\n",
    "symbols = ['H','He','Li','Be','B','C','N','O','F','Ne']\n",
    "atomic_weights = [1.0079,4.0026,6.941,9.0122,10.811,12.0107,14.0067,15.9994,18.9984,20.1797]\n",
    "table = dict(zip(symbols,atomic_weights))\n",
    "print(table['He'])\n",
    "```\n",
    "19a.  What is the length of the two lists?"
   ]
  },
  {
   "cell_type": "markdown",
   "metadata": {},
   "source": [
    "19b. What is the length of the dictionary?"
   ]
  },
  {
   "cell_type": "markdown",
   "metadata": {},
   "source": [
    "19c. Why does the order of the two lists matter, since the keys are not stored in the dictionary in the same order as the original lists?"
   ]
  },
  {
   "cell_type": "markdown",
   "metadata": {},
   "source": [
    "20\\. Work as a team of 4 to **identify and explain** at least 2 applications of a Python dictionary in science. Clearly articulate what are they `keys` and what are the `values` for each example."
   ]
  },
  {
   "cell_type": "markdown",
   "metadata": {},
   "source": [
    "### Temporal Analysis Report"
   ]
  },
  {
   "cell_type": "markdown",
   "metadata": {},
   "source": [
    "How much time did it require for your team to complete each Model?"
   ]
  },
  {
   "cell_type": "markdown",
   "metadata": {},
   "source": [
    "Model 1: "
   ]
  },
  {
   "cell_type": "markdown",
   "metadata": {},
   "source": [
    "Model 2:"
   ]
  },
  {
   "cell_type": "markdown",
   "metadata": {},
   "source": [
    "Model 3:"
   ]
  }
 ],
 "metadata": {
  "anaconda-cloud": {},
  "kernelspec": {
   "display_name": "Python [default]",
   "language": "python",
   "name": "python3"
  },
  "language_info": {
   "codemirror_mode": {
    "name": "ipython",
    "version": 3
   },
   "file_extension": ".py",
   "mimetype": "text/x-python",
   "name": "python",
   "nbconvert_exporter": "python",
   "pygments_lexer": "ipython3",
   "version": "3.5.2"
  }
 },
 "nbformat": 4,
 "nbformat_minor": 2
}
