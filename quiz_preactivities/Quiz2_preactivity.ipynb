{
 "cells": [
  {
   "cell_type": "markdown",
   "metadata": {
    "collapsed": true
   },
   "source": [
    "# Unit 1: Programming Basics\n",
    "## Quiz 2 Review"
   ]
  },
  {
   "cell_type": "markdown",
   "metadata": {},
   "source": [
    "You will be taking the second quiz on paper, individually, in class on February 15. It is closed-book, closed-notes, and closed-computer.### Scientific Context: Iteration"
   ]
  },
  {
   "cell_type": "markdown",
   "metadata": {},
   "source": [
    "The quiz will cover all Python concepts covered in Lessons 1-6, including:\n",
    "- writing functions with multiple parameters and multiple return values\n",
    "- writing boolean expressions\n",
    "- type-casting\n",
    "- if-statements\n",
    "- for-loops \n",
    "- lists\n",
    "- while-loops"
   ]
  },
  {
   "cell_type": "markdown",
   "metadata": {},
   "source": [
    "### Pre-Activity Questions"
   ]
  },
  {
   "cell_type": "markdown",
   "metadata": {},
   "source": [
    "You should consider doing this entire pre-activity **without** running the code in a Pyton code cell, to better duplicate your experience on the quiz."
   ]
  },
  {
   "cell_type": "markdown",
   "metadata": {},
   "source": [
    "**1\\. Identify (1) the value of the variable `x` and (2) the result of `type(x)` after each command:**"
   ]
  },
  {
   "cell_type": "markdown",
   "metadata": {},
   "source": [
    "1a. `x = 5.0*int(2)`"
   ]
  },
  {
   "cell_type": "markdown",
   "metadata": {},
   "source": [
    "1b. `x = 3 == 5`"
   ]
  },
  {
   "cell_type": "markdown",
   "metadata": {},
   "source": [
    "**2\\. Suppose `grade` is a variable that has been given a numeric value. Write a multibranch if-else statement that prints the word `Great` if grade is greater than 85, prints `Help!` if grade is less that 70, and prints `Passing` if grade is any other number. You do not need to write a function, just the if-else statement.**\n"
   ]
  },
  {
   "cell_type": "markdown",
   "metadata": {},
   "source": [
    "**3\\. Write a Python for-loop to print out the numbers:**  \n",
    "0  \n",
    "2  \n",
    "4  \n",
    "6  \n",
    "8  \n",
    "10  \n"
   ]
  },
  {
   "cell_type": "markdown",
   "metadata": {
    "collapsed": true
   },
   "source": [
    "**4\\. Write a Python while-loop to print out the numbers:**  \n",
    "10  \n",
    "20  \n",
    "30  \n",
    "40  \n",
    "50  "
   ]
  },
  {
   "cell_type": "code",
   "execution_count": null,
   "metadata": {
    "collapsed": true
   },
   "outputs": [],
   "source": []
  }
 ],
 "metadata": {
  "anaconda-cloud": {},
  "kernelspec": {
   "display_name": "Python [default]",
   "language": "python",
   "name": "python3"
  },
  "language_info": {
   "codemirror_mode": {
    "name": "ipython",
    "version": 3
   },
   "file_extension": ".py",
   "mimetype": "text/x-python",
   "name": "python",
   "nbconvert_exporter": "python",
   "pygments_lexer": "ipython3",
   "version": "3.5.2"
  }
 },
 "nbformat": 4,
 "nbformat_minor": 1
}
