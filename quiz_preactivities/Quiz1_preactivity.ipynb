{
 "cells": [
  {
   "cell_type": "markdown",
   "metadata": {},
   "source": [
    "# Unit 1: Programming Basics\n",
    "## Quiz 1 Review"
   ]
  },
  {
   "cell_type": "markdown",
   "metadata": {},
   "source": [
    "You will be taking the first quiz on paper, individually, in class on February 1. It is closed-book, closed-notes, and closed-computer."
   ]
  },
  {
   "cell_type": "markdown",
   "metadata": {},
   "source": [
    "The quiz will cover all Python concepts covered in Lessons 1 and 2, including:\n",
    "- calling built-in Python functions\n",
    "- calling Python functions from the math module\n",
    "- defining functions with arguments and return values\n",
    "- tracing variable values and predicting code output"
   ]
  },
  {
   "cell_type": "markdown",
   "metadata": {},
   "source": [
    "### Pre-Activity Questions"
   ]
  },
  {
   "cell_type": "markdown",
   "metadata": {},
   "source": [
    "You should consider doing this entire pre-activity **without** running the code in a Pyton code cell, to better duplicate your experience on the quiz."
   ]
  },
  {
   "cell_type": "markdown",
   "metadata": {},
   "source": [
    "**1\\. For each following Python symbol, describe the meaning of the symbol and show a context in which it is used:**"
   ]
  },
  {
   "cell_type": "markdown",
   "metadata": {
    "collapsed": true
   },
   "source": [
    "1a. . (a period)"
   ]
  },
  {
   "cell_type": "markdown",
   "metadata": {},
   "source": [
    "1b. tab"
   ]
  },
  {
   "cell_type": "markdown",
   "metadata": {},
   "source": [
    "**2\\. The following lines of Python has an error and will not run. Explain (or fix) the error.**\n",
    "<pre>\n",
    "angle = math.cos(math.pi)\n",
    "</pre>"
   ]
  },
  {
   "cell_type": "markdown",
   "metadata": {
    "collapsed": true
   },
   "source": [
    "**3\\. Trace the value of the variable** angle ** after running the following code (show all intermediate values for full credit.**\n",
    "<pre>\n",
    "angle = 360\n",
    "angle = angle/180.0 * 3.14\n",
    "</pre>"
   ]
  }
 ],
 "metadata": {
  "anaconda-cloud": {},
  "kernelspec": {
   "display_name": "Python 3",
   "language": "python",
   "name": "python3"
  },
  "language_info": {
   "codemirror_mode": {
    "name": "ipython",
    "version": 3
   },
   "file_extension": ".py",
   "mimetype": "text/x-python",
   "name": "python",
   "nbconvert_exporter": "python",
   "pygments_lexer": "ipython3",
   "version": "3.5.2"
  }
 },
 "nbformat": 4,
 "nbformat_minor": 1
}
