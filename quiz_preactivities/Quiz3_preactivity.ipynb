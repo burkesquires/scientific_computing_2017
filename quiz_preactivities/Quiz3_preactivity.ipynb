{
 "cells": [
  {
   "cell_type": "markdown",
   "metadata": {
    "collapsed": true
   },
   "source": [
    "# Unit 2: Programming Design\n",
    "## Quiz 3 Review"
   ]
  },
  {
   "cell_type": "markdown",
   "metadata": {},
   "source": [
    "You will be taking the third quiz on paper, individually, in class on Wednesday, March 1. It is closed-book, closed-notes, and closed-computer."
   ]
  },
  {
   "cell_type": "markdown",
   "metadata": {},
   "source": [
    "The quiz will cover all Python concepts covered in Lessons 1-10, including:\n",
    "\n",
    "- for-loops \n",
    "- while-loops\n",
    "- nested loops\n",
    "- Boolean expressions\n",
    "- debugging\n",
    "- lists\n",
    "- strings"
   ]
  },
  {
   "cell_type": "markdown",
   "metadata": {},
   "source": [
    "### Pre-Activity Questions"
   ]
  },
  {
   "cell_type": "markdown",
   "metadata": {},
   "source": [
    "You should consider doing this entire pre-activity **without** running the code in a Pyton code cell, to better duplicate your experience on the quiz."
   ]
  },
  {
   "cell_type": "markdown",
   "metadata": {},
   "source": [
    "**1\\.** For each of the following Boolean expressions, predict the output using the variable assignments below:\n",
    "```python\n",
    "a, b, c = 3, 4, 5\n",
    "```"
   ]
  },
  {
   "cell_type": "markdown",
   "metadata": {},
   "source": [
    "**1a.**  `a<b and b>c`"
   ]
  },
  {
   "cell_type": "markdown",
   "metadata": {},
   "source": [
    "**1b.**  `a<b or b>c`"
   ]
  },
  {
   "cell_type": "markdown",
   "metadata": {},
   "source": [
    "**1c.** `a>b or not a>c and b>c`"
   ]
  },
  {
   "cell_type": "markdown",
   "metadata": {},
   "source": [
    "**1d.** `a<b and not b>c or a<c`"
   ]
  },
  {
   "cell_type": "markdown",
   "metadata": {},
   "source": [
    "**2\\.** Predict the output of these nested loops:\n",
    "```python\n",
    "for i in range(3,0,-1):\n",
    "    print(\"for i =\",i)\n",
    "    for j in range(i):\n",
    "        print(\"for j =\",j,\"and i=\",i)\n",
    "print(\"loops done!\")\n",
    "```\n",
    "(_**Remember** on the quiz it will be on paper!_)"
   ]
  },
  {
   "cell_type": "markdown",
   "metadata": {},
   "source": []
  },
  {
   "cell_type": "markdown",
   "metadata": {},
   "source": [
    "**3a.** What's wrong with this `while` loop? Discuss both the error in the code and the result of running the code as shown.\n",
    "```python\n",
    "n = 0\n",
    "while n<1:\n",
    "    print(n+0.2)\n",
    "```"
   ]
  },
  {
   "cell_type": "markdown",
   "metadata": {},
   "source": []
  },
  {
   "cell_type": "markdown",
   "metadata": {},
   "source": [
    "**3b.** Fix it so that it will run and produce the output below:\n",
    "```\n",
    "0\n",
    "0.2\n",
    "0.4\n",
    "0.6\n",
    "0.8\n",
    "```"
   ]
  },
  {
   "cell_type": "markdown",
   "metadata": {},
   "source": []
  },
  {
   "cell_type": "markdown",
   "metadata": {},
   "source": [
    "**3c.** Explain how you would debug the loop if it didn't produce the output you wanted."
   ]
  },
  {
   "cell_type": "markdown",
   "metadata": {},
   "source": []
  },
  {
   "cell_type": "markdown",
   "metadata": {
    "collapsed": true
   },
   "source": [
    "**4\\.**  Assume you have the following list in memory:\n",
    "```python\n",
    "quiz_list = [5,2,4,6,4]\n",
    "```\n",
    "Predict the output of each of the following lines of code (assume they are run in order):"
   ]
  },
  {
   "cell_type": "markdown",
   "metadata": {
    "collapsed": true
   },
   "source": [
    "**4a.** `quiz_list[3]`"
   ]
  },
  {
   "cell_type": "markdown",
   "metadata": {},
   "source": [
    "**4b.** `quiz_list.sort()`"
   ]
  },
  {
   "cell_type": "markdown",
   "metadata": {},
   "source": [
    "**4c.** `quiz_list[4]`"
   ]
  },
  {
   "cell_type": "markdown",
   "metadata": {},
   "source": [
    "**5.** Assume you have the following string in memory:\n",
    "```python\n",
    "dna = 'GACTACGATGCATGCA'\n",
    "```\n",
    "Predict the output of each of the following lines of code (assume the are run in order):"
   ]
  },
  {
   "cell_type": "markdown",
   "metadata": {},
   "source": [
    "**5a.** `dna[4:9]`"
   ]
  },
  {
   "cell_type": "markdown",
   "metadata": {},
   "source": [
    "**5b.** this one is two lines, predict the outcome after both are run in order:\n",
    "```python\n",
    "glue = ''\n",
    "glue.join([dna, dna[0:2]])\n",
    "```"
   ]
  },
  {
   "cell_type": "markdown",
   "metadata": {},
   "source": []
  }
 ],
 "metadata": {
  "anaconda-cloud": {},
  "kernelspec": {
   "display_name": "Python [default]",
   "language": "python",
   "name": "python3"
  },
  "language_info": {
   "codemirror_mode": {
    "name": "ipython",
    "version": 3
   },
   "file_extension": ".py",
   "mimetype": "text/x-python",
   "name": "python",
   "nbconvert_exporter": "python",
   "pygments_lexer": "ipython3",
   "version": "3.5.2"
  }
 },
 "nbformat": 4,
 "nbformat_minor": 1
}
